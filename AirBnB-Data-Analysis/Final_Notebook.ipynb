{
 "cells": [
  {
   "cell_type": "markdown",
   "metadata": {},
   "source": [
    "# AirBnB Prices Analysis and Prediction\n",
    "\n",
    "Problem Statement: To predict the AirBnB prices closest to the real time prices.\n",
    "\n",
    "Let us start off by importing the data and the necessary packages"
   ]
  },
  {
   "cell_type": "code",
   "execution_count": 1,
   "metadata": {},
   "outputs": [],
   "source": [
    "#Uncomment the commands below for Linux based Oses\n",
    "# !python -m pip install vaderSentiment\n",
    "# !python -m pip install xgboost\n",
    "# !python -m pip install nltk\n",
    "\n",
    "#Uncomment the commands below for Unix based Oses\n",
    "# !pip install vaderSentiment\n",
    "# !pip isntall xgboost\n",
    "# !pip install nltk\n",
    "\n",
    "# Load required libraries and datasets\n",
    "from vaderSentiment.vaderSentiment import SentimentIntensityAnalyzer\n",
    "from sklearn.model_selection import train_test_split, cross_val_score, KFold\n",
    "from sklearn.ensemble import RandomForestRegressor \n",
    "from sklearn.preprocessing import MinMaxScaler\n",
    "import numpy as np\n",
    "import pandas as pd\n",
    "import seaborn as sns\n",
    "import matplotlib.pyplot as plt\n",
    "import xgboost as xgb\n",
    "import nltk\n",
    "from nltk.corpus import stopwords\n",
    "import warnings\n",
    "warnings.filterwarnings(\"ignore\", category=DeprecationWarning)\n",
    "\n",
    "#uncomment to download this package\n",
    "# nltk.download('stopwords')  "
   ]
  },
  {
   "cell_type": "code",
   "execution_count": 3,
   "metadata": {},
   "outputs": [],
   "source": [
    "#Replace the path with the path to the file\n",
    "path = \"C:\\\\Users\\\\revedala\\\\Desktop\\\\CaseStudy\\\\\"\n",
    "train = pd.read_csv(path + \"train.csv\")\n",
    "test = pd.read_csv(path + \"test.csv\")"
   ]
  },
  {
   "cell_type": "code",
   "execution_count": 4,
   "metadata": {},
   "outputs": [
    {
     "data": {
      "text/plain": [
       "(74111, 29)"
      ]
     },
     "execution_count": 4,
     "metadata": {},
     "output_type": "execute_result"
    }
   ],
   "source": [
    "train.shape"
   ]
  },
  {
   "cell_type": "markdown",
   "metadata": {},
   "source": [
    "From the above, we can see that there are 29 features(including the target column). We have to pick out the best features to ensure that the model isnt overfitted. But before we do that, let us look at the spread of the data."
   ]
  },
  {
   "cell_type": "markdown",
   "metadata": {},
   "source": [
    "## Data Understanding\n",
    "\n",
    "### Missing Value Analysis\n",
    "This is the most important step to help us understand the importance of the data. Let us first do an analysis of the missing values and see if any of the columns have significant number of missing values\n",
    "\n",
    "#### Training Data:"
   ]
  },
  {
   "cell_type": "code",
   "execution_count": 5,
   "metadata": {},
   "outputs": [
    {
     "data": {
      "text/plain": [
       "id                         0.000000\n",
       "log_price                  0.000000\n",
       "property_type              0.000000\n",
       "room_type                  0.000000\n",
       "amenities                  0.000000\n",
       "accommodates               0.000000\n",
       "bathrooms                  0.269865\n",
       "bed_type                   0.000000\n",
       "cancellation_policy        0.000000\n",
       "cleaning_fee               0.000000\n",
       "city                       0.000000\n",
       "description                0.000000\n",
       "first_review              21.405729\n",
       "host_has_profile_pic       0.253674\n",
       "host_identity_verified     0.253674\n",
       "host_response_rate        24.691341\n",
       "host_since                 0.253674\n",
       "instant_bookable           0.000000\n",
       "last_review               21.355804\n",
       "latitude                   0.000000\n",
       "longitude                  0.000000\n",
       "name                       0.000000\n",
       "neighbourhood              9.272578\n",
       "number_of_reviews          0.000000\n",
       "review_scores_rating      22.563452\n",
       "thumbnail_url             11.086074\n",
       "zipcode                    1.303450\n",
       "bedrooms                   0.122789\n",
       "beds                       0.176762\n",
       "dtype: float64"
      ]
     },
     "execution_count": 5,
     "metadata": {},
     "output_type": "execute_result"
    }
   ],
   "source": [
    "((train.isnull().sum()/len(train.index))*100)"
   ]
  },
  {
   "cell_type": "markdown",
   "metadata": {},
   "source": [
    "From the above, none of the columns have a null value percentage above 25% and hence we dont need to drop any of the columns. We can drop the records from columns where the percentage is less than 5%"
   ]
  },
  {
   "cell_type": "code",
   "execution_count": 6,
   "metadata": {},
   "outputs": [],
   "source": [
    "percentage = (train.isnull().sum()/len(train.index))*100\n",
    "drop_na = percentage[((percentage>0) & (percentage<5))].index.to_list()\n",
    "train = train.dropna(subset=drop_na)"
   ]
  },
  {
   "cell_type": "code",
   "execution_count": 7,
   "metadata": {},
   "outputs": [
    {
     "data": {
      "text/plain": [
       "['first_review',\n",
       " 'host_response_rate',\n",
       " 'last_review',\n",
       " 'neighbourhood',\n",
       " 'review_scores_rating',\n",
       " 'thumbnail_url']"
      ]
     },
     "execution_count": 7,
     "metadata": {},
     "output_type": "execute_result"
    }
   ],
   "source": [
    "train.isnull().sum()[train.isnull().sum()>0].index.to_list()"
   ]
  },
  {
   "cell_type": "markdown",
   "metadata": {},
   "source": [
    "The date columns(`first_reveiew`, `last_review`) are handled in the Date Analysis segment. The `host_response_rate` is also handled below. For review_scores_rating, let us look at the different metrics"
   ]
  },
  {
   "cell_type": "code",
   "execution_count": 8,
   "metadata": {},
   "outputs": [
    {
     "data": {
      "text/plain": [
       "count    56320.000000\n",
       "mean        94.071307\n",
       "std          7.813483\n",
       "min         20.000000\n",
       "25%         92.000000\n",
       "50%         96.000000\n",
       "75%        100.000000\n",
       "max        100.000000\n",
       "Name: review_scores_rating, dtype: float64"
      ]
     },
     "execution_count": 8,
     "metadata": {},
     "output_type": "execute_result"
    }
   ],
   "source": [
    "train['review_scores_rating'].describe()"
   ]
  },
  {
   "cell_type": "code",
   "execution_count": 9,
   "metadata": {},
   "outputs": [
    {
     "data": {
      "text/plain": [
       "<matplotlib.axes._subplots.AxesSubplot at 0x27b842f0ac8>"
      ]
     },
     "execution_count": 9,
     "metadata": {},
     "output_type": "execute_result"
    },
    {
     "data": {
      "image/png": "[encoded data removed]",
      "text/plain": [
       "<Figure size 2880x648 with 2 Axes>"
      ]
     },
     "metadata": {
      "needs_background": "light"
     },
     "output_type": "display_data"
    }
   ],
   "source": [
    "plt.figure(figsize=(40,9))\n",
    "plt.subplot(2,1,1)\n",
    "train['review_scores_rating'].hist()\n",
    "plt.subplot(2,1,2)\n",
    "train['host_response_rate'].hist()\n",
    "#let us randomize the imputing by using the interpolate function"
   ]
  },
  {
   "cell_type": "markdown",
   "metadata": {},
   "source": [
    "The percentage of rows with null values greater than 5 is negligable. Lets just drop these records as they wouldnt contribute to the analysis. Let us also drop the `id` feature since it doesnt contribute to any form of analysis"
   ]
  },
  {
   "cell_type": "code",
   "execution_count": 10,
   "metadata": {},
   "outputs": [],
   "source": [
    "train = train[train.isnull().sum(axis=1)<=5]\n",
    "train.drop(['id'],inplace=True,axis=1)"
   ]
  },
  {
   "cell_type": "markdown",
   "metadata": {},
   "source": [
    "#### Test Data:"
   ]
  },
  {
   "cell_type": "code",
   "execution_count": 11,
   "metadata": {},
   "outputs": [
    {
     "data": {
      "text/plain": [
       "id                         0.000000\n",
       "property_type              0.000000\n",
       "room_type                  0.000000\n",
       "amenities                  0.000000\n",
       "accommodates               0.000000\n",
       "bathrooms                  0.310315\n",
       "bed_type                   0.000000\n",
       "cancellation_policy        0.000000\n",
       "cleaning_fee               0.000000\n",
       "city                       0.000000\n",
       "description                0.054993\n",
       "first_review              21.352816\n",
       "host_has_profile_pic       0.216042\n",
       "host_identity_verified     0.216042\n",
       "host_response_rate        24.770210\n",
       "host_since                 0.216042\n",
       "instant_bookable           0.000000\n",
       "last_review               21.309608\n",
       "latitude                   0.000000\n",
       "longitude                  0.000000\n",
       "name                       0.019640\n",
       "neighbourhood              9.682615\n",
       "number_of_reviews          0.000000\n",
       "review_scores_rating      22.456595\n",
       "thumbnail_url             11.230262\n",
       "zipcode                    1.260900\n",
       "bedrooms                   0.109985\n",
       "beds                       0.180690\n",
       "dtype: float64"
      ]
     },
     "execution_count": 11,
     "metadata": {},
     "output_type": "execute_result"
    }
   ],
   "source": [
    "(test.isnull().sum()/len(test.index))*100"
   ]
  },
  {
   "cell_type": "markdown",
   "metadata": {},
   "source": [
    "The majority of the null values are handled in the upcoming sections. We will interpolate it with the nearest just before prediction to ensure that most the rest of the smaller missing values are imputed"
   ]
  },
  {
   "cell_type": "markdown",
   "metadata": {},
   "source": [
    "### Categorical Features Analysis\n",
    "There are multiple categorical columns in the dataset. Let us see how they are spread across different categories"
   ]
  },
  {
   "cell_type": "code",
   "execution_count": 12,
   "metadata": {},
   "outputs": [
    {
     "name": "stdout",
     "output_type": "stream",
     "text": [
      "<class 'pandas.core.frame.DataFrame'>\n",
      "Int64Index: 72539 entries, 0 to 74110\n",
      "Data columns (total 28 columns):\n",
      "log_price                 72539 non-null float64\n",
      "property_type             72539 non-null object\n",
      "room_type                 72539 non-null object\n",
      "amenities                 72539 non-null object\n",
      "accommodates              72539 non-null int64\n",
      "bathrooms                 72539 non-null float64\n",
      "bed_type                  72539 non-null object\n",
      "cancellation_policy       72539 non-null object\n",
      "cleaning_fee              72539 non-null bool\n",
      "city                      72539 non-null object\n",
      "description               72539 non-null object\n",
      "first_review              57153 non-null object\n",
      "host_has_profile_pic      72539 non-null object\n",
      "host_identity_verified    72539 non-null object\n",
      "host_response_rate        54905 non-null object\n",
      "host_since                72539 non-null object\n",
      "instant_bookable          72539 non-null object\n",
      "last_review               57184 non-null object\n",
      "latitude                  72539 non-null float64\n",
      "longitude                 72539 non-null float64\n",
      "name                      72539 non-null object\n",
      "neighbourhood             66168 non-null object\n",
      "number_of_reviews         72539 non-null int64\n",
      "review_scores_rating      56320 non-null float64\n",
      "thumbnail_url             64609 non-null object\n",
      "zipcode                   72539 non-null object\n",
      "bedrooms                  72539 non-null float64\n",
      "beds                      72539 non-null float64\n",
      "dtypes: bool(1), float64(7), int64(2), object(18)\n",
      "memory usage: 15.6+ MB\n",
      "None\n"
     ]
    }
   ],
   "source": [
    "print(train.info())"
   ]
  },
  {
   "cell_type": "markdown",
   "metadata": {},
   "source": [
    "#### Property Type\n",
    "Let us see how the values are spread across the property type and make necessary changes"
   ]
  },
  {
   "cell_type": "code",
   "execution_count": 13,
   "metadata": {},
   "outputs": [
    {
     "data": {
      "text/plain": [
       "Apartment             47897\n",
       "House                 16205\n",
       "Condominium            2619\n",
       "Townhouse              1661\n",
       "Loft                   1216\n",
       "Other                   593\n",
       "Guesthouse              490\n",
       "Bed & Breakfast         452\n",
       "Bungalow                359\n",
       "Villa                   176\n",
       "Dorm                    134\n",
       "Guest suite             121\n",
       "Camper/RV                93\n",
       "Timeshare                76\n",
       "Cabin                    70\n",
       "In-law                   70\n",
       "Hostel                   69\n",
       "Boutique hotel           68\n",
       "Boat                     63\n",
       "Serviced apartment       21\n",
       "Tent                     18\n",
       "Castle                   13\n",
       "Vacation home            11\n",
       "Yurt                      9\n",
       "Hut                       8\n",
       "Treehouse                 7\n",
       "Chalet                    6\n",
       "Earth House               4\n",
       "Tipi                      3\n",
       "Cave                      2\n",
       "Train                     2\n",
       "Island                    1\n",
       "Casa particular           1\n",
       "Lighthouse                1\n",
       "Name: property_type, dtype: int64"
      ]
     },
     "execution_count": 13,
     "metadata": {},
     "output_type": "execute_result"
    }
   ],
   "source": [
    "train['property_type'].astype('category').value_counts()"
   ]
  },
  {
   "cell_type": "markdown",
   "metadata": {},
   "source": [
    "From the above, it is clear that majority of the property_types are present in the first 6 types given above. We can consider rest of them to fall under the category of `others`"
   ]
  },
  {
   "cell_type": "code",
   "execution_count": 14,
   "metadata": {},
   "outputs": [],
   "source": [
    "accepted_properties = train['property_type'].astype('category').value_counts()[:5].index.to_list()\n",
    "def change_type(value):\n",
    "    if value in accepted_properties:\n",
    "        return value\n",
    "    else:\n",
    "        return 'Other'\n",
    "train['property_type'] = train['property_type'].apply(lambda x: change_type(x))\n",
    "\n",
    "#Replicate the same for the test data\n",
    "test['property_type'] = test['property_type'].apply(lambda x: change_type(x))"
   ]
  },
  {
   "cell_type": "code",
   "execution_count": 15,
   "metadata": {},
   "outputs": [
    {
     "data": {
      "text/plain": [
       "<matplotlib.axes._subplots.AxesSubplot at 0x27b843084c8>"
      ]
     },
     "execution_count": 15,
     "metadata": {},
     "output_type": "execute_result"
    },
    {
     "data": {
      "image/png": "[encoded data removed]",
      "text/plain": [
       "<Figure size 1152x648 with 1 Axes>"
      ]
     },
     "metadata": {
      "needs_background": "light"
     },
     "output_type": "display_data"
    }
   ],
   "source": [
    "property_final = train['property_type'].astype('category').value_counts()\n",
    "plt.figure(figsize=(16,9))\n",
    "plt.xticks(rotation=45)\n",
    "sns.barplot(property_final.index, property_final.values)"
   ]
  },
  {
   "cell_type": "markdown",
   "metadata": {},
   "source": [
    "#### Room Type\n",
    "Let us see how the different categories of Room type are spread"
   ]
  },
  {
   "cell_type": "code",
   "execution_count": 16,
   "metadata": {},
   "outputs": [
    {
     "data": {
      "text/plain": [
       "<matplotlib.axes._subplots.AxesSubplot at 0x27b84490a48>"
      ]
     },
     "execution_count": 16,
     "metadata": {},
     "output_type": "execute_result"
    },
    {
     "data": {
      "image/png": "[encoded data removed]",
      "text/plain": [
       "<Figure size 1152x648 with 1 Axes>"
      ]
     },
     "metadata": {
      "needs_background": "light"
     },
     "output_type": "display_data"
    }
   ],
   "source": [
    "room_type = train['room_type'].astype('category').value_counts()\n",
    "plt.figure(figsize=(16,9))\n",
    "plt.xticks(rotation=45)\n",
    "sns.barplot(room_type.index, room_type.values)"
   ]
  },
  {
   "cell_type": "markdown",
   "metadata": {},
   "source": [
    "#### Amenities\n",
    "Since this is a dictionary. It has to be pre-processed a little. Let us also create a new feature which keeps a track of the number of amenities in a particular AirBnB. The assumptions we are making here is that there must be some kind of relationship between the number of amenities offered and the price of the AirBnB"
   ]
  },
  {
   "cell_type": "code",
   "execution_count": 17,
   "metadata": {},
   "outputs": [],
   "source": [
    "train['amenities'] = train['amenities'].apply(lambda x:x.strip(\"'{\").strip(\"}\").replace('\"','').split(','))\n",
    "test['amenities'] = test['amenities'].apply(lambda x:x.strip(\"'{\").strip(\"}\").replace('\"','').split(','))\n",
    "amenities_set = set(word for row in train['amenities'] for word in row )\n",
    "amenities_set_test = set(word for row in test['amenities'] for word in row )"
   ]
  },
  {
   "cell_type": "code",
   "execution_count": 18,
   "metadata": {},
   "outputs": [],
   "source": [
    "#Removing the unnecessary values\n",
    "unnecessary_values = ['translation missing: en.hosting_amenity_49','translation missing: en.hosting_amenity_50','']\n",
    "def remove_amenity(list_amenity):\n",
    "    for amenity in list_amenity:\n",
    "        if amenity in unnecessary_values:\n",
    "            list_amenity.remove(amenity)\n",
    "    return list_amenity\n",
    "\n",
    "train['amenities'] = train['amenities'].apply(lambda x:remove_amenity(x))\n",
    "test['amenities'] = test['amenities'].apply(lambda x:remove_amenity(x))\n",
    "train['no_of_amenities'] = train['amenities'].apply(lambda x: len(x))\n",
    "test['no_of_amenities'] = test['amenities'].apply(lambda x: len(x))"
   ]
  },
  {
   "cell_type": "markdown",
   "metadata": {},
   "source": [
    "#### City\n",
    "Let us see the different categories of cities. An indepth analysis has been done on Tableau and presented in the deck"
   ]
  },
  {
   "cell_type": "code",
   "execution_count": 19,
   "metadata": {},
   "outputs": [
    {
     "data": {
      "text/plain": [
       "<matplotlib.axes._subplots.AxesSubplot at 0x27b840a9e48>"
      ]
     },
     "execution_count": 19,
     "metadata": {},
     "output_type": "execute_result"
    },
    {
     "data": {
      "image/png": "[encoded data removed]",
      "text/plain": [
       "<Figure size 1152x648 with 1 Axes>"
      ]
     },
     "metadata": {
      "needs_background": "light"
     },
     "output_type": "display_data"
    }
   ],
   "source": [
    "city_count = train['city'].astype('category').value_counts()\n",
    "plt.figure(figsize=(16,9))\n",
    "plt.xticks(rotation=45)\n",
    "sns.barplot(city_count.index, city_count.values)"
   ]
  },
  {
   "cell_type": "markdown",
   "metadata": {},
   "source": [
    "Most people pick up AirBnB's based on its proximity to major parts of the city. Here we consider distance from the center of the city and the airport. The coordinates for these were taken off the internet"
   ]
  },
  {
   "cell_type": "code",
   "execution_count": 20,
   "metadata": {},
   "outputs": [],
   "source": [
    "#Coordinates for the two landmarks\n",
    "center_map = {\"NYC\":[40.730610,-73.935242],\"SF\":[37.773972, -122.431297],\"DC\":[38.889931,-77.009003],\"LA\":[34.052235, -118.243683],\"Chicago\":[41.881832, -87.623177],\"Boston\":[42.361145, -71.057083]}\n",
    "airport_map = {\"Boston\":[42.366978,-71.022362],\"NYC\":[40.6413111,-73.7781391],\"SF\":[37.615223, -122.389977],\"DC\":[38.9534,-77.4477],\"LA\":[33.942791, -118.410042],\"Chicago\":[41.977226, -87.836723]}\n",
    "\n",
    "#Creating features in the train dataset\n",
    "train['center_lat'] = train['city'].apply(lambda x: center_map[x][0])\n",
    "train['air_lat'] = train['city'].apply(lambda x: airport_map[x][0])\n",
    "train['center_long'] = train['city'].apply(lambda x: center_map[x][1])\n",
    "train['air_long'] = train['city'].apply(lambda x: airport_map[x][1])\n",
    "train['distance_to_center'] = np.sqrt((train['center_lat'] - train['latitude'])**2 + (train['center_long'] - train['longitude'])**2)\n",
    "train['distance_to_airport'] = np.sqrt((train['air_lat'] - train['latitude'])**2 + (train['air_long'] - train['longitude'])**2)\n",
    "\n",
    "\n",
    "#Creating the features in the test dataset\n",
    "test['center_lat'] = test['city'].apply(lambda x: center_map[x][0])\n",
    "test['air_lat'] = test['city'].apply(lambda x: airport_map[x][0])\n",
    "test['center_long'] = test['city'].apply(lambda x: center_map[x][1])\n",
    "test['air_long'] = test['city'].apply(lambda x: airport_map[x][1])\n",
    "test['distance_to_center'] = np.sqrt((test['center_lat'] - test['latitude'])**2 + (test['center_long'] - test['longitude'])**2)\n",
    "test['distance_to_airport'] = np.sqrt((test['air_lat'] - test['latitude'])**2 + (test['air_long'] - test['longitude'])**2)"
   ]
  },
  {
   "cell_type": "markdown",
   "metadata": {},
   "source": [
    "#### Bed Type\n",
    "\n",
    "Lets see the different types of beds available in our dataset"
   ]
  },
  {
   "cell_type": "code",
   "execution_count": 21,
   "metadata": {},
   "outputs": [
    {
     "data": {
      "text/plain": [
       "<matplotlib.axes._subplots.AxesSubplot at 0x27b9295c6c8>"
      ]
     },
     "execution_count": 21,
     "metadata": {},
     "output_type": "execute_result"
    },
    {
     "data": {
      "image/png": "[encoded data removed]",
      "text/plain": [
       "<Figure size 1152x648 with 1 Axes>"
      ]
     },
     "metadata": {
      "needs_background": "light"
     },
     "output_type": "display_data"
    }
   ],
   "source": [
    "bed_type = train['bed_type'].astype('category').value_counts()\n",
    "plt.figure(figsize=(16,9))\n",
    "plt.xticks(rotation=45)\n",
    "sns.barplot(bed_type.index, bed_type.values)"
   ]
  },
  {
   "cell_type": "markdown",
   "metadata": {},
   "source": [
    "The bed type is also majorily dependent on `Real Bed`. Let us convert all the other categories into `Other Bed`"
   ]
  },
  {
   "cell_type": "code",
   "execution_count": 22,
   "metadata": {},
   "outputs": [],
   "source": [
    "#train data\n",
    "train['bed_type'] = train['bed_type'].apply(lambda x: x if x=='Real Bed' else 'Other Bed')\n",
    "\n",
    "#test data\n",
    "test['bed_type'] = test['bed_type'].apply(lambda x: x if x=='Real Bed' else 'Other Bed')"
   ]
  },
  {
   "cell_type": "code",
   "execution_count": 23,
   "metadata": {},
   "outputs": [
    {
     "data": {
      "text/plain": [
       "<matplotlib.axes._subplots.AxesSubplot at 0x27b9296c948>"
      ]
     },
     "execution_count": 23,
     "metadata": {},
     "output_type": "execute_result"
    },
    {
     "data": {
      "image/png": "[encoded data removed]",
      "text/plain": [
       "<Figure size 1152x648 with 1 Axes>"
      ]
     },
     "metadata": {
      "needs_background": "light"
     },
     "output_type": "display_data"
    }
   ],
   "source": [
    "bed_type = train['bed_type'].astype('category').value_counts()\n",
    "plt.figure(figsize=(16,9))\n",
    "plt.xticks(rotation=45)\n",
    "sns.barplot(bed_type.index, bed_type.values)"
   ]
  },
  {
   "cell_type": "markdown",
   "metadata": {},
   "source": [
    "This still doesnt have equal representation and therefore the model could get biased against real beds. Hence, let us drop this column while training"
   ]
  },
  {
   "cell_type": "code",
   "execution_count": 24,
   "metadata": {},
   "outputs": [
    {
     "data": {
      "text/plain": [
       "strict             31764\n",
       "flexible           21944\n",
       "moderate           18708\n",
       "super_strict_30      107\n",
       "super_strict_60       16\n",
       "Name: cancellation_policy, dtype: int64"
      ]
     },
     "execution_count": 24,
     "metadata": {},
     "output_type": "execute_result"
    }
   ],
   "source": [
    "train['cancellation_policy'].astype('category').value_counts()"
   ]
  },
  {
   "cell_type": "markdown",
   "metadata": {},
   "source": [
    "Since we have very less data on the different strict levels, let us convert them into `super_strict`"
   ]
  },
  {
   "cell_type": "code",
   "execution_count": 25,
   "metadata": {},
   "outputs": [],
   "source": [
    "accepted_cancellation = train['cancellation_policy'].astype('category').value_counts()[:3].index.to_list()\n",
    "def convert_cancellation(value):\n",
    "    if value in accepted_cancellation:\n",
    "        return value\n",
    "    else:\n",
    "        return 'super_strict'\n",
    "#test data\n",
    "train['cancellation_policy'] = train['cancellation_policy'].apply(lambda x: convert_cancellation(x))\n",
    "\n",
    "#test data\n",
    "test['cancellation_policy'] = test['cancellation_policy'].apply(lambda x: convert_cancellation(x))"
   ]
  },
  {
   "cell_type": "markdown",
   "metadata": {},
   "source": [
    "### Incorrectly Typed Features\n",
    "\n",
    "#### Date Columns\n",
    "An initial look at the dataset set part the following columns:\n",
    "\n",
    "- `first_review`\n",
    "- `last_review`\n",
    "- `host_since`\n",
    "\n",
    "These columns were wrongly typed as **object** by python. Let us correct this and while we are at it, create some useful features"
   ]
  },
  {
   "cell_type": "code",
   "execution_count": 26,
   "metadata": {},
   "outputs": [],
   "source": [
    "# train_numeric = pd.get_dummies(train,columns=dummy_column,drop_first=True)\n",
    "train['first_review'] = pd.to_datetime(train['first_review'])\n",
    "train['last_review'] = pd.to_datetime(train['last_review'])\n",
    "\n",
    "#Creating a feature to find out the number of days between the first and last review\n",
    "train['days_between_reviews'] = (train['last_review'] - train['first_review']).dt.days\n",
    "train['days_between_reviews'].fillna(0.0,inplace=True)\n",
    "\n",
    "#Creating a feature to find out the number of the days the AirBnB has been a host for\n",
    "train['host_since'] = pd.to_datetime(train['host_since'])\n",
    "most_dates = pd.to_datetime(train['host_since'].mode())\n",
    "train['host_since'].fillna(most_dates,inplace=True)\n",
    "\n",
    "#Creating a feature to track the number of years since the AirBnB was created\n",
    "current_date = pd.to_datetime(train['host_since'].max())\n",
    "train['years_since_establishment'] = ((current_date - train['host_since']).dt.days)/364.25\n",
    "\n",
    "#Replicating the above on the test data\n",
    "test['first_review'] = pd.to_datetime(test['first_review'])\n",
    "test['last_review'] = pd.to_datetime(test['last_review'])\n",
    "test['days_between_reviews'] = (test['last_review'] - test['first_review']).dt.days\n",
    "test['days_between_reviews'].fillna(0.0,inplace=True)\n",
    "test['host_since'] = pd.to_datetime(test['host_since'])\n",
    "most_dates = pd.to_datetime(test['host_since'].mode())\n",
    "test['host_since'].fillna(most_dates,inplace=True)\n",
    "test['years_since_establishment'] = ((current_date - test['host_since']).dt.days)/364.25"
   ]
  },
  {
   "cell_type": "markdown",
   "metadata": {},
   "source": [
    "Let us derive a few insights from this data"
   ]
  },
  {
   "cell_type": "code",
   "execution_count": 27,
   "metadata": {},
   "outputs": [
    {
     "name": "stderr",
     "output_type": "stream",
     "text": [
      "C:\\Users\\revedala\\AppData\\Local\\Programs\\Python\\Python37\\lib\\site-packages\\ipykernel_launcher.py:2: SettingWithCopyWarning: \n",
      "A value is trying to be set on a copy of a slice from a DataFrame.\n",
      "Try using .loc[row_indexer,col_indexer] = value instead\n",
      "\n",
      "See the caveats in the documentation: http://pandas.pydata.org/pandas-docs/stable/user_guide/indexing.html#returning-a-view-versus-a-copy\n",
      "  \n",
      "C:\\Users\\revedala\\AppData\\Local\\Programs\\Python\\Python37\\lib\\site-packages\\ipykernel_launcher.py:4: SettingWithCopyWarning: \n",
      "A value is trying to be set on a copy of a slice from a DataFrame.\n",
      "Try using .loc[row_indexer,col_indexer] = value instead\n",
      "\n",
      "See the caveats in the documentation: http://pandas.pydata.org/pandas-docs/stable/user_guide/indexing.html#returning-a-view-versus-a-copy\n",
      "  after removing the cwd from sys.path.\n"
     ]
    },
    {
     "data": {
      "text/plain": [
       "Text(0, 0.5, 'Price')"
      ]
     },
     "execution_count": 27,
     "metadata": {},
     "output_type": "execute_result"
    },
    {
     "data": {
      "image/png": "[encoded data removed]",
      "text/plain": [
       "<Figure size 1152x648 with 2 Axes>"
      ]
     },
     "metadata": {
      "needs_background": "light"
     },
     "output_type": "display_data"
    }
   ],
   "source": [
    "train_date_analysis = train[['first_review','last_review','host_since','log_price','city','years_since_establishment']]\n",
    "train_date_analysis['year_of_establishment'] = train_date_analysis['host_since'].dt.year\n",
    "dayOfWeek={0:'Monday', 1:'Tuesday', 2:'Wednesday', 3:'Thursday', 4:'Friday', 5:'Saturday', 6:'Sunday'}\n",
    "train_date_analysis['day'] = train_date_analysis['host_since'].dt.dayofweek.map(dayOfWeek)\n",
    "\n",
    "#Lets see how the price changes based on the years since establishment for every city\n",
    "plt.figure(figsize=(16,9))\n",
    "plt.subplot(2,1,1)\n",
    "plt.title('City wise yearly and weekly price distribution')\n",
    "sns.lineplot(x='year_of_establishment', y='log_price', hue='city', data=train_date_analysis)\n",
    "plt.xlabel('Price')\n",
    "plt.ylabel('Years')\n",
    "\n",
    "plt.subplot(2,1,2)\n",
    "sns.boxplot(x='city',y='log_price',palette=\"Set3\",data=train_date_analysis,hue='day')\n",
    "plt.xlabel('City')\n",
    "plt.ylabel('Price')"
   ]
  },
  {
   "cell_type": "markdown",
   "metadata": {},
   "source": [
    "An indepth city-wise price-time analysis has been done using Tableau in the presentation deck"
   ]
  },
  {
   "cell_type": "markdown",
   "metadata": {},
   "source": [
    "#### ZipCode \n",
    "The zipcodes have to be cleaned out a little and necessary imputations have to be made"
   ]
  },
  {
   "cell_type": "code",
   "execution_count": 28,
   "metadata": {},
   "outputs": [],
   "source": [
    "# Train dataset\n",
    "train['zipcode'].fillna('0',inplace=True)\n",
    "train['zipcode'].apply(lambda x: str(x) if type(x)!=str else x)\n",
    "train['zipcode'] = train['zipcode'].apply(lambda x: x.replace('\\r',\"\"))\n",
    "train['zipcode'] = train['zipcode'].apply(lambda x: x.replace('\\n',\"\"))\n",
    "train['zipcode'] = train['zipcode'].apply(lambda x: x if len(x)==5 else '0')\n",
    "train['zipcode'] = train['zipcode'].apply(lambda x: '0' if x==\" \" else x)\n",
    "train['zipcode'] = train['zipcode'].apply(lambda x: 0 if \"-\" in str(x) else x)\n",
    "train['zipcode'] = pd.to_numeric(train['zipcode'])\n",
    "\n",
    "\n",
    "# Test Dataset\n",
    "test['zipcode'].fillna('0',inplace=True)\n",
    "test['zipcode'].apply(lambda x: str(x) if type(x)!=str else x)\n",
    "test['zipcode'] = test['zipcode'].apply(lambda x: x.replace('\\r',\"\"))\n",
    "test['zipcode'] = test['zipcode'].apply(lambda x: x.replace('\\n',\"\"))\n",
    "test['zipcode'] = test['zipcode'].apply(lambda x: x if len(x)==5 else '0')\n",
    "test['zipcode'] = test['zipcode'].apply(lambda x: '0' if x==\" \" else x)\n",
    "test['zipcode'] = test['zipcode'].apply(lambda x: 0 if \"-\" in str(x) else x)\n",
    "test['zipcode'] = pd.to_numeric(test['zipcode'])"
   ]
  },
  {
   "cell_type": "markdown",
   "metadata": {},
   "source": [
    "After some analysis using Tableau(explained in the deck), I was able to find some wrongly labelled zipcodes. \n",
    "\n",
    "Labelled = San Fransico\n",
    "`15074`\n",
    "This is the postal code of a county in Pennsylvania.\n",
    "\n",
    "Labelled = Los Angeles\n",
    "`10023`\n",
    "This is the postal code of a county in NYC.\n",
    "\n",
    "Labelled = DC\n",
    "`11238`\n",
    "This is the postal code of a county in Brooklyn(NYC).\n",
    "\n",
    "Labelled = NYC\n",
    "`99135`\n",
    "This is the postal code of a county in DC.\n",
    "\n",
    "Since we arent aware if the coordinates are erroneous or the label, its better to drop the records"
   ]
  },
  {
   "cell_type": "code",
   "execution_count": 29,
   "metadata": {},
   "outputs": [],
   "source": [
    "dropped_pincodes = [15074, 10023, 11238, 99135]\n",
    "train = train[~train.zipcode.isin(dropped_pincodes)]"
   ]
  },
  {
   "cell_type": "code",
   "execution_count": 30,
   "metadata": {},
   "outputs": [],
   "source": [
    "train['review_scores_rating'] = pd.to_numeric(train['review_scores_rating'])\n",
    "train['host_response_rate'] = pd.to_numeric(train['host_response_rate'].apply(lambda x: x.strip('%') if type(x)==str else x))\n",
    "\n",
    "#test\n",
    "test['review_scores_rating'] = pd.to_numeric(test['review_scores_rating'])\n",
    "test['host_response_rate'] = pd.to_numeric(test['host_response_rate'].apply(lambda x: x.strip('%') if type(x)==str else x))\n",
    "\n",
    "\n",
    "train['cleaning_fee'] = train['cleaning_fee'].astype('int64')\n",
    "test['cleaning_fee'] = test['cleaning_fee'].astype('int64')\n",
    "\n",
    "train['review_scores_rating'].interpolate(method='nearest',inplace=True)\n",
    "train['host_response_rate'].interpolate(method='nearest',inplace=True)\n",
    "test['review_scores_rating'].interpolate(method='nearest',inplace=True)\n",
    "test['host_response_rate'].interpolate(method='nearest',inplace=True)"
   ]
  },
  {
   "cell_type": "markdown",
   "metadata": {},
   "source": [
    "### Text Data analysis\n",
    "Let us derive some insights from the texual data\n",
    "\n",
    "\n",
    "#### Description and Name Columns\n",
    "The dataset contains two columns which have textual data. Let us analysis these features and see their correlation to the `log_price`"
   ]
  },
  {
   "cell_type": "code",
   "execution_count": 31,
   "metadata": {},
   "outputs": [],
   "source": [
    "train['description'].fillna('',inplace=True)\n",
    "test['description'].fillna('',inplace=True)"
   ]
  },
  {
   "cell_type": "code",
   "execution_count": 32,
   "metadata": {},
   "outputs": [],
   "source": [
    "stop = stopwords.words('english')"
   ]
  },
  {
   "cell_type": "markdown",
   "metadata": {},
   "source": [
    "Let us remove the punctuations, case senitize the sentences and also remove the stop words"
   ]
  },
  {
   "cell_type": "code",
   "execution_count": 33,
   "metadata": {},
   "outputs": [],
   "source": [
    "#Train\n",
    "train['description'] = train['description'].apply(lambda x: \" \".join(x.lower() for x in x.split()))\n",
    "train['description'] = train['description'].apply(lambda x: \" \".join(x for x in x.split() if x not in stop))\n",
    "train['description'] = train['description'].str.replace('[^\\w\\s]','')\n",
    "\n",
    "#test\n",
    "test['description'] = test['description'].apply(lambda x: \" \".join(x.lower() for x in x.split()))\n",
    "test['description'] = test['description'].apply(lambda x: \" \".join(x for x in x.split() if x not in stop))\n",
    "test['description'] = test['description'].str.replace('[^\\w\\s]','')"
   ]
  },
  {
   "cell_type": "code",
   "execution_count": 34,
   "metadata": {},
   "outputs": [],
   "source": [
    "# train['word_count_description'] = train['description'].str.split().str.len()\n",
    "train['word_count_name'] = train['name'].str.split().str.len()\n",
    "\n",
    "#Test\n",
    "# test['word_count_description'] = test['description'].str.split().str.len()\n",
    "test['word_count_name'] = test['name'].str.split().str.len()"
   ]
  },
  {
   "cell_type": "markdown",
   "metadata": {},
   "source": [
    "Let us also derive the sentiments from the description and see how it effects the prices. A positive description psychologically impacts the viewer and hence attracts him/her to it therefore increasing the demand for it. Hence, the positive score of the description might impact the prediction"
   ]
  },
  {
   "cell_type": "code",
   "execution_count": 35,
   "metadata": {},
   "outputs": [],
   "source": [
    "#this cell takes a while to run\n",
    "analyser = SentimentIntensityAnalyzer()\n",
    "def get_score(sentence):\n",
    "    return analyser.polarity_scores(sentence)\n",
    "train['compound_scores'] = train['description'].apply(lambda x: get_score(x)['compound']*100)\n",
    "train['pos_scores'] = train['description'].apply(lambda x: get_score(x)['pos']*100)\n",
    "test['compound_scores'] = test['description'].apply(lambda x: get_score(x)['compound']*100)\n",
    "test['pos_scores'] = test['description'].apply(lambda x: get_score(x)['pos']*100)"
   ]
  },
  {
   "cell_type": "markdown",
   "metadata": {},
   "source": [
    "Lets export this data for further analysis in Tableau"
   ]
  },
  {
   "cell_type": "code",
   "execution_count": 36,
   "metadata": {},
   "outputs": [],
   "source": [
    "train.to_csv('tableau_train.csv',index=False)"
   ]
  },
  {
   "cell_type": "markdown",
   "metadata": {},
   "source": [
    "## Data Cleaning\n",
    "\n",
    "### Drop Unnecessary Columns\n",
    "Lets drop the unnecessary columns. Most of the features mentioned below either have no logical correlation with the `log_price` or have been used to derive other features. The only column that was left out completely was `neighbourhood`. This column was dropped since it was inconsistent with the test data. The `neighbourhood` values of the test dataset werent a sub set of the train set but instead had new neighbourhoods present. This meant that the model would have to predict on unseen values and hence it was better left out of analysis"
   ]
  },
  {
   "cell_type": "code",
   "execution_count": 37,
   "metadata": {},
   "outputs": [],
   "source": [
    "train.drop(['latitude','longitude','name','description','amenities','neighbourhood','thumbnail_url','host_since','last_review','first_review','center_lat','center_long','bed_type','air_long','air_lat','city'],inplace=True,axis=1)\n",
    "test.drop(['latitude','longitude','name','description','amenities','neighbourhood','thumbnail_url','host_since','last_review','first_review','center_lat','center_long','bed_type','air_long','air_lat','city'],inplace=True,axis=1)"
   ]
  },
  {
   "cell_type": "markdown",
   "metadata": {},
   "source": [
    "Let us separate the numerical columns from the categorical columns to make it easier for us to create dummy features"
   ]
  },
  {
   "cell_type": "code",
   "execution_count": 38,
   "metadata": {},
   "outputs": [],
   "source": [
    "categorical_columns_binary = []\n",
    "categorical_columns = []\n",
    "numeric_columns = []\n",
    "for column in train.columns:\n",
    "    if train[column].dtype==object:\n",
    "        if type(train[column][0])!=list:\n",
    "            if len(train[column].unique())==2:\n",
    "                categorical_columns_binary.append(column)\n",
    "            else:\n",
    "                categorical_columns.append(column)\n",
    "    else:\n",
    "        numeric_columns.append(column)\n",
    "dummy_column = []\n",
    "for column in categorical_columns:\n",
    "    if train[column].dtype!=np.int64 and len(train[column].unique()) in range(2,70):\n",
    "        dummy_column.append(column)\n",
    "        numeric_columns.append(column)\n",
    "for column in categorical_columns_binary:\n",
    "        train[column] = train[column].apply(lambda x:True if x=='t' else False).astype(np.int64)\n",
    "        test[column] = test[column].apply(lambda x:True if x=='t' else False).astype(np.int64)"
   ]
  },
  {
   "cell_type": "markdown",
   "metadata": {},
   "source": [
    "### Creating Dummy Variables\n",
    "Lets create dummy features for all the categorical columns"
   ]
  },
  {
   "cell_type": "code",
   "execution_count": 39,
   "metadata": {},
   "outputs": [],
   "source": [
    "train_numeric = pd.get_dummies(train,columns=dummy_column,drop_first=True)\n",
    "test_numeric = pd.get_dummies(test,columns=dummy_column,drop_first=True)"
   ]
  },
  {
   "cell_type": "markdown",
   "metadata": {},
   "source": [
    "Let us drop the rest of the Nan values since scikit learn models dont handle `null` values automatically"
   ]
  },
  {
   "cell_type": "code",
   "execution_count": 40,
   "metadata": {},
   "outputs": [],
   "source": [
    "train_numeric.fillna(0,inplace=True)\n",
    "test_numeric.fillna(0,inplace=True)"
   ]
  },
  {
   "cell_type": "markdown",
   "metadata": {},
   "source": [
    "### Target Column Separation\n",
    "Lets store `log_price` in a different variable and also store the `id` column of the test dataset in another variable"
   ]
  },
  {
   "cell_type": "code",
   "execution_count": 41,
   "metadata": {},
   "outputs": [],
   "source": [
    "y=train_numeric.pop('log_price')\n",
    "log_ids = test_numeric.pop('id')"
   ]
  },
  {
   "cell_type": "markdown",
   "metadata": {},
   "source": [
    "## Model Building\n",
    "\n",
    "### Train-Test Splits\n",
    "Lets create the test-train splits"
   ]
  },
  {
   "cell_type": "code",
   "execution_count": 42,
   "metadata": {},
   "outputs": [],
   "source": [
    "scaler = MinMaxScaler(feature_range=(0,1))\n",
    "train_numeric = pd.DataFrame(scaler.fit_transform(train_numeric), index=train_numeric.index,columns =train_numeric.columns)\n",
    "#transform the test set before fitting\n",
    "test_numeric = pd.DataFrame(scaler.transform(test_numeric), index=test_numeric.index,columns =test_numeric.columns)\n",
    "X_train_numeric,X_test_train_numeric,y_train_numeric,y_test_train_numeric = train_test_split(train_numeric,y,test_size=0.33, random_state=42)"
   ]
  },
  {
   "cell_type": "markdown",
   "metadata": {},
   "source": [
    "Let us create multiple models with their default parameters and see how they perform"
   ]
  },
  {
   "cell_type": "markdown",
   "metadata": {},
   "source": [
    "### eXtreme Gradient Booster(XGBoost) Model"
   ]
  },
  {
   "cell_type": "code",
   "execution_count": 43,
   "metadata": {},
   "outputs": [
    {
     "name": "stderr",
     "output_type": "stream",
     "text": [
      "C:\\Users\\revedala\\AppData\\Local\\Programs\\Python\\Python37\\lib\\site-packages\\xgboost\\core.py:587: FutureWarning: Series.base is deprecated and will be removed in a future version\n",
      "  if getattr(data, 'base', None) is not None and \\\n"
     ]
    },
    {
     "name": "stdout",
     "output_type": "stream",
     "text": [
      "[16:37:53] WARNING: C:/Jenkins/workspace/xgboost-win64_release_0.90/src/objective/regression_obj.cu:152: reg:linear is now deprecated in favor of reg:squarederror.\n"
     ]
    },
    {
     "data": {
      "text/plain": [
       "'0.41151918088686235'"
      ]
     },
     "execution_count": 43,
     "metadata": {},
     "output_type": "execute_result"
    }
   ],
   "source": [
    "xgb_model_first = xgb.XGBRegressor(random_state=123)\n",
    "xgb_model_first.fit(X_train_numeric,y_train_numeric)\n",
    "pred_xgboost = xgb_model_first.predict(X_test_train_numeric)\n",
    "rmse = str(np.sqrt(np.mean((y_test_train_numeric - pred_xgboost)**2)))\n",
    "rmse"
   ]
  },
  {
   "cell_type": "markdown",
   "metadata": {},
   "source": [
    "Not a bad RMSE score to begin with. The default parameters of Xgboost cannot be generalised to all data, hence the error value would definitely reduce when we tune the parameters. One problem with Xgboost models is that they tend to overfit easily. We will have to ensure this doesnt happen"
   ]
  },
  {
   "cell_type": "markdown",
   "metadata": {},
   "source": [
    "### Random Forest Model"
   ]
  },
  {
   "cell_type": "code",
   "execution_count": 44,
   "metadata": {},
   "outputs": [
    {
     "name": "stderr",
     "output_type": "stream",
     "text": [
      "C:\\Users\\revedala\\AppData\\Local\\Programs\\Python\\Python37\\lib\\site-packages\\sklearn\\ensemble\\forest.py:245: FutureWarning: The default value of n_estimators will change from 10 in version 0.20 to 100 in 0.22.\n",
      "  \"10 in version 0.20 to 100 in 0.22.\", FutureWarning)\n"
     ]
    },
    {
     "data": {
      "text/plain": [
       "'0.4142755344940188'"
      ]
     },
     "execution_count": 44,
     "metadata": {},
     "output_type": "execute_result"
    }
   ],
   "source": [
    "forestregressor_first = RandomForestRegressor(random_state=123)  #n_estimators = 200, random_state = 10\n",
    "forestregressor_first.fit(X_train_numeric,y_train_numeric)\n",
    "predict_values = forestregressor_first.predict(X_test_train_numeric)\n",
    "rmse = str(np.sqrt(np.mean((y_test_train_numeric - predict_values)**2)))\n",
    "rmse"
   ]
  },
  {
   "cell_type": "markdown",
   "metadata": {},
   "source": [
    "Let us check for overfitting by running k-cross validations for each of the models"
   ]
  },
  {
   "cell_type": "code",
   "execution_count": 45,
   "metadata": {},
   "outputs": [],
   "source": [
    "def check_cross_validate(train_numeric, params,model='xgboost'):\n",
    "    rmses = []\n",
    "    actuals = []\n",
    "    cv = KFold(n_splits=5, random_state=42, shuffle=False)\n",
    "    for train_index, test_index in cv.split(train_numeric):\n",
    "        print(\"Train Index: \", train_index, \"\\n\")\n",
    "        print(\"Test Index: \", test_index)\n",
    "        if model=='xgboost':\n",
    "            xgb_sample = xgb.XGBRegressor(**params)\n",
    "            sampleX_train_numeric,sampleX_test_train_numeric,sampley_train_numeric,sampley_test_train_numeric = train_numeric.values[train_index], train_numeric.values[test_index], y.values[train_index], y.values[test_index]\n",
    "            xgb_sample.fit(sampleX_train_numeric, sampley_train_numeric)\n",
    "            pred_xgboost = xgb_sample.predict(sampleX_test_train_numeric)\n",
    "            rmse = str(np.sqrt(np.mean((sampley_test_train_numeric - pred_xgboost)**2)))\n",
    "            rmses.append(rmse)\n",
    "        else:\n",
    "            rf_sample = RandomForestRegressor(random_state=123)\n",
    "            sampleX_train_numeric,sampleX_test_train_numeric,sampley_train_numeric,sampley_test_train_numeric = train_numeric.values[train_index], train_numeric.values[test_index], y.values[train_index], y.values[test_index]\n",
    "            rf_sample.fit(sampleX_train_numeric, sampley_train_numeric)\n",
    "            pred_rf = rf_sample.predict(sampleX_test_train_numeric)\n",
    "            rmse = str(np.sqrt(np.mean((sampley_test_train_numeric - pred_rf)**2)))\n",
    "            rmses.append(rmse)\n",
    "    return rmses"
   ]
  },
  {
   "cell_type": "code",
   "execution_count": 46,
   "metadata": {},
   "outputs": [
    {
     "name": "stdout",
     "output_type": "stream",
     "text": [
      "Train Index:  [14357 14358 14359 ... 71778 71779 71780] \n",
      "\n",
      "Test Index:  [    0     1     2 ... 14354 14355 14356]\n",
      "[16:38:10] WARNING: C:/Jenkins/workspace/xgboost-win64_release_0.90/src/objective/regression_obj.cu:152: reg:linear is now deprecated in favor of reg:squarederror.\n",
      "Train Index:  [    0     1     2 ... 71778 71779 71780] \n",
      "\n",
      "Test Index:  [14357 14358 14359 ... 28710 28711 28712]\n",
      "[16:38:18] WARNING: C:/Jenkins/workspace/xgboost-win64_release_0.90/src/objective/regression_obj.cu:152: reg:linear is now deprecated in favor of reg:squarederror.\n",
      "Train Index:  [    0     1     2 ... 71778 71779 71780] \n",
      "\n",
      "Test Index:  [28713 28714 28715 ... 43066 43067 43068]\n",
      "[16:38:25] WARNING: C:/Jenkins/workspace/xgboost-win64_release_0.90/src/objective/regression_obj.cu:152: reg:linear is now deprecated in favor of reg:squarederror.\n",
      "Train Index:  [    0     1     2 ... 71778 71779 71780] \n",
      "\n",
      "Test Index:  [43069 43070 43071 ... 57422 57423 57424]\n",
      "[16:38:33] WARNING: C:/Jenkins/workspace/xgboost-win64_release_0.90/src/objective/regression_obj.cu:152: reg:linear is now deprecated in favor of reg:squarederror.\n",
      "Train Index:  [    0     1     2 ... 57422 57423 57424] \n",
      "\n",
      "Test Index:  [57425 57426 57427 ... 71778 71779 71780]\n",
      "[16:38:40] WARNING: C:/Jenkins/workspace/xgboost-win64_release_0.90/src/objective/regression_obj.cu:152: reg:linear is now deprecated in favor of reg:squarederror.\n"
     ]
    },
    {
     "data": {
      "text/plain": [
       "['0.4149049846187287',\n",
       " '0.41796563290265226',\n",
       " '0.408557094820766',\n",
       " '0.41561008222035317',\n",
       " '0.4167912400285938']"
      ]
     },
     "execution_count": 46,
     "metadata": {},
     "output_type": "execute_result"
    }
   ],
   "source": [
    "check_cross_validate(train_numeric,xgb_model_first.get_params())"
   ]
  },
  {
   "cell_type": "code",
   "execution_count": 47,
   "metadata": {},
   "outputs": [
    {
     "name": "stdout",
     "output_type": "stream",
     "text": [
      "Train Index:  [14357 14358 14359 ... 71778 71779 71780] \n",
      "\n",
      "Test Index:  [    0     1     2 ... 14354 14355 14356]\n"
     ]
    },
    {
     "name": "stderr",
     "output_type": "stream",
     "text": [
      "C:\\Users\\revedala\\AppData\\Local\\Programs\\Python\\Python37\\lib\\site-packages\\sklearn\\ensemble\\forest.py:245: FutureWarning: The default value of n_estimators will change from 10 in version 0.20 to 100 in 0.22.\n",
      "  \"10 in version 0.20 to 100 in 0.22.\", FutureWarning)\n"
     ]
    },
    {
     "name": "stdout",
     "output_type": "stream",
     "text": [
      "Train Index:  [    0     1     2 ... 71778 71779 71780] \n",
      "\n",
      "Test Index:  [14357 14358 14359 ... 28710 28711 28712]\n"
     ]
    },
    {
     "name": "stderr",
     "output_type": "stream",
     "text": [
      "C:\\Users\\revedala\\AppData\\Local\\Programs\\Python\\Python37\\lib\\site-packages\\sklearn\\ensemble\\forest.py:245: FutureWarning: The default value of n_estimators will change from 10 in version 0.20 to 100 in 0.22.\n",
      "  \"10 in version 0.20 to 100 in 0.22.\", FutureWarning)\n"
     ]
    },
    {
     "name": "stdout",
     "output_type": "stream",
     "text": [
      "Train Index:  [    0     1     2 ... 71778 71779 71780] \n",
      "\n",
      "Test Index:  [28713 28714 28715 ... 43066 43067 43068]\n"
     ]
    },
    {
     "name": "stderr",
     "output_type": "stream",
     "text": [
      "C:\\Users\\revedala\\AppData\\Local\\Programs\\Python\\Python37\\lib\\site-packages\\sklearn\\ensemble\\forest.py:245: FutureWarning: The default value of n_estimators will change from 10 in version 0.20 to 100 in 0.22.\n",
      "  \"10 in version 0.20 to 100 in 0.22.\", FutureWarning)\n"
     ]
    },
    {
     "name": "stdout",
     "output_type": "stream",
     "text": [
      "Train Index:  [    0     1     2 ... 71778 71779 71780] \n",
      "\n",
      "Test Index:  [43069 43070 43071 ... 57422 57423 57424]\n"
     ]
    },
    {
     "name": "stderr",
     "output_type": "stream",
     "text": [
      "C:\\Users\\revedala\\AppData\\Local\\Programs\\Python\\Python37\\lib\\site-packages\\sklearn\\ensemble\\forest.py:245: FutureWarning: The default value of n_estimators will change from 10 in version 0.20 to 100 in 0.22.\n",
      "  \"10 in version 0.20 to 100 in 0.22.\", FutureWarning)\n"
     ]
    },
    {
     "name": "stdout",
     "output_type": "stream",
     "text": [
      "Train Index:  [    0     1     2 ... 57422 57423 57424] \n",
      "\n",
      "Test Index:  [57425 57426 57427 ... 71778 71779 71780]\n"
     ]
    },
    {
     "name": "stderr",
     "output_type": "stream",
     "text": [
      "C:\\Users\\revedala\\AppData\\Local\\Programs\\Python\\Python37\\lib\\site-packages\\sklearn\\ensemble\\forest.py:245: FutureWarning: The default value of n_estimators will change from 10 in version 0.20 to 100 in 0.22.\n",
      "  \"10 in version 0.20 to 100 in 0.22.\", FutureWarning)\n"
     ]
    },
    {
     "data": {
      "text/plain": [
       "['0.4151277120143622',\n",
       " '0.42056213317217617',\n",
       " '0.4114112719399771',\n",
       " '0.4162061027848946',\n",
       " '0.4205819400869667']"
      ]
     },
     "execution_count": 47,
     "metadata": {},
     "output_type": "execute_result"
    }
   ],
   "source": [
    "check_cross_validate(train_numeric,RandomForestRegressor(random_state=123).get_params(), model = 'rf')"
   ]
  },
  {
   "cell_type": "markdown",
   "metadata": {},
   "source": [
    "Random Forest seems to have a better RMSE score when compared to the XGBoost Model. But on running multiple runs and re-runs on Random Forest, the model wasnt dependable and has defintely been overfitted. This conclusion has been reached to after three blind validations which resulted in rmse scores of 0.517,0.571 and 0.571. Hence, I eliminated this model over the more consistent yet less accurate Xgboost model. This has been explained indepth in the deck\n",
    "\n",
    "Let us retrieve some essential stats before fine tuning the model"
   ]
  },
  {
   "cell_type": "code",
   "execution_count": 48,
   "metadata": {},
   "outputs": [
    {
     "name": "stdout",
     "output_type": "stream",
     "text": [
      "                                 OLS Regression Results                                \n",
      "=======================================================================================\n",
      "Dep. Variable:              log_price   R-squared (uncentered):                   0.988\n",
      "Model:                            OLS   Adj. R-squared (uncentered):              0.988\n",
      "Method:                 Least Squares   F-statistic:                          1.308e+05\n",
      "Date:                Fri, 20 Sep 2019   Prob (F-statistic):                        0.00\n",
      "Time:                        16:39:22   Log-Likelihood:                         -37894.\n",
      "No. Observations:               48093   AIC:                                  7.585e+04\n",
      "Df Residuals:                   48063   BIC:                                  7.611e+04\n",
      "Df Model:                          30                                                  \n",
      "Covariance Type:            nonrobust                                                  \n",
      "====================================================================================================\n",
      "                                       coef    std err          t      P>|t|      [0.025      0.975]\n",
      "----------------------------------------------------------------------------------------------------\n",
      "accommodates                         1.2097      0.033     36.546      0.000       1.145       1.275\n",
      "bathrooms                            1.3752      0.043     32.296      0.000       1.292       1.459\n",
      "cleaning_fee                        -0.0566      0.006     -9.254      0.000      -0.069      -0.045\n",
      "host_has_profile_pic                 2.9724      0.027    111.329      0.000       2.920       3.025\n",
      "host_identity_verified              -0.0817      0.006    -14.392      0.000      -0.093      -0.071\n",
      "host_response_rate                   0.1677      0.015     11.249      0.000       0.138       0.197\n",
      "instant_bookable                    -0.0281      0.006     -4.894      0.000      -0.039      -0.017\n",
      "number_of_reviews                   -0.5804      0.052    -11.251      0.000      -0.682      -0.479\n",
      "review_scores_rating                 1.1569      0.023     49.786      0.000       1.111       1.202\n",
      "zipcode                              0.0259      0.007      3.696      0.000       0.012       0.040\n",
      "bedrooms                             1.5432      0.046     33.277      0.000       1.452       1.634\n",
      "beds                                -0.7508      0.063    -11.862      0.000      -0.875      -0.627\n",
      "no_of_amenities                      0.3667      0.034     10.780      0.000       0.300       0.433\n",
      "distance_to_center                  -0.4699      0.026    -18.273      0.000      -0.520      -0.420\n",
      "distance_to_airport                  0.2564      0.024     10.866      0.000       0.210       0.303\n",
      "days_between_reviews                 0.0059      0.023      0.249      0.803      -0.040       0.052\n",
      "years_since_establishment            0.2870      0.015     18.696      0.000       0.257       0.317\n",
      "word_count_name                      0.2235      0.038      5.921      0.000       0.150       0.298\n",
      "compound_scores                      0.2933      0.022     13.580      0.000       0.251       0.336\n",
      "pos_scores                          -0.0217      0.029     -0.750      0.453      -0.078       0.035\n",
      "property_type_Condominium            0.1179      0.013      8.949      0.000       0.092       0.144\n",
      "property_type_House                 -0.0415      0.007     -6.088      0.000      -0.055      -0.028\n",
      "property_type_Loft                   0.1560      0.019      8.028      0.000       0.118       0.194\n",
      "property_type_Other                  0.0119      0.013      0.946      0.344      -0.013       0.037\n",
      "property_type_Townhouse             -0.0658      0.016     -4.049      0.000      -0.098      -0.034\n",
      "room_type_Private room              -0.5661      0.006    -95.005      0.000      -0.578      -0.554\n",
      "room_type_Shared room               -1.0194      0.015    -67.100      0.000      -1.049      -0.990\n",
      "cancellation_policy_moderate        -0.0683      0.007     -9.786      0.000      -0.082      -0.055\n",
      "cancellation_policy_strict          -0.0189      0.006     -2.919      0.004      -0.032      -0.006\n",
      "cancellation_policy_super_strict     0.3235      0.061      5.324      0.000       0.204       0.443\n",
      "==============================================================================\n",
      "Omnibus:                    12689.029   Durbin-Watson:                   2.006\n",
      "Prob(Omnibus):                  0.000   Jarque-Bera (JB):            77965.279\n",
      "Skew:                           1.128   Prob(JB):                         0.00\n",
      "Kurtosis:                       8.816   Cond. No.                         67.3\n",
      "==============================================================================\n",
      "\n",
      "Warnings:\n",
      "[1] Standard Errors assume that the covariance matrix of the errors is correctly specified.\n"
     ]
    }
   ],
   "source": [
    "import statsmodels.api as sm\n",
    "lm = sm.OLS(y_train_numeric, X_train_numeric).fit()\n",
    "print(lm.summary())"
   ]
  },
  {
   "cell_type": "markdown",
   "metadata": {},
   "source": [
    "There doesnt seem to be any strong correlation between features but there are definitely a few insignificant features(such as `days_between_reviews`and `pos_score`) as they have a p_value>0.05. But this isnt a strong indicator of correlation. Let us calculate the `Variance Inflation Factor` and then decide which features to drop"
   ]
  },
  {
   "cell_type": "code",
   "execution_count": 49,
   "metadata": {},
   "outputs": [],
   "source": [
    "from statsmodels.stats.outliers_influence import variance_inflation_factor\n",
    "def get_vif(X):\n",
    "    vif = pd.DataFrame()\n",
    "    vif['Features'] = X.columns\n",
    "    vif['VIF'] = [variance_inflation_factor(X.values,i) for i in range(X.shape[1])]\n",
    "    vif.sort_values(by='VIF',inplace=True)\n",
    "    return vif"
   ]
  },
  {
   "cell_type": "code",
   "execution_count": 50,
   "metadata": {},
   "outputs": [
    {
     "data": {
      "text/html": [
       "<div>\n",
       "<style scoped>\n",
       "    .dataframe tbody tr th:only-of-type {\n",
       "        vertical-align: middle;\n",
       "    }\n",
       "\n",
       "    .dataframe tbody tr th {\n",
       "        vertical-align: top;\n",
       "    }\n",
       "\n",
       "    .dataframe thead th {\n",
       "        text-align: right;\n",
       "    }\n",
       "</style>\n",
       "<table border=\"1\" class=\"dataframe\">\n",
       "  <thead>\n",
       "    <tr style=\"text-align: right;\">\n",
       "      <th></th>\n",
       "      <th>Features</th>\n",
       "      <th>VIF</th>\n",
       "    </tr>\n",
       "  </thead>\n",
       "  <tbody>\n",
       "    <tr>\n",
       "      <td>29</td>\n",
       "      <td>cancellation_policy_super_strict</td>\n",
       "      <td>1.018098</td>\n",
       "    </tr>\n",
       "    <tr>\n",
       "      <td>22</td>\n",
       "      <td>property_type_Loft</td>\n",
       "      <td>1.035896</td>\n",
       "    </tr>\n",
       "    <tr>\n",
       "      <td>24</td>\n",
       "      <td>property_type_Townhouse</td>\n",
       "      <td>1.068064</td>\n",
       "    </tr>\n",
       "    <tr>\n",
       "      <td>20</td>\n",
       "      <td>property_type_Condominium</td>\n",
       "      <td>1.085142</td>\n",
       "    </tr>\n",
       "    <tr>\n",
       "      <td>23</td>\n",
       "      <td>property_type_Other</td>\n",
       "      <td>1.126058</td>\n",
       "    </tr>\n",
       "    <tr>\n",
       "      <td>26</td>\n",
       "      <td>room_type_Shared room</td>\n",
       "      <td>1.141584</td>\n",
       "    </tr>\n",
       "    <tr>\n",
       "      <td>6</td>\n",
       "      <td>instant_bookable</td>\n",
       "      <td>1.482491</td>\n",
       "    </tr>\n",
       "    <tr>\n",
       "      <td>21</td>\n",
       "      <td>property_type_House</td>\n",
       "      <td>1.765085</td>\n",
       "    </tr>\n",
       "    <tr>\n",
       "      <td>27</td>\n",
       "      <td>cancellation_policy_moderate</td>\n",
       "      <td>2.139110</td>\n",
       "    </tr>\n",
       "    <tr>\n",
       "      <td>7</td>\n",
       "      <td>number_of_reviews</td>\n",
       "      <td>2.352107</td>\n",
       "    </tr>\n",
       "    <tr>\n",
       "      <td>25</td>\n",
       "      <td>room_type_Private room</td>\n",
       "      <td>2.501098</td>\n",
       "    </tr>\n",
       "    <tr>\n",
       "      <td>13</td>\n",
       "      <td>distance_to_center</td>\n",
       "      <td>3.036006</td>\n",
       "    </tr>\n",
       "    <tr>\n",
       "      <td>28</td>\n",
       "      <td>cancellation_policy_strict</td>\n",
       "      <td>3.144200</td>\n",
       "    </tr>\n",
       "    <tr>\n",
       "      <td>15</td>\n",
       "      <td>days_between_reviews</td>\n",
       "      <td>3.195119</td>\n",
       "    </tr>\n",
       "    <tr>\n",
       "      <td>9</td>\n",
       "      <td>zipcode</td>\n",
       "      <td>3.238203</td>\n",
       "    </tr>\n",
       "    <tr>\n",
       "      <td>4</td>\n",
       "      <td>host_identity_verified</td>\n",
       "      <td>3.668053</td>\n",
       "    </tr>\n",
       "    <tr>\n",
       "      <td>2</td>\n",
       "      <td>cleaning_fee</td>\n",
       "      <td>4.680416</td>\n",
       "    </tr>\n",
       "    <tr>\n",
       "      <td>14</td>\n",
       "      <td>distance_to_airport</td>\n",
       "      <td>5.719970</td>\n",
       "    </tr>\n",
       "    <tr>\n",
       "      <td>16</td>\n",
       "      <td>years_since_establishment</td>\n",
       "      <td>5.834136</td>\n",
       "    </tr>\n",
       "    <tr>\n",
       "      <td>0</td>\n",
       "      <td>accommodates</td>\n",
       "      <td>7.933402</td>\n",
       "    </tr>\n",
       "    <tr>\n",
       "      <td>17</td>\n",
       "      <td>word_count_name</td>\n",
       "      <td>8.028270</td>\n",
       "    </tr>\n",
       "    <tr>\n",
       "      <td>10</td>\n",
       "      <td>bedrooms</td>\n",
       "      <td>8.584089</td>\n",
       "    </tr>\n",
       "    <tr>\n",
       "      <td>19</td>\n",
       "      <td>pos_scores</td>\n",
       "      <td>8.768525</td>\n",
       "    </tr>\n",
       "    <tr>\n",
       "      <td>1</td>\n",
       "      <td>bathrooms</td>\n",
       "      <td>9.098696</td>\n",
       "    </tr>\n",
       "    <tr>\n",
       "      <td>12</td>\n",
       "      <td>no_of_amenities</td>\n",
       "      <td>9.261271</td>\n",
       "    </tr>\n",
       "    <tr>\n",
       "      <td>11</td>\n",
       "      <td>beds</td>\n",
       "      <td>9.730791</td>\n",
       "    </tr>\n",
       "    <tr>\n",
       "      <td>5</td>\n",
       "      <td>host_response_rate</td>\n",
       "      <td>34.290746</td>\n",
       "    </tr>\n",
       "    <tr>\n",
       "      <td>18</td>\n",
       "      <td>compound_scores</td>\n",
       "      <td>68.306494</td>\n",
       "    </tr>\n",
       "    <tr>\n",
       "      <td>8</td>\n",
       "      <td>review_scores_rating</td>\n",
       "      <td>79.626871</td>\n",
       "    </tr>\n",
       "    <tr>\n",
       "      <td>3</td>\n",
       "      <td>host_has_profile_pic</td>\n",
       "      <td>119.468607</td>\n",
       "    </tr>\n",
       "  </tbody>\n",
       "</table>\n",
       "</div>"
      ],
      "text/plain": [
       "                            Features         VIF\n",
       "29  cancellation_policy_super_strict    1.018098\n",
       "22                property_type_Loft    1.035896\n",
       "24           property_type_Townhouse    1.068064\n",
       "20         property_type_Condominium    1.085142\n",
       "23               property_type_Other    1.126058\n",
       "26             room_type_Shared room    1.141584\n",
       "6                   instant_bookable    1.482491\n",
       "21               property_type_House    1.765085\n",
       "27      cancellation_policy_moderate    2.139110\n",
       "7                  number_of_reviews    2.352107\n",
       "25            room_type_Private room    2.501098\n",
       "13                distance_to_center    3.036006\n",
       "28        cancellation_policy_strict    3.144200\n",
       "15              days_between_reviews    3.195119\n",
       "9                            zipcode    3.238203\n",
       "4             host_identity_verified    3.668053\n",
       "2                       cleaning_fee    4.680416\n",
       "14               distance_to_airport    5.719970\n",
       "16         years_since_establishment    5.834136\n",
       "0                       accommodates    7.933402\n",
       "17                   word_count_name    8.028270\n",
       "10                          bedrooms    8.584089\n",
       "19                        pos_scores    8.768525\n",
       "1                          bathrooms    9.098696\n",
       "12                   no_of_amenities    9.261271\n",
       "11                              beds    9.730791\n",
       "5                 host_response_rate   34.290746\n",
       "18                   compound_scores   68.306494\n",
       "8               review_scores_rating   79.626871\n",
       "3               host_has_profile_pic  119.468607"
      ]
     },
     "execution_count": 50,
     "metadata": {},
     "output_type": "execute_result"
    }
   ],
   "source": [
    "get_vif(train_numeric)"
   ]
  },
  {
   "cell_type": "markdown",
   "metadata": {},
   "source": [
    "From the above VIF values, it is clear that `profile_pic` has not effect on the model since it is highly correlated with the other features, let us drop it"
   ]
  },
  {
   "cell_type": "code",
   "execution_count": 51,
   "metadata": {},
   "outputs": [],
   "source": [
    "train_numeric.drop(['host_has_profile_pic'],inplace=True,axis=1)\n",
    "test_numeric.drop(['host_has_profile_pic'],inplace=True,axis=1)"
   ]
  },
  {
   "cell_type": "markdown",
   "metadata": {},
   "source": [
    "We have to re-calculate the `vif` values after dropping each column since the r-square changes and so does the vif"
   ]
  },
  {
   "cell_type": "code",
   "execution_count": 52,
   "metadata": {},
   "outputs": [
    {
     "data": {
      "text/html": [
       "<div>\n",
       "<style scoped>\n",
       "    .dataframe tbody tr th:only-of-type {\n",
       "        vertical-align: middle;\n",
       "    }\n",
       "\n",
       "    .dataframe tbody tr th {\n",
       "        vertical-align: top;\n",
       "    }\n",
       "\n",
       "    .dataframe thead th {\n",
       "        text-align: right;\n",
       "    }\n",
       "</style>\n",
       "<table border=\"1\" class=\"dataframe\">\n",
       "  <thead>\n",
       "    <tr style=\"text-align: right;\">\n",
       "      <th></th>\n",
       "      <th>Features</th>\n",
       "      <th>VIF</th>\n",
       "    </tr>\n",
       "  </thead>\n",
       "  <tbody>\n",
       "    <tr>\n",
       "      <td>28</td>\n",
       "      <td>cancellation_policy_super_strict</td>\n",
       "      <td>1.017988</td>\n",
       "    </tr>\n",
       "    <tr>\n",
       "      <td>21</td>\n",
       "      <td>property_type_Loft</td>\n",
       "      <td>1.035681</td>\n",
       "    </tr>\n",
       "    <tr>\n",
       "      <td>23</td>\n",
       "      <td>property_type_Townhouse</td>\n",
       "      <td>1.066687</td>\n",
       "    </tr>\n",
       "    <tr>\n",
       "      <td>19</td>\n",
       "      <td>property_type_Condominium</td>\n",
       "      <td>1.083844</td>\n",
       "    </tr>\n",
       "    <tr>\n",
       "      <td>22</td>\n",
       "      <td>property_type_Other</td>\n",
       "      <td>1.125971</td>\n",
       "    </tr>\n",
       "    <tr>\n",
       "      <td>25</td>\n",
       "      <td>room_type_Shared room</td>\n",
       "      <td>1.136603</td>\n",
       "    </tr>\n",
       "    <tr>\n",
       "      <td>5</td>\n",
       "      <td>instant_bookable</td>\n",
       "      <td>1.479412</td>\n",
       "    </tr>\n",
       "    <tr>\n",
       "      <td>20</td>\n",
       "      <td>property_type_House</td>\n",
       "      <td>1.754802</td>\n",
       "    </tr>\n",
       "    <tr>\n",
       "      <td>26</td>\n",
       "      <td>cancellation_policy_moderate</td>\n",
       "      <td>2.139019</td>\n",
       "    </tr>\n",
       "    <tr>\n",
       "      <td>6</td>\n",
       "      <td>number_of_reviews</td>\n",
       "      <td>2.350126</td>\n",
       "    </tr>\n",
       "    <tr>\n",
       "      <td>24</td>\n",
       "      <td>room_type_Private room</td>\n",
       "      <td>2.460089</td>\n",
       "    </tr>\n",
       "    <tr>\n",
       "      <td>12</td>\n",
       "      <td>distance_to_center</td>\n",
       "      <td>3.031816</td>\n",
       "    </tr>\n",
       "    <tr>\n",
       "      <td>27</td>\n",
       "      <td>cancellation_policy_strict</td>\n",
       "      <td>3.143183</td>\n",
       "    </tr>\n",
       "    <tr>\n",
       "      <td>14</td>\n",
       "      <td>days_between_reviews</td>\n",
       "      <td>3.194617</td>\n",
       "    </tr>\n",
       "    <tr>\n",
       "      <td>8</td>\n",
       "      <td>zipcode</td>\n",
       "      <td>3.233568</td>\n",
       "    </tr>\n",
       "    <tr>\n",
       "      <td>3</td>\n",
       "      <td>host_identity_verified</td>\n",
       "      <td>3.666761</td>\n",
       "    </tr>\n",
       "    <tr>\n",
       "      <td>2</td>\n",
       "      <td>cleaning_fee</td>\n",
       "      <td>4.678435</td>\n",
       "    </tr>\n",
       "    <tr>\n",
       "      <td>13</td>\n",
       "      <td>distance_to_airport</td>\n",
       "      <td>5.593211</td>\n",
       "    </tr>\n",
       "    <tr>\n",
       "      <td>15</td>\n",
       "      <td>years_since_establishment</td>\n",
       "      <td>5.790696</td>\n",
       "    </tr>\n",
       "    <tr>\n",
       "      <td>0</td>\n",
       "      <td>accommodates</td>\n",
       "      <td>7.930742</td>\n",
       "    </tr>\n",
       "    <tr>\n",
       "      <td>16</td>\n",
       "      <td>word_count_name</td>\n",
       "      <td>7.958279</td>\n",
       "    </tr>\n",
       "    <tr>\n",
       "      <td>9</td>\n",
       "      <td>bedrooms</td>\n",
       "      <td>8.582884</td>\n",
       "    </tr>\n",
       "    <tr>\n",
       "      <td>18</td>\n",
       "      <td>pos_scores</td>\n",
       "      <td>8.698730</td>\n",
       "    </tr>\n",
       "    <tr>\n",
       "      <td>1</td>\n",
       "      <td>bathrooms</td>\n",
       "      <td>9.045445</td>\n",
       "    </tr>\n",
       "    <tr>\n",
       "      <td>11</td>\n",
       "      <td>no_of_amenities</td>\n",
       "      <td>9.259218</td>\n",
       "    </tr>\n",
       "    <tr>\n",
       "      <td>10</td>\n",
       "      <td>beds</td>\n",
       "      <td>9.713127</td>\n",
       "    </tr>\n",
       "    <tr>\n",
       "      <td>4</td>\n",
       "      <td>host_response_rate</td>\n",
       "      <td>30.889663</td>\n",
       "    </tr>\n",
       "    <tr>\n",
       "      <td>7</td>\n",
       "      <td>review_scores_rating</td>\n",
       "      <td>52.049759</td>\n",
       "    </tr>\n",
       "    <tr>\n",
       "      <td>17</td>\n",
       "      <td>compound_scores</td>\n",
       "      <td>60.366581</td>\n",
       "    </tr>\n",
       "  </tbody>\n",
       "</table>\n",
       "</div>"
      ],
      "text/plain": [
       "                            Features        VIF\n",
       "28  cancellation_policy_super_strict   1.017988\n",
       "21                property_type_Loft   1.035681\n",
       "23           property_type_Townhouse   1.066687\n",
       "19         property_type_Condominium   1.083844\n",
       "22               property_type_Other   1.125971\n",
       "25             room_type_Shared room   1.136603\n",
       "5                   instant_bookable   1.479412\n",
       "20               property_type_House   1.754802\n",
       "26      cancellation_policy_moderate   2.139019\n",
       "6                  number_of_reviews   2.350126\n",
       "24            room_type_Private room   2.460089\n",
       "12                distance_to_center   3.031816\n",
       "27        cancellation_policy_strict   3.143183\n",
       "14              days_between_reviews   3.194617\n",
       "8                            zipcode   3.233568\n",
       "3             host_identity_verified   3.666761\n",
       "2                       cleaning_fee   4.678435\n",
       "13               distance_to_airport   5.593211\n",
       "15         years_since_establishment   5.790696\n",
       "0                       accommodates   7.930742\n",
       "16                   word_count_name   7.958279\n",
       "9                           bedrooms   8.582884\n",
       "18                        pos_scores   8.698730\n",
       "1                          bathrooms   9.045445\n",
       "11                   no_of_amenities   9.259218\n",
       "10                              beds   9.713127\n",
       "4                 host_response_rate  30.889663\n",
       "7               review_scores_rating  52.049759\n",
       "17                   compound_scores  60.366581"
      ]
     },
     "execution_count": 52,
     "metadata": {},
     "output_type": "execute_result"
    }
   ],
   "source": [
    "get_vif(train_numeric)"
   ]
  },
  {
   "cell_type": "code",
   "execution_count": 53,
   "metadata": {},
   "outputs": [
    {
     "name": "stdout",
     "output_type": "stream",
     "text": [
      "                                 OLS Regression Results                                \n",
      "=======================================================================================\n",
      "Dep. Variable:              log_price   R-squared (uncentered):                   0.988\n",
      "Model:                            OLS   Adj. R-squared (uncentered):              0.988\n",
      "Method:                 Least Squares   F-statistic:                          1.308e+05\n",
      "Date:                Fri, 20 Sep 2019   Prob (F-statistic):                        0.00\n",
      "Time:                        16:39:44   Log-Likelihood:                         -37894.\n",
      "No. Observations:               48093   AIC:                                  7.585e+04\n",
      "Df Residuals:                   48063   BIC:                                  7.611e+04\n",
      "Df Model:                          30                                                  \n",
      "Covariance Type:            nonrobust                                                  \n",
      "====================================================================================================\n",
      "                                       coef    std err          t      P>|t|      [0.025      0.975]\n",
      "----------------------------------------------------------------------------------------------------\n",
      "accommodates                         1.2097      0.033     36.546      0.000       1.145       1.275\n",
      "bathrooms                            1.3752      0.043     32.296      0.000       1.292       1.459\n",
      "cleaning_fee                        -0.0566      0.006     -9.254      0.000      -0.069      -0.045\n",
      "host_has_profile_pic                 2.9724      0.027    111.329      0.000       2.920       3.025\n",
      "host_identity_verified              -0.0817      0.006    -14.392      0.000      -0.093      -0.071\n",
      "host_response_rate                   0.1677      0.015     11.249      0.000       0.138       0.197\n",
      "instant_bookable                    -0.0281      0.006     -4.894      0.000      -0.039      -0.017\n",
      "number_of_reviews                   -0.5804      0.052    -11.251      0.000      -0.682      -0.479\n",
      "review_scores_rating                 1.1569      0.023     49.786      0.000       1.111       1.202\n",
      "zipcode                              0.0259      0.007      3.696      0.000       0.012       0.040\n",
      "bedrooms                             1.5432      0.046     33.277      0.000       1.452       1.634\n",
      "beds                                -0.7508      0.063    -11.862      0.000      -0.875      -0.627\n",
      "no_of_amenities                      0.3667      0.034     10.780      0.000       0.300       0.433\n",
      "distance_to_center                  -0.4699      0.026    -18.273      0.000      -0.520      -0.420\n",
      "distance_to_airport                  0.2564      0.024     10.866      0.000       0.210       0.303\n",
      "days_between_reviews                 0.0059      0.023      0.249      0.803      -0.040       0.052\n",
      "years_since_establishment            0.2870      0.015     18.696      0.000       0.257       0.317\n",
      "word_count_name                      0.2235      0.038      5.921      0.000       0.150       0.298\n",
      "compound_scores                      0.2933      0.022     13.580      0.000       0.251       0.336\n",
      "pos_scores                          -0.0217      0.029     -0.750      0.453      -0.078       0.035\n",
      "property_type_Condominium            0.1179      0.013      8.949      0.000       0.092       0.144\n",
      "property_type_House                 -0.0415      0.007     -6.088      0.000      -0.055      -0.028\n",
      "property_type_Loft                   0.1560      0.019      8.028      0.000       0.118       0.194\n",
      "property_type_Other                  0.0119      0.013      0.946      0.344      -0.013       0.037\n",
      "property_type_Townhouse             -0.0658      0.016     -4.049      0.000      -0.098      -0.034\n",
      "room_type_Private room              -0.5661      0.006    -95.005      0.000      -0.578      -0.554\n",
      "room_type_Shared room               -1.0194      0.015    -67.100      0.000      -1.049      -0.990\n",
      "cancellation_policy_moderate        -0.0683      0.007     -9.786      0.000      -0.082      -0.055\n",
      "cancellation_policy_strict          -0.0189      0.006     -2.919      0.004      -0.032      -0.006\n",
      "cancellation_policy_super_strict     0.3235      0.061      5.324      0.000       0.204       0.443\n",
      "==============================================================================\n",
      "Omnibus:                    12689.029   Durbin-Watson:                   2.006\n",
      "Prob(Omnibus):                  0.000   Jarque-Bera (JB):            77965.279\n",
      "Skew:                           1.128   Prob(JB):                         0.00\n",
      "Kurtosis:                       8.816   Cond. No.                         67.3\n",
      "==============================================================================\n",
      "\n",
      "Warnings:\n",
      "[1] Standard Errors assume that the covariance matrix of the errors is correctly specified.\n"
     ]
    }
   ],
   "source": [
    "import statsmodels.api as sm\n",
    "lm = sm.OLS(y_train_numeric, X_train_numeric).fit()\n",
    "print(lm.summary())"
   ]
  },
  {
   "cell_type": "markdown",
   "metadata": {},
   "source": [
    "From the above, it is clear that one of the sentiment features is being explained by the other. Since, we do know that postive descriptions have a better impact on the viewer, let us drop the `compound_scores` and see what this does to the metrics"
   ]
  },
  {
   "cell_type": "code",
   "execution_count": 54,
   "metadata": {},
   "outputs": [],
   "source": [
    "train_numeric.drop(['compound_scores'],inplace=True,axis=1)\n",
    "test_numeric.drop(['compound_scores'],inplace=True,axis=1)"
   ]
  },
  {
   "cell_type": "code",
   "execution_count": 55,
   "metadata": {},
   "outputs": [
    {
     "data": {
      "text/html": [
       "<div>\n",
       "<style scoped>\n",
       "    .dataframe tbody tr th:only-of-type {\n",
       "        vertical-align: middle;\n",
       "    }\n",
       "\n",
       "    .dataframe tbody tr th {\n",
       "        vertical-align: top;\n",
       "    }\n",
       "\n",
       "    .dataframe thead th {\n",
       "        text-align: right;\n",
       "    }\n",
       "</style>\n",
       "<table border=\"1\" class=\"dataframe\">\n",
       "  <thead>\n",
       "    <tr style=\"text-align: right;\">\n",
       "      <th></th>\n",
       "      <th>Features</th>\n",
       "      <th>VIF</th>\n",
       "    </tr>\n",
       "  </thead>\n",
       "  <tbody>\n",
       "    <tr>\n",
       "      <td>27</td>\n",
       "      <td>cancellation_policy_super_strict</td>\n",
       "      <td>1.016601</td>\n",
       "    </tr>\n",
       "    <tr>\n",
       "      <td>20</td>\n",
       "      <td>property_type_Loft</td>\n",
       "      <td>1.035652</td>\n",
       "    </tr>\n",
       "    <tr>\n",
       "      <td>22</td>\n",
       "      <td>property_type_Townhouse</td>\n",
       "      <td>1.066673</td>\n",
       "    </tr>\n",
       "    <tr>\n",
       "      <td>18</td>\n",
       "      <td>property_type_Condominium</td>\n",
       "      <td>1.083822</td>\n",
       "    </tr>\n",
       "    <tr>\n",
       "      <td>21</td>\n",
       "      <td>property_type_Other</td>\n",
       "      <td>1.125900</td>\n",
       "    </tr>\n",
       "    <tr>\n",
       "      <td>24</td>\n",
       "      <td>room_type_Shared room</td>\n",
       "      <td>1.136521</td>\n",
       "    </tr>\n",
       "    <tr>\n",
       "      <td>5</td>\n",
       "      <td>instant_bookable</td>\n",
       "      <td>1.479206</td>\n",
       "    </tr>\n",
       "    <tr>\n",
       "      <td>19</td>\n",
       "      <td>property_type_House</td>\n",
       "      <td>1.753671</td>\n",
       "    </tr>\n",
       "    <tr>\n",
       "      <td>25</td>\n",
       "      <td>cancellation_policy_moderate</td>\n",
       "      <td>2.120690</td>\n",
       "    </tr>\n",
       "    <tr>\n",
       "      <td>6</td>\n",
       "      <td>number_of_reviews</td>\n",
       "      <td>2.350095</td>\n",
       "    </tr>\n",
       "    <tr>\n",
       "      <td>23</td>\n",
       "      <td>room_type_Private room</td>\n",
       "      <td>2.452249</td>\n",
       "    </tr>\n",
       "    <tr>\n",
       "      <td>12</td>\n",
       "      <td>distance_to_center</td>\n",
       "      <td>3.031812</td>\n",
       "    </tr>\n",
       "    <tr>\n",
       "      <td>26</td>\n",
       "      <td>cancellation_policy_strict</td>\n",
       "      <td>3.111774</td>\n",
       "    </tr>\n",
       "    <tr>\n",
       "      <td>14</td>\n",
       "      <td>days_between_reviews</td>\n",
       "      <td>3.182411</td>\n",
       "    </tr>\n",
       "    <tr>\n",
       "      <td>8</td>\n",
       "      <td>zipcode</td>\n",
       "      <td>3.230190</td>\n",
       "    </tr>\n",
       "    <tr>\n",
       "      <td>3</td>\n",
       "      <td>host_identity_verified</td>\n",
       "      <td>3.658379</td>\n",
       "    </tr>\n",
       "    <tr>\n",
       "      <td>2</td>\n",
       "      <td>cleaning_fee</td>\n",
       "      <td>4.635310</td>\n",
       "    </tr>\n",
       "    <tr>\n",
       "      <td>17</td>\n",
       "      <td>pos_scores</td>\n",
       "      <td>5.573776</td>\n",
       "    </tr>\n",
       "    <tr>\n",
       "      <td>13</td>\n",
       "      <td>distance_to_airport</td>\n",
       "      <td>5.577878</td>\n",
       "    </tr>\n",
       "    <tr>\n",
       "      <td>15</td>\n",
       "      <td>years_since_establishment</td>\n",
       "      <td>5.760507</td>\n",
       "    </tr>\n",
       "    <tr>\n",
       "      <td>16</td>\n",
       "      <td>word_count_name</td>\n",
       "      <td>7.750673</td>\n",
       "    </tr>\n",
       "    <tr>\n",
       "      <td>0</td>\n",
       "      <td>accommodates</td>\n",
       "      <td>7.927823</td>\n",
       "    </tr>\n",
       "    <tr>\n",
       "      <td>9</td>\n",
       "      <td>bedrooms</td>\n",
       "      <td>8.582731</td>\n",
       "    </tr>\n",
       "    <tr>\n",
       "      <td>1</td>\n",
       "      <td>bathrooms</td>\n",
       "      <td>9.028458</td>\n",
       "    </tr>\n",
       "    <tr>\n",
       "      <td>11</td>\n",
       "      <td>no_of_amenities</td>\n",
       "      <td>9.104021</td>\n",
       "    </tr>\n",
       "    <tr>\n",
       "      <td>10</td>\n",
       "      <td>beds</td>\n",
       "      <td>9.711838</td>\n",
       "    </tr>\n",
       "    <tr>\n",
       "      <td>4</td>\n",
       "      <td>host_response_rate</td>\n",
       "      <td>29.646951</td>\n",
       "    </tr>\n",
       "    <tr>\n",
       "      <td>7</td>\n",
       "      <td>review_scores_rating</td>\n",
       "      <td>42.259167</td>\n",
       "    </tr>\n",
       "  </tbody>\n",
       "</table>\n",
       "</div>"
      ],
      "text/plain": [
       "                            Features        VIF\n",
       "27  cancellation_policy_super_strict   1.016601\n",
       "20                property_type_Loft   1.035652\n",
       "22           property_type_Townhouse   1.066673\n",
       "18         property_type_Condominium   1.083822\n",
       "21               property_type_Other   1.125900\n",
       "24             room_type_Shared room   1.136521\n",
       "5                   instant_bookable   1.479206\n",
       "19               property_type_House   1.753671\n",
       "25      cancellation_policy_moderate   2.120690\n",
       "6                  number_of_reviews   2.350095\n",
       "23            room_type_Private room   2.452249\n",
       "12                distance_to_center   3.031812\n",
       "26        cancellation_policy_strict   3.111774\n",
       "14              days_between_reviews   3.182411\n",
       "8                            zipcode   3.230190\n",
       "3             host_identity_verified   3.658379\n",
       "2                       cleaning_fee   4.635310\n",
       "17                        pos_scores   5.573776\n",
       "13               distance_to_airport   5.577878\n",
       "15         years_since_establishment   5.760507\n",
       "16                   word_count_name   7.750673\n",
       "0                       accommodates   7.927823\n",
       "9                           bedrooms   8.582731\n",
       "1                          bathrooms   9.028458\n",
       "11                   no_of_amenities   9.104021\n",
       "10                              beds   9.711838\n",
       "4                 host_response_rate  29.646951\n",
       "7               review_scores_rating  42.259167"
      ]
     },
     "execution_count": 55,
     "metadata": {},
     "output_type": "execute_result"
    }
   ],
   "source": [
    "get_vif(train_numeric)"
   ]
  },
  {
   "cell_type": "code",
   "execution_count": 56,
   "metadata": {},
   "outputs": [
    {
     "name": "stdout",
     "output_type": "stream",
     "text": [
      "                                 OLS Regression Results                                \n",
      "=======================================================================================\n",
      "Dep. Variable:              log_price   R-squared (uncentered):                   0.984\n",
      "Model:                            OLS   Adj. R-squared (uncentered):              0.984\n",
      "Method:                 Least Squares   F-statistic:                          1.076e+05\n",
      "Date:                Fri, 20 Sep 2019   Prob (F-statistic):                        0.00\n",
      "Time:                        16:39:53   Log-Likelihood:                         -44127.\n",
      "No. Observations:               48093   AIC:                                  8.831e+04\n",
      "Df Residuals:                   48065   BIC:                                  8.856e+04\n",
      "Df Model:                          28                                                  \n",
      "Covariance Type:            nonrobust                                                  \n",
      "====================================================================================================\n",
      "                                       coef    std err          t      P>|t|      [0.025      0.975]\n",
      "----------------------------------------------------------------------------------------------------\n",
      "accommodates                         1.1730      0.038     30.767      0.000       1.098       1.248\n",
      "bathrooms                            1.8289      0.049     37.637      0.000       1.734       1.924\n",
      "cleaning_fee                        -0.0111      0.007     -1.594      0.111      -0.025       0.003\n",
      "host_identity_verified              -0.0527      0.006     -8.175      0.000      -0.065      -0.040\n",
      "host_response_rate                   0.8516      0.016     53.250      0.000       0.820       0.883\n",
      "instant_bookable                     0.0041      0.007      0.635      0.526      -0.009       0.017\n",
      "number_of_reviews                   -0.7325      0.059    -12.417      0.000      -0.848      -0.617\n",
      "review_scores_rating                 3.1630      0.020    161.892      0.000       3.125       3.201\n",
      "zipcode                              0.0511      0.008      6.415      0.000       0.035       0.067\n",
      "bedrooms                             1.6296      0.053     30.833      0.000       1.526       1.733\n",
      "beds                                -0.5137      0.074     -6.952      0.000      -0.659      -0.369\n",
      "no_of_amenities                      0.6048      0.038     15.728      0.000       0.529       0.680\n",
      "distance_to_center                  -0.3471      0.030    -11.738      0.000      -0.405      -0.289\n",
      "distance_to_airport                  0.6923      0.027     26.093      0.000       0.640       0.744\n",
      "days_between_reviews                 0.0571      0.027      2.152      0.031       0.005       0.109\n",
      "years_since_establishment            0.4691      0.017     27.088      0.000       0.435       0.503\n",
      "word_count_name                      0.9151      0.042     21.628      0.000       0.832       0.998\n",
      "pos_scores                           0.6271      0.027     23.568      0.000       0.575       0.679\n",
      "property_type_Condominium            0.0749      0.015      4.973      0.000       0.045       0.104\n",
      "property_type_House                 -0.1126      0.008    -14.616      0.000      -0.128      -0.097\n",
      "property_type_Loft                   0.1042      0.022      4.792      0.000       0.062       0.147\n",
      "property_type_Other                  0.0224      0.014      1.544      0.122      -0.006       0.051\n",
      "property_type_Townhouse             -0.1173      0.019     -6.181      0.000      -0.155      -0.080\n",
      "room_type_Private room              -0.4809      0.007    -71.440      0.000      -0.494      -0.468\n",
      "room_type_Shared room               -0.9062      0.017    -52.222      0.000      -0.940      -0.872\n",
      "cancellation_policy_moderate        -0.0342      0.008     -4.319      0.000      -0.050      -0.019\n",
      "cancellation_policy_strict           0.0275      0.007      3.732      0.000       0.013       0.042\n",
      "cancellation_policy_super_strict     0.4723      0.066      7.203      0.000       0.344       0.601\n",
      "==============================================================================\n",
      "Omnibus:                     7821.749   Durbin-Watson:                   1.996\n",
      "Prob(Omnibus):                  0.000   Jarque-Bera (JB):            24928.971\n",
      "Skew:                           0.837   Prob(JB):                         0.00\n",
      "Kurtosis:                       6.105   Cond. No.                         57.4\n",
      "==============================================================================\n",
      "\n",
      "Warnings:\n",
      "[1] Standard Errors assume that the covariance matrix of the errors is correctly specified.\n"
     ]
    }
   ],
   "source": [
    "X_train_numeric,X_test_train_numeric,y_train_numeric,y_test_train_numeric = train_test_split(train_numeric,y,test_size=0.33, random_state=123)\n",
    "lm = sm.OLS(y_train_numeric, X_train_numeric).fit()\n",
    "print(lm.summary())"
   ]
  },
  {
   "cell_type": "markdown",
   "metadata": {},
   "source": [
    "The r-square has suffered a little but the `pos_score` has a p-value of 0 now which makes it significant again. Let us drop the `review_scores_rating` see it has the highest Vif values"
   ]
  },
  {
   "cell_type": "code",
   "execution_count": 57,
   "metadata": {},
   "outputs": [],
   "source": [
    "train_numeric.drop(['review_scores_rating'],inplace=True,axis=1)\n",
    "test_numeric.drop(['review_scores_rating'],inplace=True,axis=1)"
   ]
  },
  {
   "cell_type": "code",
   "execution_count": 58,
   "metadata": {},
   "outputs": [
    {
     "data": {
      "text/html": [
       "<div>\n",
       "<style scoped>\n",
       "    .dataframe tbody tr th:only-of-type {\n",
       "        vertical-align: middle;\n",
       "    }\n",
       "\n",
       "    .dataframe tbody tr th {\n",
       "        vertical-align: top;\n",
       "    }\n",
       "\n",
       "    .dataframe thead th {\n",
       "        text-align: right;\n",
       "    }\n",
       "</style>\n",
       "<table border=\"1\" class=\"dataframe\">\n",
       "  <thead>\n",
       "    <tr style=\"text-align: right;\">\n",
       "      <th></th>\n",
       "      <th>Features</th>\n",
       "      <th>VIF</th>\n",
       "    </tr>\n",
       "  </thead>\n",
       "  <tbody>\n",
       "    <tr>\n",
       "      <td>26</td>\n",
       "      <td>cancellation_policy_super_strict</td>\n",
       "      <td>1.016590</td>\n",
       "    </tr>\n",
       "    <tr>\n",
       "      <td>19</td>\n",
       "      <td>property_type_Loft</td>\n",
       "      <td>1.035073</td>\n",
       "    </tr>\n",
       "    <tr>\n",
       "      <td>21</td>\n",
       "      <td>property_type_Townhouse</td>\n",
       "      <td>1.065684</td>\n",
       "    </tr>\n",
       "    <tr>\n",
       "      <td>17</td>\n",
       "      <td>property_type_Condominium</td>\n",
       "      <td>1.083817</td>\n",
       "    </tr>\n",
       "    <tr>\n",
       "      <td>20</td>\n",
       "      <td>property_type_Other</td>\n",
       "      <td>1.125875</td>\n",
       "    </tr>\n",
       "    <tr>\n",
       "      <td>23</td>\n",
       "      <td>room_type_Shared room</td>\n",
       "      <td>1.134538</td>\n",
       "    </tr>\n",
       "    <tr>\n",
       "      <td>5</td>\n",
       "      <td>instant_bookable</td>\n",
       "      <td>1.478698</td>\n",
       "    </tr>\n",
       "    <tr>\n",
       "      <td>18</td>\n",
       "      <td>property_type_House</td>\n",
       "      <td>1.745212</td>\n",
       "    </tr>\n",
       "    <tr>\n",
       "      <td>24</td>\n",
       "      <td>cancellation_policy_moderate</td>\n",
       "      <td>2.117777</td>\n",
       "    </tr>\n",
       "    <tr>\n",
       "      <td>6</td>\n",
       "      <td>number_of_reviews</td>\n",
       "      <td>2.348566</td>\n",
       "    </tr>\n",
       "    <tr>\n",
       "      <td>22</td>\n",
       "      <td>room_type_Private room</td>\n",
       "      <td>2.408513</td>\n",
       "    </tr>\n",
       "    <tr>\n",
       "      <td>11</td>\n",
       "      <td>distance_to_center</td>\n",
       "      <td>3.027655</td>\n",
       "    </tr>\n",
       "    <tr>\n",
       "      <td>25</td>\n",
       "      <td>cancellation_policy_strict</td>\n",
       "      <td>3.111688</td>\n",
       "    </tr>\n",
       "    <tr>\n",
       "      <td>13</td>\n",
       "      <td>days_between_reviews</td>\n",
       "      <td>3.180599</td>\n",
       "    </tr>\n",
       "    <tr>\n",
       "      <td>7</td>\n",
       "      <td>zipcode</td>\n",
       "      <td>3.198844</td>\n",
       "    </tr>\n",
       "    <tr>\n",
       "      <td>3</td>\n",
       "      <td>host_identity_verified</td>\n",
       "      <td>3.656849</td>\n",
       "    </tr>\n",
       "    <tr>\n",
       "      <td>2</td>\n",
       "      <td>cleaning_fee</td>\n",
       "      <td>4.611189</td>\n",
       "    </tr>\n",
       "    <tr>\n",
       "      <td>12</td>\n",
       "      <td>distance_to_airport</td>\n",
       "      <td>5.255303</td>\n",
       "    </tr>\n",
       "    <tr>\n",
       "      <td>16</td>\n",
       "      <td>pos_scores</td>\n",
       "      <td>5.299643</td>\n",
       "    </tr>\n",
       "    <tr>\n",
       "      <td>14</td>\n",
       "      <td>years_since_establishment</td>\n",
       "      <td>5.582467</td>\n",
       "    </tr>\n",
       "    <tr>\n",
       "      <td>15</td>\n",
       "      <td>word_count_name</td>\n",
       "      <td>7.437010</td>\n",
       "    </tr>\n",
       "    <tr>\n",
       "      <td>0</td>\n",
       "      <td>accommodates</td>\n",
       "      <td>7.904405</td>\n",
       "    </tr>\n",
       "    <tr>\n",
       "      <td>8</td>\n",
       "      <td>bedrooms</td>\n",
       "      <td>8.565112</td>\n",
       "    </tr>\n",
       "    <tr>\n",
       "      <td>10</td>\n",
       "      <td>no_of_amenities</td>\n",
       "      <td>8.788374</td>\n",
       "    </tr>\n",
       "    <tr>\n",
       "      <td>1</td>\n",
       "      <td>bathrooms</td>\n",
       "      <td>8.877919</td>\n",
       "    </tr>\n",
       "    <tr>\n",
       "      <td>9</td>\n",
       "      <td>beds</td>\n",
       "      <td>9.706777</td>\n",
       "    </tr>\n",
       "    <tr>\n",
       "      <td>4</td>\n",
       "      <td>host_response_rate</td>\n",
       "      <td>19.426864</td>\n",
       "    </tr>\n",
       "  </tbody>\n",
       "</table>\n",
       "</div>"
      ],
      "text/plain": [
       "                            Features        VIF\n",
       "26  cancellation_policy_super_strict   1.016590\n",
       "19                property_type_Loft   1.035073\n",
       "21           property_type_Townhouse   1.065684\n",
       "17         property_type_Condominium   1.083817\n",
       "20               property_type_Other   1.125875\n",
       "23             room_type_Shared room   1.134538\n",
       "5                   instant_bookable   1.478698\n",
       "18               property_type_House   1.745212\n",
       "24      cancellation_policy_moderate   2.117777\n",
       "6                  number_of_reviews   2.348566\n",
       "22            room_type_Private room   2.408513\n",
       "11                distance_to_center   3.027655\n",
       "25        cancellation_policy_strict   3.111688\n",
       "13              days_between_reviews   3.180599\n",
       "7                            zipcode   3.198844\n",
       "3             host_identity_verified   3.656849\n",
       "2                       cleaning_fee   4.611189\n",
       "12               distance_to_airport   5.255303\n",
       "16                        pos_scores   5.299643\n",
       "14         years_since_establishment   5.582467\n",
       "15                   word_count_name   7.437010\n",
       "0                       accommodates   7.904405\n",
       "8                           bedrooms   8.565112\n",
       "10                   no_of_amenities   8.788374\n",
       "1                          bathrooms   8.877919\n",
       "9                               beds   9.706777\n",
       "4                 host_response_rate  19.426864"
      ]
     },
     "execution_count": 58,
     "metadata": {},
     "output_type": "execute_result"
    }
   ],
   "source": [
    "get_vif(train_numeric)"
   ]
  },
  {
   "cell_type": "code",
   "execution_count": 59,
   "metadata": {},
   "outputs": [
    {
     "name": "stdout",
     "output_type": "stream",
     "text": [
      "                                 OLS Regression Results                                \n",
      "=======================================================================================\n",
      "Dep. Variable:              log_price   R-squared (uncentered):                   0.976\n",
      "Model:                            OLS   Adj. R-squared (uncentered):              0.976\n",
      "Method:                 Least Squares   F-statistic:                          7.157e+04\n",
      "Date:                Fri, 20 Sep 2019   Prob (F-statistic):                        0.00\n",
      "Time:                        16:40:03   Log-Likelihood:                         -54592.\n",
      "No. Observations:               48093   AIC:                                  1.092e+05\n",
      "Df Residuals:                   48066   BIC:                                  1.095e+05\n",
      "Df Model:                          27                                                  \n",
      "Covariance Type:            nonrobust                                                  \n",
      "====================================================================================================\n",
      "                                       coef    std err          t      P>|t|      [0.025      0.975]\n",
      "----------------------------------------------------------------------------------------------------\n",
      "accommodates                         0.8419      0.047     17.789      0.000       0.749       0.935\n",
      "bathrooms                            2.8544      0.060     47.661      0.000       2.737       2.972\n",
      "cleaning_fee                         0.0665      0.009      7.716      0.000       0.050       0.083\n",
      "host_identity_verified              -0.0311      0.008     -3.886      0.000      -0.047      -0.015\n",
      "host_response_rate                   2.3886      0.016    149.322      0.000       2.357       2.420\n",
      "instant_bookable                    -0.0160      0.008     -1.974      0.048      -0.032      -0.000\n",
      "number_of_reviews                   -0.9807      0.073    -13.378      0.000      -1.124      -0.837\n",
      "zipcode                              0.1800      0.010     18.262      0.000       0.161       0.199\n",
      "bedrooms                             1.9951      0.066     30.395      0.000       1.866       2.124\n",
      "beds                                -0.2160      0.092     -2.352      0.019      -0.396      -0.036\n",
      "no_of_amenities                      1.7697      0.047     37.686      0.000       1.678       1.862\n",
      "distance_to_center                  -0.1584      0.037     -4.313      0.000      -0.230      -0.086\n",
      "distance_to_airport                  1.7088      0.032     53.325      0.000       1.646       1.772\n",
      "days_between_reviews                -0.0448      0.033     -1.357      0.175      -0.109       0.020\n",
      "years_since_establishment            0.9685      0.021     45.728      0.000       0.927       1.010\n",
      "word_count_name                      2.2916      0.052     44.478      0.000       2.191       2.393\n",
      "pos_scores                           1.5716      0.032     48.699      0.000       1.508       1.635\n",
      "property_type_Condominium            0.0749      0.019      3.997      0.000       0.038       0.112\n",
      "property_type_House                 -0.2043      0.010    -21.398      0.000      -0.223      -0.186\n",
      "property_type_Loft                   0.1780      0.027      6.585      0.000       0.125       0.231\n",
      "property_type_Other                  0.0083      0.018      0.460      0.646      -0.027       0.044\n",
      "property_type_Townhouse             -0.2295      0.024     -9.734      0.000      -0.276      -0.183\n",
      "room_type_Private room              -0.3346      0.008    -40.346      0.000      -0.351      -0.318\n",
      "room_type_Shared room               -0.7932      0.022    -36.801      0.000      -0.835      -0.751\n",
      "cancellation_policy_moderate         0.0076      0.010      0.770      0.441      -0.012       0.027\n",
      "cancellation_policy_strict           0.0268      0.009      2.918      0.004       0.009       0.045\n",
      "cancellation_policy_super_strict     0.4573      0.082      5.611      0.000       0.298       0.617\n",
      "==============================================================================\n",
      "Omnibus:                     7149.802   Durbin-Watson:                   1.974\n",
      "Prob(Omnibus):                  0.000   Jarque-Bera (JB):            20533.474\n",
      "Skew:                           0.799   Prob(JB):                         0.00\n",
      "Kurtosis:                       5.774   Cond. No.                         51.1\n",
      "==============================================================================\n",
      "\n",
      "Warnings:\n",
      "[1] Standard Errors assume that the covariance matrix of the errors is correctly specified.\n"
     ]
    }
   ],
   "source": [
    "import statsmodels.api as sm\n",
    "X_train_numeric,X_test_train_numeric,y_train_numeric,y_test_train_numeric = train_test_split(train_numeric,y,test_size=0.33, random_state=123)\n",
    "lm = sm.OLS(y_train_numeric, X_train_numeric).fit()\n",
    "print(lm.summary())"
   ]
  },
  {
   "cell_type": "markdown",
   "metadata": {},
   "source": [
    "If we further remove any more features, the r-square will suffer further. Let us keep cross validate this model and try tuning the parameters to reduce the error rate"
   ]
  },
  {
   "cell_type": "code",
   "execution_count": 60,
   "metadata": {},
   "outputs": [
    {
     "name": "stdout",
     "output_type": "stream",
     "text": [
      "[16:40:03] WARNING: C:/Jenkins/workspace/xgboost-win64_release_0.90/src/objective/regression_obj.cu:152: reg:linear is now deprecated in favor of reg:squarederror.\n"
     ]
    },
    {
     "name": "stderr",
     "output_type": "stream",
     "text": [
      "C:\\Users\\revedala\\AppData\\Local\\Programs\\Python\\Python37\\lib\\site-packages\\xgboost\\core.py:587: FutureWarning: Series.base is deprecated and will be removed in a future version\n",
      "  if getattr(data, 'base', None) is not None and \\\n"
     ]
    },
    {
     "name": "stdout",
     "output_type": "stream",
     "text": [
      "[0]\tvalidation_0-rmse:3.91099\tvalidation_1-rmse:3.91246\n",
      "[1]\tvalidation_0-rmse:3.52605\tvalidation_1-rmse:3.52804\n",
      "[2]\tvalidation_0-rmse:3.18038\tvalidation_1-rmse:3.18301\n",
      "[3]\tvalidation_0-rmse:2.86975\tvalidation_1-rmse:2.87272\n",
      "[4]\tvalidation_0-rmse:2.59113\tvalidation_1-rmse:2.59458\n",
      "[5]\tvalidation_0-rmse:2.34109\tvalidation_1-rmse:2.34497\n",
      "[6]\tvalidation_0-rmse:2.11679\tvalidation_1-rmse:2.121\n",
      "[7]\tvalidation_0-rmse:1.91573\tvalidation_1-rmse:1.92037\n",
      "[8]\tvalidation_0-rmse:1.73569\tvalidation_1-rmse:1.74063\n",
      "[9]\tvalidation_0-rmse:1.5744\tvalidation_1-rmse:1.57968\n",
      "[10]\tvalidation_0-rmse:1.43066\tvalidation_1-rmse:1.43627\n",
      "[11]\tvalidation_0-rmse:1.3025\tvalidation_1-rmse:1.30846\n",
      "[12]\tvalidation_0-rmse:1.18827\tvalidation_1-rmse:1.19462\n",
      "[13]\tvalidation_0-rmse:1.08677\tvalidation_1-rmse:1.09336\n",
      "[14]\tvalidation_0-rmse:0.996909\tvalidation_1-rmse:1.0039\n",
      "[15]\tvalidation_0-rmse:0.917517\tvalidation_1-rmse:0.924857\n",
      "[16]\tvalidation_0-rmse:0.847395\tvalidation_1-rmse:0.85479\n",
      "[17]\tvalidation_0-rmse:0.785898\tvalidation_1-rmse:0.793686\n",
      "[18]\tvalidation_0-rmse:0.732064\tvalidation_1-rmse:0.740089\n",
      "[19]\tvalidation_0-rmse:0.685366\tvalidation_1-rmse:0.693546\n",
      "[20]\tvalidation_0-rmse:0.644101\tvalidation_1-rmse:0.652762\n",
      "[21]\tvalidation_0-rmse:0.608788\tvalidation_1-rmse:0.617666\n",
      "[22]\tvalidation_0-rmse:0.578449\tvalidation_1-rmse:0.587441\n",
      "[23]\tvalidation_0-rmse:0.552451\tvalidation_1-rmse:0.561396\n",
      "[24]\tvalidation_0-rmse:0.530046\tvalidation_1-rmse:0.539021\n",
      "[25]\tvalidation_0-rmse:0.509987\tvalidation_1-rmse:0.519191\n",
      "[26]\tvalidation_0-rmse:0.492931\tvalidation_1-rmse:0.502337\n",
      "[27]\tvalidation_0-rmse:0.478633\tvalidation_1-rmse:0.488224\n",
      "[28]\tvalidation_0-rmse:0.467331\tvalidation_1-rmse:0.476979\n",
      "[29]\tvalidation_0-rmse:0.457689\tvalidation_1-rmse:0.467468\n",
      "[30]\tvalidation_0-rmse:0.44967\tvalidation_1-rmse:0.459452\n",
      "[31]\tvalidation_0-rmse:0.442795\tvalidation_1-rmse:0.45266\n",
      "[32]\tvalidation_0-rmse:0.437059\tvalidation_1-rmse:0.447055\n",
      "[33]\tvalidation_0-rmse:0.431943\tvalidation_1-rmse:0.442042\n",
      "[34]\tvalidation_0-rmse:0.427359\tvalidation_1-rmse:0.437559\n",
      "[35]\tvalidation_0-rmse:0.423956\tvalidation_1-rmse:0.434314\n",
      "[36]\tvalidation_0-rmse:0.4205\tvalidation_1-rmse:0.431047\n",
      "[37]\tvalidation_0-rmse:0.4179\tvalidation_1-rmse:0.428622\n",
      "[38]\tvalidation_0-rmse:0.415533\tvalidation_1-rmse:0.426269\n",
      "[39]\tvalidation_0-rmse:0.413117\tvalidation_1-rmse:0.424028\n",
      "[40]\tvalidation_0-rmse:0.411558\tvalidation_1-rmse:0.422553\n",
      "[41]\tvalidation_0-rmse:0.409721\tvalidation_1-rmse:0.420822\n",
      "[42]\tvalidation_0-rmse:0.407319\tvalidation_1-rmse:0.418439\n",
      "[43]\tvalidation_0-rmse:0.406085\tvalidation_1-rmse:0.417401\n",
      "[44]\tvalidation_0-rmse:0.404838\tvalidation_1-rmse:0.416284\n",
      "[45]\tvalidation_0-rmse:0.403826\tvalidation_1-rmse:0.41545\n",
      "[46]\tvalidation_0-rmse:0.403109\tvalidation_1-rmse:0.414762\n",
      "[47]\tvalidation_0-rmse:0.402129\tvalidation_1-rmse:0.414035\n",
      "[48]\tvalidation_0-rmse:0.401336\tvalidation_1-rmse:0.413399\n",
      "[49]\tvalidation_0-rmse:0.400642\tvalidation_1-rmse:0.412841\n",
      "[50]\tvalidation_0-rmse:0.400149\tvalidation_1-rmse:0.412441\n",
      "[51]\tvalidation_0-rmse:0.39964\tvalidation_1-rmse:0.412081\n",
      "[52]\tvalidation_0-rmse:0.398158\tvalidation_1-rmse:0.410768\n",
      "[53]\tvalidation_0-rmse:0.397648\tvalidation_1-rmse:0.410389\n",
      "[54]\tvalidation_0-rmse:0.396979\tvalidation_1-rmse:0.409795\n",
      "[55]\tvalidation_0-rmse:0.396552\tvalidation_1-rmse:0.40956\n",
      "[56]\tvalidation_0-rmse:0.396064\tvalidation_1-rmse:0.409182\n",
      "[57]\tvalidation_0-rmse:0.395726\tvalidation_1-rmse:0.408885\n",
      "[58]\tvalidation_0-rmse:0.394965\tvalidation_1-rmse:0.408252\n",
      "[59]\tvalidation_0-rmse:0.394501\tvalidation_1-rmse:0.407878\n",
      "[60]\tvalidation_0-rmse:0.394137\tvalidation_1-rmse:0.407597\n",
      "[61]\tvalidation_0-rmse:0.393545\tvalidation_1-rmse:0.407233\n",
      "[62]\tvalidation_0-rmse:0.393152\tvalidation_1-rmse:0.406971\n",
      "[63]\tvalidation_0-rmse:0.392905\tvalidation_1-rmse:0.406833\n",
      "[64]\tvalidation_0-rmse:0.392624\tvalidation_1-rmse:0.406677\n",
      "[65]\tvalidation_0-rmse:0.392111\tvalidation_1-rmse:0.406348\n",
      "[66]\tvalidation_0-rmse:0.391532\tvalidation_1-rmse:0.405935\n",
      "[67]\tvalidation_0-rmse:0.391202\tvalidation_1-rmse:0.405778\n",
      "[68]\tvalidation_0-rmse:0.39032\tvalidation_1-rmse:0.404998\n",
      "[69]\tvalidation_0-rmse:0.389935\tvalidation_1-rmse:0.404732\n",
      "[70]\tvalidation_0-rmse:0.389635\tvalidation_1-rmse:0.4045\n",
      "[71]\tvalidation_0-rmse:0.388905\tvalidation_1-rmse:0.403917\n",
      "[72]\tvalidation_0-rmse:0.388482\tvalidation_1-rmse:0.403667\n",
      "[73]\tvalidation_0-rmse:0.388072\tvalidation_1-rmse:0.403439\n",
      "[74]\tvalidation_0-rmse:0.387851\tvalidation_1-rmse:0.403321\n",
      "[75]\tvalidation_0-rmse:0.387558\tvalidation_1-rmse:0.403169\n",
      "[76]\tvalidation_0-rmse:0.387332\tvalidation_1-rmse:0.403057\n",
      "[77]\tvalidation_0-rmse:0.38705\tvalidation_1-rmse:0.402844\n",
      "[78]\tvalidation_0-rmse:0.386672\tvalidation_1-rmse:0.402608\n",
      "[79]\tvalidation_0-rmse:0.386272\tvalidation_1-rmse:0.402349\n",
      "[80]\tvalidation_0-rmse:0.385734\tvalidation_1-rmse:0.401891\n",
      "[81]\tvalidation_0-rmse:0.385468\tvalidation_1-rmse:0.401774\n",
      "[82]\tvalidation_0-rmse:0.385287\tvalidation_1-rmse:0.401688\n",
      "[83]\tvalidation_0-rmse:0.385027\tvalidation_1-rmse:0.401579\n",
      "[84]\tvalidation_0-rmse:0.384774\tvalidation_1-rmse:0.401452\n",
      "[85]\tvalidation_0-rmse:0.3842\tvalidation_1-rmse:0.401039\n",
      "[86]\tvalidation_0-rmse:0.384044\tvalidation_1-rmse:0.400964\n",
      "[87]\tvalidation_0-rmse:0.383906\tvalidation_1-rmse:0.400923\n",
      "[88]\tvalidation_0-rmse:0.383605\tvalidation_1-rmse:0.400783\n",
      "[89]\tvalidation_0-rmse:0.38342\tvalidation_1-rmse:0.400727\n",
      "[90]\tvalidation_0-rmse:0.383058\tvalidation_1-rmse:0.400446\n",
      "[91]\tvalidation_0-rmse:0.382781\tvalidation_1-rmse:0.400352\n",
      "[92]\tvalidation_0-rmse:0.382523\tvalidation_1-rmse:0.400226\n",
      "[93]\tvalidation_0-rmse:0.382309\tvalidation_1-rmse:0.400154\n",
      "[94]\tvalidation_0-rmse:0.381908\tvalidation_1-rmse:0.399889\n",
      "[95]\tvalidation_0-rmse:0.381787\tvalidation_1-rmse:0.399815\n",
      "[96]\tvalidation_0-rmse:0.381709\tvalidation_1-rmse:0.399779\n",
      "[97]\tvalidation_0-rmse:0.381487\tvalidation_1-rmse:0.399643\n",
      "[98]\tvalidation_0-rmse:0.381137\tvalidation_1-rmse:0.399425\n",
      "[99]\tvalidation_0-rmse:0.380892\tvalidation_1-rmse:0.3993\n",
      "[100]\tvalidation_0-rmse:0.380717\tvalidation_1-rmse:0.39922\n",
      "[101]\tvalidation_0-rmse:0.380507\tvalidation_1-rmse:0.399085\n",
      "[102]\tvalidation_0-rmse:0.380226\tvalidation_1-rmse:0.39898\n",
      "[103]\tvalidation_0-rmse:0.380011\tvalidation_1-rmse:0.398907\n",
      "[104]\tvalidation_0-rmse:0.379856\tvalidation_1-rmse:0.398835\n",
      "[105]\tvalidation_0-rmse:0.379555\tvalidation_1-rmse:0.398712\n",
      "[106]\tvalidation_0-rmse:0.379504\tvalidation_1-rmse:0.398694\n",
      "[107]\tvalidation_0-rmse:0.379209\tvalidation_1-rmse:0.398575\n",
      "[108]\tvalidation_0-rmse:0.379039\tvalidation_1-rmse:0.398501\n",
      "[109]\tvalidation_0-rmse:0.37885\tvalidation_1-rmse:0.39833\n",
      "[110]\tvalidation_0-rmse:0.37865\tvalidation_1-rmse:0.398201\n",
      "[111]\tvalidation_0-rmse:0.378422\tvalidation_1-rmse:0.398184\n",
      "[112]\tvalidation_0-rmse:0.378031\tvalidation_1-rmse:0.398004\n",
      "[113]\tvalidation_0-rmse:0.377775\tvalidation_1-rmse:0.397909\n",
      "[114]\tvalidation_0-rmse:0.377652\tvalidation_1-rmse:0.397882\n",
      "[115]\tvalidation_0-rmse:0.377484\tvalidation_1-rmse:0.397828\n",
      "[116]\tvalidation_0-rmse:0.377393\tvalidation_1-rmse:0.397825\n",
      "[117]\tvalidation_0-rmse:0.377345\tvalidation_1-rmse:0.397779\n",
      "[118]\tvalidation_0-rmse:0.376898\tvalidation_1-rmse:0.397542\n",
      "[119]\tvalidation_0-rmse:0.376772\tvalidation_1-rmse:0.39749\n",
      "[120]\tvalidation_0-rmse:0.376596\tvalidation_1-rmse:0.397386\n",
      "[121]\tvalidation_0-rmse:0.376331\tvalidation_1-rmse:0.39723\n",
      "[122]\tvalidation_0-rmse:0.376263\tvalidation_1-rmse:0.397219\n",
      "[123]\tvalidation_0-rmse:0.376013\tvalidation_1-rmse:0.39718\n",
      "[124]\tvalidation_0-rmse:0.37586\tvalidation_1-rmse:0.397069\n",
      "[125]\tvalidation_0-rmse:0.375812\tvalidation_1-rmse:0.39707\n",
      "[126]\tvalidation_0-rmse:0.375727\tvalidation_1-rmse:0.397065\n",
      "[127]\tvalidation_0-rmse:0.375439\tvalidation_1-rmse:0.396901\n",
      "[128]\tvalidation_0-rmse:0.375306\tvalidation_1-rmse:0.396892\n",
      "[129]\tvalidation_0-rmse:0.375149\tvalidation_1-rmse:0.39687\n",
      "[130]\tvalidation_0-rmse:0.375023\tvalidation_1-rmse:0.396869\n",
      "[131]\tvalidation_0-rmse:0.374834\tvalidation_1-rmse:0.396798\n",
      "[132]\tvalidation_0-rmse:0.374614\tvalidation_1-rmse:0.396764\n",
      "[133]\tvalidation_0-rmse:0.374486\tvalidation_1-rmse:0.396719\n",
      "[134]\tvalidation_0-rmse:0.374135\tvalidation_1-rmse:0.396571\n",
      "[135]\tvalidation_0-rmse:0.374036\tvalidation_1-rmse:0.396541\n",
      "[136]\tvalidation_0-rmse:0.373898\tvalidation_1-rmse:0.396499\n",
      "[137]\tvalidation_0-rmse:0.373753\tvalidation_1-rmse:0.396446\n",
      "[138]\tvalidation_0-rmse:0.373686\tvalidation_1-rmse:0.396465\n",
      "[139]\tvalidation_0-rmse:0.373644\tvalidation_1-rmse:0.396451\n"
     ]
    },
    {
     "name": "stdout",
     "output_type": "stream",
     "text": [
      "[140]\tvalidation_0-rmse:0.373438\tvalidation_1-rmse:0.396404\n",
      "[141]\tvalidation_0-rmse:0.373295\tvalidation_1-rmse:0.396369\n",
      "[142]\tvalidation_0-rmse:0.373203\tvalidation_1-rmse:0.396359\n",
      "[143]\tvalidation_0-rmse:0.373042\tvalidation_1-rmse:0.396345\n",
      "[144]\tvalidation_0-rmse:0.372813\tvalidation_1-rmse:0.396233\n",
      "[145]\tvalidation_0-rmse:0.372738\tvalidation_1-rmse:0.396215\n",
      "[146]\tvalidation_0-rmse:0.372629\tvalidation_1-rmse:0.396186\n",
      "[147]\tvalidation_0-rmse:0.372466\tvalidation_1-rmse:0.396131\n",
      "[148]\tvalidation_0-rmse:0.372299\tvalidation_1-rmse:0.395974\n",
      "[149]\tvalidation_0-rmse:0.372217\tvalidation_1-rmse:0.395942\n",
      "[150]\tvalidation_0-rmse:0.372112\tvalidation_1-rmse:0.395888\n",
      "[151]\tvalidation_0-rmse:0.371699\tvalidation_1-rmse:0.395565\n",
      "[152]\tvalidation_0-rmse:0.371656\tvalidation_1-rmse:0.395557\n",
      "[153]\tvalidation_0-rmse:0.371618\tvalidation_1-rmse:0.395554\n",
      "[154]\tvalidation_0-rmse:0.371447\tvalidation_1-rmse:0.395491\n",
      "[155]\tvalidation_0-rmse:0.371276\tvalidation_1-rmse:0.395442\n",
      "[156]\tvalidation_0-rmse:0.371151\tvalidation_1-rmse:0.395346\n",
      "[157]\tvalidation_0-rmse:0.371061\tvalidation_1-rmse:0.395332\n",
      "[158]\tvalidation_0-rmse:0.371016\tvalidation_1-rmse:0.395311\n",
      "[159]\tvalidation_0-rmse:0.370891\tvalidation_1-rmse:0.395279\n",
      "[160]\tvalidation_0-rmse:0.370618\tvalidation_1-rmse:0.395122\n",
      "[161]\tvalidation_0-rmse:0.370379\tvalidation_1-rmse:0.395024\n",
      "[162]\tvalidation_0-rmse:0.370257\tvalidation_1-rmse:0.394999\n",
      "[163]\tvalidation_0-rmse:0.369998\tvalidation_1-rmse:0.394908\n",
      "[164]\tvalidation_0-rmse:0.369865\tvalidation_1-rmse:0.394917\n",
      "[165]\tvalidation_0-rmse:0.369524\tvalidation_1-rmse:0.394701\n",
      "[166]\tvalidation_0-rmse:0.369422\tvalidation_1-rmse:0.394694\n",
      "[167]\tvalidation_0-rmse:0.369345\tvalidation_1-rmse:0.394669\n",
      "[168]\tvalidation_0-rmse:0.369191\tvalidation_1-rmse:0.394611\n",
      "[169]\tvalidation_0-rmse:0.369106\tvalidation_1-rmse:0.39456\n",
      "[170]\tvalidation_0-rmse:0.369051\tvalidation_1-rmse:0.394562\n",
      "[171]\tvalidation_0-rmse:0.368927\tvalidation_1-rmse:0.394523\n",
      "[172]\tvalidation_0-rmse:0.368866\tvalidation_1-rmse:0.394488\n",
      "[173]\tvalidation_0-rmse:0.368766\tvalidation_1-rmse:0.3945\n",
      "[174]\tvalidation_0-rmse:0.368446\tvalidation_1-rmse:0.394256\n",
      "[175]\tvalidation_0-rmse:0.368375\tvalidation_1-rmse:0.394224\n",
      "[176]\tvalidation_0-rmse:0.36825\tvalidation_1-rmse:0.394171\n",
      "[177]\tvalidation_0-rmse:0.368094\tvalidation_1-rmse:0.394152\n",
      "[178]\tvalidation_0-rmse:0.36802\tvalidation_1-rmse:0.394152\n",
      "[179]\tvalidation_0-rmse:0.367917\tvalidation_1-rmse:0.394163\n",
      "[180]\tvalidation_0-rmse:0.367811\tvalidation_1-rmse:0.394157\n",
      "[181]\tvalidation_0-rmse:0.367589\tvalidation_1-rmse:0.394072\n",
      "[182]\tvalidation_0-rmse:0.36739\tvalidation_1-rmse:0.393946\n",
      "[183]\tvalidation_0-rmse:0.367201\tvalidation_1-rmse:0.393871\n",
      "[184]\tvalidation_0-rmse:0.367011\tvalidation_1-rmse:0.393823\n",
      "[185]\tvalidation_0-rmse:0.366802\tvalidation_1-rmse:0.393718\n",
      "[186]\tvalidation_0-rmse:0.366576\tvalidation_1-rmse:0.393681\n",
      "[187]\tvalidation_0-rmse:0.366556\tvalidation_1-rmse:0.393677\n",
      "[188]\tvalidation_0-rmse:0.366501\tvalidation_1-rmse:0.39367\n",
      "[189]\tvalidation_0-rmse:0.36628\tvalidation_1-rmse:0.39358\n",
      "[190]\tvalidation_0-rmse:0.366229\tvalidation_1-rmse:0.393574\n",
      "[191]\tvalidation_0-rmse:0.366154\tvalidation_1-rmse:0.393564\n",
      "[192]\tvalidation_0-rmse:0.365885\tvalidation_1-rmse:0.393418\n",
      "[193]\tvalidation_0-rmse:0.365596\tvalidation_1-rmse:0.39333\n",
      "[194]\tvalidation_0-rmse:0.365467\tvalidation_1-rmse:0.393295\n",
      "[195]\tvalidation_0-rmse:0.365245\tvalidation_1-rmse:0.393129\n",
      "[196]\tvalidation_0-rmse:0.3651\tvalidation_1-rmse:0.393125\n",
      "[197]\tvalidation_0-rmse:0.36496\tvalidation_1-rmse:0.393063\n",
      "[198]\tvalidation_0-rmse:0.364884\tvalidation_1-rmse:0.393075\n",
      "[199]\tvalidation_0-rmse:0.36465\tvalidation_1-rmse:0.39297\n",
      "Wall time: 23.9 s\n"
     ]
    },
    {
     "data": {
      "text/plain": [
       "XGBRegressor(base_score=0.5, booster='gbtree', colsample_bylevel=1,\n",
       "             colsample_bynode=1, colsample_bytree=1, gamma=1,\n",
       "             importance_type='gain', learning_rate=0.1, max_delta_step=0,\n",
       "             max_depth=5, min_child_weight=1, missing=None, n_estimators=200,\n",
       "             n_jobs=1, nthread=None, objective='reg:linear', random_state=123,\n",
       "             reg_alpha=0, reg_lambda=1, scale_pos_weight=1, seed=None,\n",
       "             silent=None, subsample=0.8, verbosity=1)"
      ]
     },
     "execution_count": 60,
     "metadata": {},
     "output_type": "execute_result"
    }
   ],
   "source": [
    "eval_set = [(X_train_numeric, y_train_numeric), (X_test_train_numeric, y_test_train_numeric)]\n",
    "eval_metric = [\"rmse\"]\n",
    "xgb_boost_fine = xgb.XGBRegressor(learning_rate=0.1, n_estimators=200, max_depth=5, subsample=0.8, colsample_bytree=1,gamma=1,random_state=123)\n",
    "%time xgb_boost_fine.fit(X_train_numeric, y_train_numeric, eval_metric=eval_metric, eval_set=eval_set, verbose=True)"
   ]
  },
  {
   "cell_type": "markdown",
   "metadata": {},
   "source": [
    "The internal evaluation validation scores of XGBoost produced above seem promising. Let us create a trial model and see how it fairs"
   ]
  },
  {
   "cell_type": "code",
   "execution_count": 61,
   "metadata": {},
   "outputs": [
    {
     "name": "stdout",
     "output_type": "stream",
     "text": [
      "[16:40:27] WARNING: C:/Jenkins/workspace/xgboost-win64_release_0.90/src/objective/regression_obj.cu:152: reg:linear is now deprecated in favor of reg:squarederror.\n"
     ]
    },
    {
     "data": {
      "text/plain": [
       "'0.3929711055295448'"
      ]
     },
     "execution_count": 61,
     "metadata": {},
     "output_type": "execute_result"
    }
   ],
   "source": [
    "xgb_trial = xgb.XGBRegressor(learning_rate=0.1, n_estimators=200, max_depth=5, subsample=0.8, colsample_bytree=1,gamma=1, random_state=123)\n",
    "xgb_trial.fit(X_train_numeric, y_train_numeric, verbose=True)\n",
    "predict_values = xgb_trial.predict(X_test_train_numeric)\n",
    "rmse = str(np.sqrt(np.mean((y_test_train_numeric - predict_values)**2)))\n",
    "rmse"
   ]
  },
  {
   "cell_type": "markdown",
   "metadata": {},
   "source": [
    "Let us see how the model fairs with cross validation"
   ]
  },
  {
   "cell_type": "code",
   "execution_count": 62,
   "metadata": {},
   "outputs": [
    {
     "name": "stdout",
     "output_type": "stream",
     "text": [
      "Train Index:  [14357 14358 14359 ... 71778 71779 71780] \n",
      "\n",
      "Test Index:  [    0     1     2 ... 14354 14355 14356]\n",
      "[16:40:46] WARNING: C:/Jenkins/workspace/xgboost-win64_release_0.90/src/objective/regression_obj.cu:152: reg:linear is now deprecated in favor of reg:squarederror.\n",
      "Train Index:  [    0     1     2 ... 71778 71779 71780] \n",
      "\n",
      "Test Index:  [14357 14358 14359 ... 28710 28711 28712]\n",
      "[16:41:11] WARNING: C:/Jenkins/workspace/xgboost-win64_release_0.90/src/objective/regression_obj.cu:152: reg:linear is now deprecated in favor of reg:squarederror.\n",
      "Train Index:  [    0     1     2 ... 71778 71779 71780] \n",
      "\n",
      "Test Index:  [28713 28714 28715 ... 43066 43067 43068]\n",
      "[16:41:33] WARNING: C:/Jenkins/workspace/xgboost-win64_release_0.90/src/objective/regression_obj.cu:152: reg:linear is now deprecated in favor of reg:squarederror.\n",
      "Train Index:  [    0     1     2 ... 71778 71779 71780] \n",
      "\n",
      "Test Index:  [43069 43070 43071 ... 57422 57423 57424]\n",
      "[16:41:53] WARNING: C:/Jenkins/workspace/xgboost-win64_release_0.90/src/objective/regression_obj.cu:152: reg:linear is now deprecated in favor of reg:squarederror.\n",
      "Train Index:  [    0     1     2 ... 57422 57423 57424] \n",
      "\n",
      "Test Index:  [57425 57426 57427 ... 71778 71779 71780]\n",
      "[16:42:14] WARNING: C:/Jenkins/workspace/xgboost-win64_release_0.90/src/objective/regression_obj.cu:152: reg:linear is now deprecated in favor of reg:squarederror.\n"
     ]
    },
    {
     "data": {
      "text/plain": [
       "['0.3914663288259822',\n",
       " '0.39478382689814073',\n",
       " '0.38484881660303916',\n",
       " '0.39023726173767836',\n",
       " '0.3934039620006861']"
      ]
     },
     "execution_count": 62,
     "metadata": {},
     "output_type": "execute_result"
    }
   ],
   "source": [
    "check_cross_validate(train_numeric,xgb_trial.get_params())"
   ]
  },
  {
   "cell_type": "markdown",
   "metadata": {},
   "source": [
    "The scores produced from the 5 folds are very close to each other. Hence, the model hasnt been overfitted"
   ]
  },
  {
   "cell_type": "markdown",
   "metadata": {},
   "source": [
    "Lets drop `host_response_rate`(since it has the highest VIF value) as well and see how it behaves"
   ]
  },
  {
   "cell_type": "code",
   "execution_count": 63,
   "metadata": {},
   "outputs": [],
   "source": [
    "train_numeric.drop(['host_response_rate'],inplace=True,axis=1)\n",
    "test_numeric.drop(['host_response_rate'],inplace=True,axis=1)"
   ]
  },
  {
   "cell_type": "code",
   "execution_count": 64,
   "metadata": {},
   "outputs": [
    {
     "name": "stdout",
     "output_type": "stream",
     "text": [
      "                                 OLS Regression Results                                \n",
      "=======================================================================================\n",
      "Dep. Variable:              log_price   R-squared (uncentered):                   0.964\n",
      "Model:                            OLS   Adj. R-squared (uncentered):              0.964\n",
      "Method:                 Least Squares   F-statistic:                          5.019e+04\n",
      "Date:                Fri, 20 Sep 2019   Prob (F-statistic):                        0.00\n",
      "Time:                        16:42:34   Log-Likelihood:                         -63756.\n",
      "No. Observations:               48093   AIC:                                  1.276e+05\n",
      "Df Residuals:                   48067   BIC:                                  1.278e+05\n",
      "Df Model:                          26                                                  \n",
      "Covariance Type:            nonrobust                                                  \n",
      "====================================================================================================\n",
      "                                       coef    std err          t      P>|t|      [0.025      0.975]\n",
      "----------------------------------------------------------------------------------------------------\n",
      "accommodates                         0.5107      0.057      8.929      0.000       0.399       0.623\n",
      "bathrooms                            4.1197      0.072     57.434      0.000       3.979       4.260\n",
      "cleaning_fee                         0.2427      0.010     23.515      0.000       0.222       0.263\n",
      "host_identity_verified               0.0337      0.010      3.485      0.000       0.015       0.053\n",
      "instant_bookable                     0.1223      0.010     12.544      0.000       0.103       0.141\n",
      "number_of_reviews                   -0.6448      0.089     -7.273      0.000      -0.819      -0.471\n",
      "zipcode                              0.3462      0.012     29.224      0.000       0.323       0.369\n",
      "bedrooms                             2.3287      0.079     29.339      0.000       2.173       2.484\n",
      "beds                                 0.5553      0.111      5.005      0.000       0.338       0.773\n",
      "no_of_amenities                      3.3491      0.055     60.504      0.000       3.241       3.458\n",
      "distance_to_center                   0.0263      0.044      0.593      0.553      -0.061       0.113\n",
      "distance_to_airport                  3.1120      0.037     83.957      0.000       3.039       3.185\n",
      "days_between_reviews                -0.0798      0.040     -1.999      0.046      -0.158      -0.002\n",
      "years_since_establishment            1.5649      0.025     62.181      0.000       1.516       1.614\n",
      "word_count_name                      4.3762      0.060     72.931      0.000       4.259       4.494\n",
      "pos_scores                           2.7750      0.038     73.395      0.000       2.701       2.849\n",
      "property_type_Condominium            0.0442      0.023      1.948      0.051      -0.000       0.089\n",
      "property_type_House                 -0.3223      0.012    -27.996      0.000      -0.345      -0.300\n",
      "property_type_Loft                   0.2072      0.033      6.337      0.000       0.143       0.271\n",
      "property_type_Other                  0.0305      0.022      1.401      0.161      -0.012       0.073\n",
      "property_type_Townhouse             -0.3661      0.029    -12.841      0.000      -0.422      -0.310\n",
      "room_type_Private room              -0.0841      0.010     -8.562      0.000      -0.103      -0.065\n",
      "room_type_Shared room               -0.6170      0.026    -23.695      0.000      -0.668      -0.566\n",
      "cancellation_policy_moderate         0.1498      0.012     12.642      0.000       0.127       0.173\n",
      "cancellation_policy_strict           0.1444      0.011     13.062      0.000       0.123       0.166\n",
      "cancellation_policy_super_strict     0.2085      0.099      2.115      0.034       0.015       0.402\n",
      "==============================================================================\n",
      "Omnibus:                      988.115   Durbin-Watson:                   1.949\n",
      "Prob(Omnibus):                  0.000   Jarque-Bera (JB):             2098.459\n",
      "Skew:                          -0.071   Prob(JB):                         0.00\n",
      "Kurtosis:                       4.013   Cond. No.                         43.9\n",
      "==============================================================================\n",
      "\n",
      "Warnings:\n",
      "[1] Standard Errors assume that the covariance matrix of the errors is correctly specified.\n"
     ]
    }
   ],
   "source": [
    "X_train_numeric,X_test_train_numeric,y_train_numeric,y_test_train_numeric = train_test_split(train_numeric,y,test_size=0.33, random_state=123)\n",
    "lm = sm.OLS(y_train_numeric, X_train_numeric).fit()\n",
    "print(lm.summary())"
   ]
  },
  {
   "cell_type": "code",
   "execution_count": 65,
   "metadata": {},
   "outputs": [
    {
     "data": {
      "text/html": [
       "<div>\n",
       "<style scoped>\n",
       "    .dataframe tbody tr th:only-of-type {\n",
       "        vertical-align: middle;\n",
       "    }\n",
       "\n",
       "    .dataframe tbody tr th {\n",
       "        vertical-align: top;\n",
       "    }\n",
       "\n",
       "    .dataframe thead th {\n",
       "        text-align: right;\n",
       "    }\n",
       "</style>\n",
       "<table border=\"1\" class=\"dataframe\">\n",
       "  <thead>\n",
       "    <tr style=\"text-align: right;\">\n",
       "      <th></th>\n",
       "      <th>Features</th>\n",
       "      <th>VIF</th>\n",
       "    </tr>\n",
       "  </thead>\n",
       "  <tbody>\n",
       "    <tr>\n",
       "      <td>25</td>\n",
       "      <td>cancellation_policy_super_strict</td>\n",
       "      <td>1.016317</td>\n",
       "    </tr>\n",
       "    <tr>\n",
       "      <td>18</td>\n",
       "      <td>property_type_Loft</td>\n",
       "      <td>1.035035</td>\n",
       "    </tr>\n",
       "    <tr>\n",
       "      <td>20</td>\n",
       "      <td>property_type_Townhouse</td>\n",
       "      <td>1.064288</td>\n",
       "    </tr>\n",
       "    <tr>\n",
       "      <td>16</td>\n",
       "      <td>property_type_Condominium</td>\n",
       "      <td>1.083741</td>\n",
       "    </tr>\n",
       "    <tr>\n",
       "      <td>19</td>\n",
       "      <td>property_type_Other</td>\n",
       "      <td>1.125708</td>\n",
       "    </tr>\n",
       "    <tr>\n",
       "      <td>22</td>\n",
       "      <td>room_type_Shared room</td>\n",
       "      <td>1.131197</td>\n",
       "    </tr>\n",
       "    <tr>\n",
       "      <td>4</td>\n",
       "      <td>instant_bookable</td>\n",
       "      <td>1.459376</td>\n",
       "    </tr>\n",
       "    <tr>\n",
       "      <td>17</td>\n",
       "      <td>property_type_House</td>\n",
       "      <td>1.734379</td>\n",
       "    </tr>\n",
       "    <tr>\n",
       "      <td>23</td>\n",
       "      <td>cancellation_policy_moderate</td>\n",
       "      <td>2.098861</td>\n",
       "    </tr>\n",
       "    <tr>\n",
       "      <td>21</td>\n",
       "      <td>room_type_Private room</td>\n",
       "      <td>2.313540</td>\n",
       "    </tr>\n",
       "    <tr>\n",
       "      <td>5</td>\n",
       "      <td>number_of_reviews</td>\n",
       "      <td>2.346453</td>\n",
       "    </tr>\n",
       "    <tr>\n",
       "      <td>10</td>\n",
       "      <td>distance_to_center</td>\n",
       "      <td>3.024934</td>\n",
       "    </tr>\n",
       "    <tr>\n",
       "      <td>24</td>\n",
       "      <td>cancellation_policy_strict</td>\n",
       "      <td>3.090519</td>\n",
       "    </tr>\n",
       "    <tr>\n",
       "      <td>6</td>\n",
       "      <td>zipcode</td>\n",
       "      <td>3.161207</td>\n",
       "    </tr>\n",
       "    <tr>\n",
       "      <td>12</td>\n",
       "      <td>days_between_reviews</td>\n",
       "      <td>3.180238</td>\n",
       "    </tr>\n",
       "    <tr>\n",
       "      <td>3</td>\n",
       "      <td>host_identity_verified</td>\n",
       "      <td>3.646291</td>\n",
       "    </tr>\n",
       "    <tr>\n",
       "      <td>2</td>\n",
       "      <td>cleaning_fee</td>\n",
       "      <td>4.525490</td>\n",
       "    </tr>\n",
       "    <tr>\n",
       "      <td>11</td>\n",
       "      <td>distance_to_airport</td>\n",
       "      <td>4.811661</td>\n",
       "    </tr>\n",
       "    <tr>\n",
       "      <td>15</td>\n",
       "      <td>pos_scores</td>\n",
       "      <td>4.991062</td>\n",
       "    </tr>\n",
       "    <tr>\n",
       "      <td>13</td>\n",
       "      <td>years_since_establishment</td>\n",
       "      <td>5.377904</td>\n",
       "    </tr>\n",
       "    <tr>\n",
       "      <td>14</td>\n",
       "      <td>word_count_name</td>\n",
       "      <td>6.902055</td>\n",
       "    </tr>\n",
       "    <tr>\n",
       "      <td>0</td>\n",
       "      <td>accommodates</td>\n",
       "      <td>7.885633</td>\n",
       "    </tr>\n",
       "    <tr>\n",
       "      <td>9</td>\n",
       "      <td>no_of_amenities</td>\n",
       "      <td>8.333865</td>\n",
       "    </tr>\n",
       "    <tr>\n",
       "      <td>7</td>\n",
       "      <td>bedrooms</td>\n",
       "      <td>8.554608</td>\n",
       "    </tr>\n",
       "    <tr>\n",
       "      <td>1</td>\n",
       "      <td>bathrooms</td>\n",
       "      <td>8.702635</td>\n",
       "    </tr>\n",
       "    <tr>\n",
       "      <td>8</td>\n",
       "      <td>beds</td>\n",
       "      <td>9.676672</td>\n",
       "    </tr>\n",
       "  </tbody>\n",
       "</table>\n",
       "</div>"
      ],
      "text/plain": [
       "                            Features       VIF\n",
       "25  cancellation_policy_super_strict  1.016317\n",
       "18                property_type_Loft  1.035035\n",
       "20           property_type_Townhouse  1.064288\n",
       "16         property_type_Condominium  1.083741\n",
       "19               property_type_Other  1.125708\n",
       "22             room_type_Shared room  1.131197\n",
       "4                   instant_bookable  1.459376\n",
       "17               property_type_House  1.734379\n",
       "23      cancellation_policy_moderate  2.098861\n",
       "21            room_type_Private room  2.313540\n",
       "5                  number_of_reviews  2.346453\n",
       "10                distance_to_center  3.024934\n",
       "24        cancellation_policy_strict  3.090519\n",
       "6                            zipcode  3.161207\n",
       "12              days_between_reviews  3.180238\n",
       "3             host_identity_verified  3.646291\n",
       "2                       cleaning_fee  4.525490\n",
       "11               distance_to_airport  4.811661\n",
       "15                        pos_scores  4.991062\n",
       "13         years_since_establishment  5.377904\n",
       "14                   word_count_name  6.902055\n",
       "0                       accommodates  7.885633\n",
       "9                    no_of_amenities  8.333865\n",
       "7                           bedrooms  8.554608\n",
       "1                          bathrooms  8.702635\n",
       "8                               beds  9.676672"
      ]
     },
     "execution_count": 65,
     "metadata": {},
     "output_type": "execute_result"
    }
   ],
   "source": [
    "get_vif(train_numeric)"
   ]
  },
  {
   "cell_type": "markdown",
   "metadata": {},
   "source": [
    "Now that all the features have a vif score less than 10, lets create another model and see how it behaves"
   ]
  },
  {
   "cell_type": "code",
   "execution_count": 66,
   "metadata": {},
   "outputs": [
    {
     "name": "stdout",
     "output_type": "stream",
     "text": [
      "[16:42:40] WARNING: C:/Jenkins/workspace/xgboost-win64_release_0.90/src/objective/regression_obj.cu:152: reg:linear is now deprecated in favor of reg:squarederror.\n"
     ]
    },
    {
     "data": {
      "text/plain": [
       "'0.39327030753774206'"
      ]
     },
     "execution_count": 66,
     "metadata": {},
     "output_type": "execute_result"
    }
   ],
   "source": [
    "xgb_try_two = xgb.XGBRegressor(learning_rate=0.1, n_estimators=200, max_depth=5, subsample=0.8, colsample_bytree=1,gamma=1,random_state=123)\n",
    "xgb_try_two.fit(X_train_numeric, y_train_numeric, verbose=True)\n",
    "predict_values = xgb_try_two.predict(X_test_train_numeric)\n",
    "rmse = str(np.sqrt(np.mean((y_test_train_numeric - predict_values)**2)))\n",
    "rmse"
   ]
  },
  {
   "cell_type": "markdown",
   "metadata": {},
   "source": [
    "The drop in rmse value is expected since we dropped some information. We have to tune the model to make increase its performance"
   ]
  },
  {
   "cell_type": "code",
   "execution_count": 67,
   "metadata": {},
   "outputs": [
    {
     "name": "stdout",
     "output_type": "stream",
     "text": [
      "Train Index:  [14357 14358 14359 ... 71778 71779 71780] \n",
      "\n",
      "Test Index:  [    0     1     2 ... 14354 14355 14356]\n",
      "[16:42:57] WARNING: C:/Jenkins/workspace/xgboost-win64_release_0.90/src/objective/regression_obj.cu:152: reg:linear is now deprecated in favor of reg:squarederror.\n",
      "Train Index:  [    0     1     2 ... 71778 71779 71780] \n",
      "\n",
      "Test Index:  [14357 14358 14359 ... 28710 28711 28712]\n",
      "[16:43:19] WARNING: C:/Jenkins/workspace/xgboost-win64_release_0.90/src/objective/regression_obj.cu:152: reg:linear is now deprecated in favor of reg:squarederror.\n",
      "Train Index:  [    0     1     2 ... 71778 71779 71780] \n",
      "\n",
      "Test Index:  [28713 28714 28715 ... 43066 43067 43068]\n",
      "[16:43:43] WARNING: C:/Jenkins/workspace/xgboost-win64_release_0.90/src/objective/regression_obj.cu:152: reg:linear is now deprecated in favor of reg:squarederror.\n",
      "Train Index:  [    0     1     2 ... 71778 71779 71780] \n",
      "\n",
      "Test Index:  [43069 43070 43071 ... 57422 57423 57424]\n",
      "[16:44:06] WARNING: C:/Jenkins/workspace/xgboost-win64_release_0.90/src/objective/regression_obj.cu:152: reg:linear is now deprecated in favor of reg:squarederror.\n",
      "Train Index:  [    0     1     2 ... 57422 57423 57424] \n",
      "\n",
      "Test Index:  [57425 57426 57427 ... 71778 71779 71780]\n",
      "[16:44:28] WARNING: C:/Jenkins/workspace/xgboost-win64_release_0.90/src/objective/regression_obj.cu:152: reg:linear is now deprecated in favor of reg:squarederror.\n"
     ]
    },
    {
     "data": {
      "text/plain": [
       "['0.39300521565711594',\n",
       " '0.3945162020653468',\n",
       " '0.3846427987951118',\n",
       " '0.3901950572135827',\n",
       " '0.39269062519332715']"
      ]
     },
     "execution_count": 67,
     "metadata": {},
     "output_type": "execute_result"
    }
   ],
   "source": [
    "check_cross_validate(train_numeric,xgb_try_two.get_params())"
   ]
  },
  {
   "cell_type": "markdown",
   "metadata": {},
   "source": [
    "### Tuning the Model Parameters\n",
    "The model seems to be over trained on one of the sets. Lets tune the model to ensure this doesnt happen. Since we know that the model was tending towards getting over trained, let us reduce the percentage of features used to train the model by reducing `colsample_bytree`"
   ]
  },
  {
   "cell_type": "code",
   "execution_count": 68,
   "metadata": {},
   "outputs": [
    {
     "name": "stdout",
     "output_type": "stream",
     "text": [
      "[16:44:52] WARNING: C:/Jenkins/workspace/xgboost-win64_release_0.90/src/objective/regression_obj.cu:152: reg:linear is now deprecated in favor of reg:squarederror.\n",
      "[0]\tvalidation_0-rmse:3.91249\tvalidation_1-rmse:3.91377\n",
      "[1]\tvalidation_0-rmse:3.52773\tvalidation_1-rmse:3.52953\n",
      "[2]\tvalidation_0-rmse:3.18288\tvalidation_1-rmse:3.18505\n",
      "[3]\tvalidation_0-rmse:2.87186\tvalidation_1-rmse:2.87459\n",
      "[4]\tvalidation_0-rmse:2.59307\tvalidation_1-rmse:2.59622\n",
      "[5]\tvalidation_0-rmse:2.34268\tvalidation_1-rmse:2.34606\n",
      "[6]\tvalidation_0-rmse:2.11811\tvalidation_1-rmse:2.12194\n",
      "[7]\tvalidation_0-rmse:1.91722\tvalidation_1-rmse:1.92149\n",
      "[8]\tvalidation_0-rmse:1.73682\tvalidation_1-rmse:1.74143\n",
      "[9]\tvalidation_0-rmse:1.5757\tvalidation_1-rmse:1.58086\n",
      "[10]\tvalidation_0-rmse:1.43147\tvalidation_1-rmse:1.43701\n",
      "[11]\tvalidation_0-rmse:1.30307\tvalidation_1-rmse:1.30893\n",
      "[12]\tvalidation_0-rmse:1.18873\tvalidation_1-rmse:1.19504\n",
      "[13]\tvalidation_0-rmse:1.08687\tvalidation_1-rmse:1.09353\n",
      "[14]\tvalidation_0-rmse:0.996846\tvalidation_1-rmse:1.00385\n",
      "[15]\tvalidation_0-rmse:0.917335\tvalidation_1-rmse:0.92467\n",
      "[16]\tvalidation_0-rmse:0.846983\tvalidation_1-rmse:0.854485\n",
      "[17]\tvalidation_0-rmse:0.784836\tvalidation_1-rmse:0.792554\n",
      "[18]\tvalidation_0-rmse:0.730642\tvalidation_1-rmse:0.738503\n",
      "[19]\tvalidation_0-rmse:0.683535\tvalidation_1-rmse:0.691473\n",
      "[20]\tvalidation_0-rmse:0.642765\tvalidation_1-rmse:0.650984\n",
      "[21]\tvalidation_0-rmse:0.607469\tvalidation_1-rmse:0.615917\n",
      "[22]\tvalidation_0-rmse:0.577018\tvalidation_1-rmse:0.585591\n",
      "[23]\tvalidation_0-rmse:0.551028\tvalidation_1-rmse:0.559796\n",
      "[24]\tvalidation_0-rmse:0.528474\tvalidation_1-rmse:0.537462\n",
      "[25]\tvalidation_0-rmse:0.509259\tvalidation_1-rmse:0.518334\n",
      "[26]\tvalidation_0-rmse:0.493036\tvalidation_1-rmse:0.5022\n",
      "[27]\tvalidation_0-rmse:0.47941\tvalidation_1-rmse:0.488807\n",
      "[28]\tvalidation_0-rmse:0.468041\tvalidation_1-rmse:0.477464\n",
      "[29]\tvalidation_0-rmse:0.458535\tvalidation_1-rmse:0.468073\n",
      "[30]\tvalidation_0-rmse:0.450661\tvalidation_1-rmse:0.460261\n",
      "[31]\tvalidation_0-rmse:0.443843\tvalidation_1-rmse:0.453507\n",
      "[32]\tvalidation_0-rmse:0.437453\tvalidation_1-rmse:0.447297\n",
      "[33]\tvalidation_0-rmse:0.432607\tvalidation_1-rmse:0.442575\n",
      "[34]\tvalidation_0-rmse:0.428165\tvalidation_1-rmse:0.438303\n",
      "[35]\tvalidation_0-rmse:0.424512\tvalidation_1-rmse:0.434822\n",
      "[36]\tvalidation_0-rmse:0.420986\tvalidation_1-rmse:0.431419\n",
      "[37]\tvalidation_0-rmse:0.418338\tvalidation_1-rmse:0.428739\n",
      "[38]\tvalidation_0-rmse:0.415574\tvalidation_1-rmse:0.425956\n",
      "[39]\tvalidation_0-rmse:0.413374\tvalidation_1-rmse:0.423875\n",
      "[40]\tvalidation_0-rmse:0.411606\tvalidation_1-rmse:0.422194\n",
      "[41]\tvalidation_0-rmse:0.410411\tvalidation_1-rmse:0.421044\n",
      "[42]\tvalidation_0-rmse:0.408197\tvalidation_1-rmse:0.418993\n",
      "[43]\tvalidation_0-rmse:0.406707\tvalidation_1-rmse:0.417702\n",
      "[44]\tvalidation_0-rmse:0.405684\tvalidation_1-rmse:0.41684\n",
      "[45]\tvalidation_0-rmse:0.403953\tvalidation_1-rmse:0.415313\n",
      "[46]\tvalidation_0-rmse:0.402809\tvalidation_1-rmse:0.414239\n",
      "[47]\tvalidation_0-rmse:0.401913\tvalidation_1-rmse:0.413503\n",
      "[48]\tvalidation_0-rmse:0.401207\tvalidation_1-rmse:0.412889\n",
      "[49]\tvalidation_0-rmse:0.400563\tvalidation_1-rmse:0.412352\n",
      "[50]\tvalidation_0-rmse:0.399907\tvalidation_1-rmse:0.411768\n",
      "[51]\tvalidation_0-rmse:0.399398\tvalidation_1-rmse:0.411409\n",
      "[52]\tvalidation_0-rmse:0.398729\tvalidation_1-rmse:0.410907\n",
      "[53]\tvalidation_0-rmse:0.397878\tvalidation_1-rmse:0.410224\n",
      "[54]\tvalidation_0-rmse:0.397458\tvalidation_1-rmse:0.409936\n",
      "[55]\tvalidation_0-rmse:0.396924\tvalidation_1-rmse:0.409558\n",
      "[56]\tvalidation_0-rmse:0.396549\tvalidation_1-rmse:0.409287\n",
      "[57]\tvalidation_0-rmse:0.396314\tvalidation_1-rmse:0.409105\n",
      "[58]\tvalidation_0-rmse:0.395744\tvalidation_1-rmse:0.408617\n",
      "[59]\tvalidation_0-rmse:0.395334\tvalidation_1-rmse:0.408435\n",
      "[60]\tvalidation_0-rmse:0.394988\tvalidation_1-rmse:0.40821\n",
      "[61]\tvalidation_0-rmse:0.394438\tvalidation_1-rmse:0.407794\n",
      "[62]\tvalidation_0-rmse:0.394056\tvalidation_1-rmse:0.407487\n",
      "[63]\tvalidation_0-rmse:0.393786\tvalidation_1-rmse:0.407366\n",
      "[64]\tvalidation_0-rmse:0.393053\tvalidation_1-rmse:0.406794\n",
      "[65]\tvalidation_0-rmse:0.392721\tvalidation_1-rmse:0.406594\n",
      "[66]\tvalidation_0-rmse:0.392437\tvalidation_1-rmse:0.40645\n",
      "[67]\tvalidation_0-rmse:0.392089\tvalidation_1-rmse:0.406246\n",
      "[68]\tvalidation_0-rmse:0.391854\tvalidation_1-rmse:0.406125\n",
      "[69]\tvalidation_0-rmse:0.391465\tvalidation_1-rmse:0.405866\n",
      "[70]\tvalidation_0-rmse:0.391163\tvalidation_1-rmse:0.405671\n",
      "[71]\tvalidation_0-rmse:0.390805\tvalidation_1-rmse:0.405443\n",
      "[72]\tvalidation_0-rmse:0.390574\tvalidation_1-rmse:0.405348\n",
      "[73]\tvalidation_0-rmse:0.390304\tvalidation_1-rmse:0.405203\n",
      "[74]\tvalidation_0-rmse:0.390155\tvalidation_1-rmse:0.405109\n",
      "[75]\tvalidation_0-rmse:0.389715\tvalidation_1-rmse:0.404819\n",
      "[76]\tvalidation_0-rmse:0.389366\tvalidation_1-rmse:0.404617\n",
      "[77]\tvalidation_0-rmse:0.389144\tvalidation_1-rmse:0.404469\n",
      "[78]\tvalidation_0-rmse:0.388958\tvalidation_1-rmse:0.404392\n",
      "[79]\tvalidation_0-rmse:0.388566\tvalidation_1-rmse:0.404157\n",
      "[80]\tvalidation_0-rmse:0.387855\tvalidation_1-rmse:0.403597\n",
      "[81]\tvalidation_0-rmse:0.38759\tvalidation_1-rmse:0.403474\n",
      "[82]\tvalidation_0-rmse:0.387453\tvalidation_1-rmse:0.403434\n",
      "[83]\tvalidation_0-rmse:0.387203\tvalidation_1-rmse:0.403365\n",
      "[84]\tvalidation_0-rmse:0.38693\tvalidation_1-rmse:0.403301\n",
      "[85]\tvalidation_0-rmse:0.386678\tvalidation_1-rmse:0.403215\n",
      "[86]\tvalidation_0-rmse:0.386586\tvalidation_1-rmse:0.403159\n",
      "[87]\tvalidation_0-rmse:0.386233\tvalidation_1-rmse:0.402946\n",
      "[88]\tvalidation_0-rmse:0.386048\tvalidation_1-rmse:0.40288\n",
      "[89]\tvalidation_0-rmse:0.385599\tvalidation_1-rmse:0.40264\n",
      "[90]\tvalidation_0-rmse:0.385273\tvalidation_1-rmse:0.402466\n",
      "[91]\tvalidation_0-rmse:0.385049\tvalidation_1-rmse:0.402336\n",
      "[92]\tvalidation_0-rmse:0.384773\tvalidation_1-rmse:0.402172\n",
      "[93]\tvalidation_0-rmse:0.384616\tvalidation_1-rmse:0.402078\n",
      "[94]\tvalidation_0-rmse:0.384208\tvalidation_1-rmse:0.401859\n",
      "[95]\tvalidation_0-rmse:0.384095\tvalidation_1-rmse:0.401801\n",
      "[96]\tvalidation_0-rmse:0.383935\tvalidation_1-rmse:0.401774\n",
      "[97]\tvalidation_0-rmse:0.383724\tvalidation_1-rmse:0.401622\n",
      "[98]\tvalidation_0-rmse:0.383409\tvalidation_1-rmse:0.401548\n",
      "[99]\tvalidation_0-rmse:0.383174\tvalidation_1-rmse:0.401443\n",
      "[100]\tvalidation_0-rmse:0.383021\tvalidation_1-rmse:0.40139\n",
      "[101]\tvalidation_0-rmse:0.382812\tvalidation_1-rmse:0.401296\n",
      "[102]\tvalidation_0-rmse:0.382521\tvalidation_1-rmse:0.401142\n",
      "[103]\tvalidation_0-rmse:0.382323\tvalidation_1-rmse:0.401061\n",
      "[104]\tvalidation_0-rmse:0.382197\tvalidation_1-rmse:0.40102\n",
      "[105]\tvalidation_0-rmse:0.381947\tvalidation_1-rmse:0.400887\n",
      "[106]\tvalidation_0-rmse:0.381821\tvalidation_1-rmse:0.400833\n",
      "[107]\tvalidation_0-rmse:0.381351\tvalidation_1-rmse:0.40062\n",
      "[108]\tvalidation_0-rmse:0.381118\tvalidation_1-rmse:0.400452\n",
      "[109]\tvalidation_0-rmse:0.380852\tvalidation_1-rmse:0.400178\n",
      "[110]\tvalidation_0-rmse:0.380678\tvalidation_1-rmse:0.400084\n",
      "[111]\tvalidation_0-rmse:0.380573\tvalidation_1-rmse:0.40004\n",
      "[112]\tvalidation_0-rmse:0.380377\tvalidation_1-rmse:0.399992\n",
      "[113]\tvalidation_0-rmse:0.380073\tvalidation_1-rmse:0.399841\n",
      "[114]\tvalidation_0-rmse:0.379963\tvalidation_1-rmse:0.399772\n",
      "[115]\tvalidation_0-rmse:0.379749\tvalidation_1-rmse:0.399717\n",
      "[116]\tvalidation_0-rmse:0.379626\tvalidation_1-rmse:0.399694\n",
      "[117]\tvalidation_0-rmse:0.379577\tvalidation_1-rmse:0.399659\n",
      "[118]\tvalidation_0-rmse:0.379406\tvalidation_1-rmse:0.399637\n",
      "[119]\tvalidation_0-rmse:0.379197\tvalidation_1-rmse:0.39954\n",
      "[120]\tvalidation_0-rmse:0.379119\tvalidation_1-rmse:0.399522\n",
      "[121]\tvalidation_0-rmse:0.378989\tvalidation_1-rmse:0.399445\n",
      "[122]\tvalidation_0-rmse:0.378714\tvalidation_1-rmse:0.399219\n",
      "[123]\tvalidation_0-rmse:0.378658\tvalidation_1-rmse:0.399198\n",
      "[124]\tvalidation_0-rmse:0.378604\tvalidation_1-rmse:0.399178\n",
      "[125]\tvalidation_0-rmse:0.378327\tvalidation_1-rmse:0.399018\n",
      "[126]\tvalidation_0-rmse:0.378218\tvalidation_1-rmse:0.398982\n",
      "[127]\tvalidation_0-rmse:0.377909\tvalidation_1-rmse:0.39878\n",
      "[128]\tvalidation_0-rmse:0.37779\tvalidation_1-rmse:0.398751\n",
      "[129]\tvalidation_0-rmse:0.37767\tvalidation_1-rmse:0.398666\n",
      "[130]\tvalidation_0-rmse:0.37756\tvalidation_1-rmse:0.398632\n",
      "[131]\tvalidation_0-rmse:0.377433\tvalidation_1-rmse:0.398567\n",
      "[132]\tvalidation_0-rmse:0.377263\tvalidation_1-rmse:0.398559\n",
      "[133]\tvalidation_0-rmse:0.377105\tvalidation_1-rmse:0.398522\n",
      "[134]\tvalidation_0-rmse:0.376905\tvalidation_1-rmse:0.398464\n",
      "[135]\tvalidation_0-rmse:0.376797\tvalidation_1-rmse:0.398458\n",
      "[136]\tvalidation_0-rmse:0.376676\tvalidation_1-rmse:0.39841\n"
     ]
    },
    {
     "name": "stdout",
     "output_type": "stream",
     "text": [
      "[137]\tvalidation_0-rmse:0.376592\tvalidation_1-rmse:0.398365\n",
      "[138]\tvalidation_0-rmse:0.37653\tvalidation_1-rmse:0.39835\n",
      "[139]\tvalidation_0-rmse:0.376429\tvalidation_1-rmse:0.398315\n",
      "[140]\tvalidation_0-rmse:0.376285\tvalidation_1-rmse:0.398279\n",
      "[141]\tvalidation_0-rmse:0.376161\tvalidation_1-rmse:0.398232\n",
      "[142]\tvalidation_0-rmse:0.375997\tvalidation_1-rmse:0.398129\n",
      "[143]\tvalidation_0-rmse:0.375724\tvalidation_1-rmse:0.397954\n",
      "[144]\tvalidation_0-rmse:0.375439\tvalidation_1-rmse:0.397785\n",
      "[145]\tvalidation_0-rmse:0.375401\tvalidation_1-rmse:0.397751\n",
      "[146]\tvalidation_0-rmse:0.375216\tvalidation_1-rmse:0.397717\n",
      "[147]\tvalidation_0-rmse:0.375094\tvalidation_1-rmse:0.397658\n",
      "[148]\tvalidation_0-rmse:0.374682\tvalidation_1-rmse:0.397356\n",
      "[149]\tvalidation_0-rmse:0.374561\tvalidation_1-rmse:0.397292\n",
      "[150]\tvalidation_0-rmse:0.374515\tvalidation_1-rmse:0.397258\n",
      "[151]\tvalidation_0-rmse:0.374458\tvalidation_1-rmse:0.39727\n",
      "[152]\tvalidation_0-rmse:0.374434\tvalidation_1-rmse:0.397265\n",
      "[153]\tvalidation_0-rmse:0.374363\tvalidation_1-rmse:0.397243\n",
      "[154]\tvalidation_0-rmse:0.3743\tvalidation_1-rmse:0.397213\n",
      "[155]\tvalidation_0-rmse:0.374216\tvalidation_1-rmse:0.397228\n",
      "[156]\tvalidation_0-rmse:0.37396\tvalidation_1-rmse:0.397111\n",
      "[157]\tvalidation_0-rmse:0.373744\tvalidation_1-rmse:0.39706\n",
      "[158]\tvalidation_0-rmse:0.37361\tvalidation_1-rmse:0.397015\n",
      "[159]\tvalidation_0-rmse:0.373396\tvalidation_1-rmse:0.396946\n",
      "[160]\tvalidation_0-rmse:0.373258\tvalidation_1-rmse:0.396911\n",
      "[161]\tvalidation_0-rmse:0.373132\tvalidation_1-rmse:0.396883\n",
      "[162]\tvalidation_0-rmse:0.372972\tvalidation_1-rmse:0.396735\n",
      "[163]\tvalidation_0-rmse:0.372849\tvalidation_1-rmse:0.396696\n",
      "[164]\tvalidation_0-rmse:0.372677\tvalidation_1-rmse:0.396698\n",
      "[165]\tvalidation_0-rmse:0.372501\tvalidation_1-rmse:0.396591\n",
      "[166]\tvalidation_0-rmse:0.372416\tvalidation_1-rmse:0.39653\n",
      "[167]\tvalidation_0-rmse:0.372319\tvalidation_1-rmse:0.39646\n",
      "[168]\tvalidation_0-rmse:0.372093\tvalidation_1-rmse:0.396313\n",
      "[169]\tvalidation_0-rmse:0.371879\tvalidation_1-rmse:0.396228\n",
      "[170]\tvalidation_0-rmse:0.371674\tvalidation_1-rmse:0.396122\n",
      "[171]\tvalidation_0-rmse:0.371524\tvalidation_1-rmse:0.396046\n",
      "[172]\tvalidation_0-rmse:0.371442\tvalidation_1-rmse:0.396011\n",
      "[173]\tvalidation_0-rmse:0.371307\tvalidation_1-rmse:0.395988\n",
      "[174]\tvalidation_0-rmse:0.371182\tvalidation_1-rmse:0.39596\n",
      "[175]\tvalidation_0-rmse:0.371108\tvalidation_1-rmse:0.3959\n",
      "[176]\tvalidation_0-rmse:0.370975\tvalidation_1-rmse:0.395846\n",
      "[177]\tvalidation_0-rmse:0.370699\tvalidation_1-rmse:0.39576\n",
      "[178]\tvalidation_0-rmse:0.37044\tvalidation_1-rmse:0.395599\n",
      "[179]\tvalidation_0-rmse:0.370398\tvalidation_1-rmse:0.395603\n",
      "[180]\tvalidation_0-rmse:0.370319\tvalidation_1-rmse:0.395596\n",
      "[181]\tvalidation_0-rmse:0.370141\tvalidation_1-rmse:0.395539\n",
      "[182]\tvalidation_0-rmse:0.369943\tvalidation_1-rmse:0.395424\n",
      "[183]\tvalidation_0-rmse:0.369797\tvalidation_1-rmse:0.395433\n",
      "[184]\tvalidation_0-rmse:0.369734\tvalidation_1-rmse:0.395438\n",
      "[185]\tvalidation_0-rmse:0.369522\tvalidation_1-rmse:0.395365\n",
      "[186]\tvalidation_0-rmse:0.369409\tvalidation_1-rmse:0.395319\n",
      "[187]\tvalidation_0-rmse:0.369304\tvalidation_1-rmse:0.395302\n",
      "[188]\tvalidation_0-rmse:0.369219\tvalidation_1-rmse:0.395263\n",
      "[189]\tvalidation_0-rmse:0.369081\tvalidation_1-rmse:0.395181\n",
      "[190]\tvalidation_0-rmse:0.369034\tvalidation_1-rmse:0.395153\n",
      "[191]\tvalidation_0-rmse:0.368944\tvalidation_1-rmse:0.395125\n",
      "[192]\tvalidation_0-rmse:0.36886\tvalidation_1-rmse:0.395064\n",
      "[193]\tvalidation_0-rmse:0.368738\tvalidation_1-rmse:0.395024\n",
      "[194]\tvalidation_0-rmse:0.368641\tvalidation_1-rmse:0.394973\n",
      "[195]\tvalidation_0-rmse:0.36858\tvalidation_1-rmse:0.394936\n",
      "[196]\tvalidation_0-rmse:0.368526\tvalidation_1-rmse:0.394931\n",
      "[197]\tvalidation_0-rmse:0.368462\tvalidation_1-rmse:0.394913\n",
      "[198]\tvalidation_0-rmse:0.368419\tvalidation_1-rmse:0.394902\n",
      "[199]\tvalidation_0-rmse:0.368313\tvalidation_1-rmse:0.394894\n",
      "Wall time: 24.3 s\n"
     ]
    },
    {
     "data": {
      "text/plain": [
       "XGBRegressor(base_score=0.5, booster='gbtree', colsample_bylevel=1,\n",
       "             colsample_bynode=1, colsample_bytree=0.8, gamma=1,\n",
       "             importance_type='gain', learning_rate=0.1, max_delta_step=0,\n",
       "             max_depth=5, min_child_weight=1, missing=None, n_estimators=200,\n",
       "             n_jobs=1, nthread=None, objective='reg:linear', random_state=123,\n",
       "             reg_alpha=0, reg_lambda=1, scale_pos_weight=1, seed=None,\n",
       "             silent=None, subsample=0.8, verbosity=1)"
      ]
     },
     "execution_count": 68,
     "metadata": {},
     "output_type": "execute_result"
    }
   ],
   "source": [
    "eval_set = [(X_train_numeric, y_train_numeric), (X_test_train_numeric, y_test_train_numeric)]\n",
    "eval_metric = [\"rmse\"]\n",
    "xgb_boost_fine = xgb.XGBRegressor(learning_rate=0.1, n_estimators=200, max_depth=5, subsample=0.8, colsample_bytree=0.8,gamma=1, random_state=123)\n",
    "%time xgb_boost_fine.fit(X_train_numeric, y_train_numeric, eval_metric=eval_metric, eval_set=eval_set, verbose=True)"
   ]
  },
  {
   "cell_type": "code",
   "execution_count": 69,
   "metadata": {},
   "outputs": [
    {
     "name": "stdout",
     "output_type": "stream",
     "text": [
      "Train Index:  [14357 14358 14359 ... 71778 71779 71780] \n",
      "\n",
      "Test Index:  [    0     1     2 ... 14354 14355 14356]\n",
      "[16:45:16] WARNING: C:/Jenkins/workspace/xgboost-win64_release_0.90/src/objective/regression_obj.cu:152: reg:linear is now deprecated in favor of reg:squarederror.\n",
      "Train Index:  [    0     1     2 ... 71778 71779 71780] \n",
      "\n",
      "Test Index:  [14357 14358 14359 ... 28710 28711 28712]\n",
      "[16:45:39] WARNING: C:/Jenkins/workspace/xgboost-win64_release_0.90/src/objective/regression_obj.cu:152: reg:linear is now deprecated in favor of reg:squarederror.\n",
      "Train Index:  [    0     1     2 ... 71778 71779 71780] \n",
      "\n",
      "Test Index:  [28713 28714 28715 ... 43066 43067 43068]\n",
      "[16:46:06] WARNING: C:/Jenkins/workspace/xgboost-win64_release_0.90/src/objective/regression_obj.cu:152: reg:linear is now deprecated in favor of reg:squarederror.\n",
      "Train Index:  [    0     1     2 ... 71778 71779 71780] \n",
      "\n",
      "Test Index:  [43069 43070 43071 ... 57422 57423 57424]\n",
      "[16:46:33] WARNING: C:/Jenkins/workspace/xgboost-win64_release_0.90/src/objective/regression_obj.cu:152: reg:linear is now deprecated in favor of reg:squarederror.\n",
      "Train Index:  [    0     1     2 ... 57422 57423 57424] \n",
      "\n",
      "Test Index:  [57425 57426 57427 ... 71778 71779 71780]\n",
      "[16:46:57] WARNING: C:/Jenkins/workspace/xgboost-win64_release_0.90/src/objective/regression_obj.cu:152: reg:linear is now deprecated in favor of reg:squarederror.\n"
     ]
    },
    {
     "data": {
      "text/plain": [
       "['0.3925168894736139',\n",
       " '0.395224345355207',\n",
       " '0.38476454174430075',\n",
       " '0.39058118674095105',\n",
       " '0.3944758702018885']"
      ]
     },
     "execution_count": 69,
     "metadata": {},
     "output_type": "execute_result"
    }
   ],
   "source": [
    "check_cross_validate(train_numeric, xgb_boost_fine.get_params())"
   ]
  },
  {
   "cell_type": "markdown",
   "metadata": {},
   "source": [
    "The first validation rmse scores are closer to the second validation rmse scores. This means that the model was able to correct its behaviour of overfitting to some extent. Let us focus on increasing the accuracy by introducing a little bit of complexity to the model. Let us reduce the `learning_rate` and increase the `max_depth`. Let us also reduce the features being used."
   ]
  },
  {
   "cell_type": "code",
   "execution_count": 70,
   "metadata": {},
   "outputs": [
    {
     "name": "stdout",
     "output_type": "stream",
     "text": [
      "[16:47:21] WARNING: C:/Jenkins/workspace/xgboost-win64_release_0.90/src/objective/regression_obj.cu:152: reg:linear is now deprecated in favor of reg:squarederror.\n",
      "[0]\tvalidation_0-rmse:3.99905\tvalidation_1-rmse:4.0001\n",
      "[1]\tvalidation_0-rmse:3.68411\tvalidation_1-rmse:3.68561\n",
      "[2]\tvalidation_0-rmse:3.39559\tvalidation_1-rmse:3.39744\n",
      "[3]\tvalidation_0-rmse:3.12925\tvalidation_1-rmse:3.1316\n",
      "[4]\tvalidation_0-rmse:2.88743\tvalidation_1-rmse:2.88978\n",
      "[5]\tvalidation_0-rmse:2.66255\tvalidation_1-rmse:2.66527\n",
      "[6]\tvalidation_0-rmse:2.45622\tvalidation_1-rmse:2.45934\n",
      "[7]\tvalidation_0-rmse:2.26717\tvalidation_1-rmse:2.27068\n",
      "[8]\tvalidation_0-rmse:2.09347\tvalidation_1-rmse:2.09731\n",
      "[9]\tvalidation_0-rmse:1.93424\tvalidation_1-rmse:1.93849\n",
      "[10]\tvalidation_0-rmse:1.7879\tvalidation_1-rmse:1.79235\n",
      "[11]\tvalidation_0-rmse:1.654\tvalidation_1-rmse:1.65878\n",
      "[12]\tvalidation_0-rmse:1.53146\tvalidation_1-rmse:1.53666\n",
      "[13]\tvalidation_0-rmse:1.41909\tvalidation_1-rmse:1.42458\n",
      "[14]\tvalidation_0-rmse:1.3167\tvalidation_1-rmse:1.32237\n",
      "[15]\tvalidation_0-rmse:1.22319\tvalidation_1-rmse:1.22913\n",
      "[16]\tvalidation_0-rmse:1.13799\tvalidation_1-rmse:1.14424\n",
      "[17]\tvalidation_0-rmse:1.06034\tvalidation_1-rmse:1.06683\n",
      "[18]\tvalidation_0-rmse:0.989544\tvalidation_1-rmse:0.996446\n",
      "[19]\tvalidation_0-rmse:0.925649\tvalidation_1-rmse:0.932778\n",
      "[20]\tvalidation_0-rmse:0.867329\tvalidation_1-rmse:0.874829\n",
      "[21]\tvalidation_0-rmse:0.814931\tvalidation_1-rmse:0.822689\n",
      "[22]\tvalidation_0-rmse:0.767392\tvalidation_1-rmse:0.775535\n",
      "[23]\tvalidation_0-rmse:0.724932\tvalidation_1-rmse:0.733367\n",
      "[24]\tvalidation_0-rmse:0.68658\tvalidation_1-rmse:0.695324\n",
      "[25]\tvalidation_0-rmse:0.651828\tvalidation_1-rmse:0.660929\n",
      "[26]\tvalidation_0-rmse:0.620566\tvalidation_1-rmse:0.630075\n",
      "[27]\tvalidation_0-rmse:0.59327\tvalidation_1-rmse:0.603091\n",
      "[28]\tvalidation_0-rmse:0.569195\tvalidation_1-rmse:0.579247\n",
      "[29]\tvalidation_0-rmse:0.547613\tvalidation_1-rmse:0.558077\n",
      "[30]\tvalidation_0-rmse:0.528552\tvalidation_1-rmse:0.539332\n",
      "[31]\tvalidation_0-rmse:0.511718\tvalidation_1-rmse:0.522837\n",
      "[32]\tvalidation_0-rmse:0.496941\tvalidation_1-rmse:0.508504\n",
      "[33]\tvalidation_0-rmse:0.483803\tvalidation_1-rmse:0.495678\n",
      "[34]\tvalidation_0-rmse:0.47246\tvalidation_1-rmse:0.484588\n",
      "[35]\tvalidation_0-rmse:0.462036\tvalidation_1-rmse:0.474507\n",
      "[36]\tvalidation_0-rmse:0.453092\tvalidation_1-rmse:0.465749\n",
      "[37]\tvalidation_0-rmse:0.445383\tvalidation_1-rmse:0.458272\n",
      "[38]\tvalidation_0-rmse:0.438606\tvalidation_1-rmse:0.451767\n",
      "[39]\tvalidation_0-rmse:0.432435\tvalidation_1-rmse:0.445825\n",
      "[40]\tvalidation_0-rmse:0.427496\tvalidation_1-rmse:0.441074\n",
      "[41]\tvalidation_0-rmse:0.423362\tvalidation_1-rmse:0.437077\n",
      "[42]\tvalidation_0-rmse:0.419368\tvalidation_1-rmse:0.433193\n",
      "[43]\tvalidation_0-rmse:0.415777\tvalidation_1-rmse:0.429743\n",
      "[44]\tvalidation_0-rmse:0.412617\tvalidation_1-rmse:0.426797\n",
      "[45]\tvalidation_0-rmse:0.40969\tvalidation_1-rmse:0.424099\n",
      "[46]\tvalidation_0-rmse:0.407349\tvalidation_1-rmse:0.421956\n",
      "[47]\tvalidation_0-rmse:0.404894\tvalidation_1-rmse:0.419697\n",
      "[48]\tvalidation_0-rmse:0.403024\tvalidation_1-rmse:0.41796\n",
      "[49]\tvalidation_0-rmse:0.401352\tvalidation_1-rmse:0.416533\n",
      "[50]\tvalidation_0-rmse:0.399937\tvalidation_1-rmse:0.415188\n",
      "[51]\tvalidation_0-rmse:0.398148\tvalidation_1-rmse:0.413503\n",
      "[52]\tvalidation_0-rmse:0.396955\tvalidation_1-rmse:0.412451\n",
      "[53]\tvalidation_0-rmse:0.39586\tvalidation_1-rmse:0.411553\n",
      "[54]\tvalidation_0-rmse:0.394642\tvalidation_1-rmse:0.410499\n",
      "[55]\tvalidation_0-rmse:0.393824\tvalidation_1-rmse:0.409813\n",
      "[56]\tvalidation_0-rmse:0.392477\tvalidation_1-rmse:0.40873\n",
      "[57]\tvalidation_0-rmse:0.391905\tvalidation_1-rmse:0.408261\n",
      "[58]\tvalidation_0-rmse:0.39097\tvalidation_1-rmse:0.407571\n",
      "[59]\tvalidation_0-rmse:0.390164\tvalidation_1-rmse:0.406973\n",
      "[60]\tvalidation_0-rmse:0.389449\tvalidation_1-rmse:0.406584\n",
      "[61]\tvalidation_0-rmse:0.388638\tvalidation_1-rmse:0.405936\n",
      "[62]\tvalidation_0-rmse:0.388057\tvalidation_1-rmse:0.405546\n",
      "[63]\tvalidation_0-rmse:0.387539\tvalidation_1-rmse:0.405233\n",
      "[64]\tvalidation_0-rmse:0.386909\tvalidation_1-rmse:0.404694\n",
      "[65]\tvalidation_0-rmse:0.386449\tvalidation_1-rmse:0.404446\n",
      "[66]\tvalidation_0-rmse:0.38609\tvalidation_1-rmse:0.404182\n",
      "[67]\tvalidation_0-rmse:0.385487\tvalidation_1-rmse:0.403832\n",
      "[68]\tvalidation_0-rmse:0.385151\tvalidation_1-rmse:0.40364\n",
      "[69]\tvalidation_0-rmse:0.38477\tvalidation_1-rmse:0.403388\n",
      "[70]\tvalidation_0-rmse:0.384312\tvalidation_1-rmse:0.403069\n",
      "[71]\tvalidation_0-rmse:0.383925\tvalidation_1-rmse:0.402814\n",
      "[72]\tvalidation_0-rmse:0.383585\tvalidation_1-rmse:0.402659\n",
      "[73]\tvalidation_0-rmse:0.383252\tvalidation_1-rmse:0.402488\n",
      "[74]\tvalidation_0-rmse:0.383051\tvalidation_1-rmse:0.402349\n",
      "[75]\tvalidation_0-rmse:0.382714\tvalidation_1-rmse:0.402165\n",
      "[76]\tvalidation_0-rmse:0.38235\tvalidation_1-rmse:0.401898\n",
      "[77]\tvalidation_0-rmse:0.382174\tvalidation_1-rmse:0.40182\n",
      "[78]\tvalidation_0-rmse:0.38185\tvalidation_1-rmse:0.401696\n",
      "[79]\tvalidation_0-rmse:0.381651\tvalidation_1-rmse:0.401567\n",
      "[80]\tvalidation_0-rmse:0.380966\tvalidation_1-rmse:0.401051\n",
      "[81]\tvalidation_0-rmse:0.380648\tvalidation_1-rmse:0.40084\n",
      "[82]\tvalidation_0-rmse:0.380486\tvalidation_1-rmse:0.400744\n",
      "[83]\tvalidation_0-rmse:0.380168\tvalidation_1-rmse:0.400626\n",
      "[84]\tvalidation_0-rmse:0.379589\tvalidation_1-rmse:0.400262\n",
      "[85]\tvalidation_0-rmse:0.379289\tvalidation_1-rmse:0.40014\n",
      "[86]\tvalidation_0-rmse:0.379095\tvalidation_1-rmse:0.400104\n",
      "[87]\tvalidation_0-rmse:0.378794\tvalidation_1-rmse:0.399985\n",
      "[88]\tvalidation_0-rmse:0.378559\tvalidation_1-rmse:0.399928\n",
      "[89]\tvalidation_0-rmse:0.378016\tvalidation_1-rmse:0.399702\n",
      "[90]\tvalidation_0-rmse:0.377705\tvalidation_1-rmse:0.399521\n",
      "[91]\tvalidation_0-rmse:0.377452\tvalidation_1-rmse:0.39943\n",
      "[92]\tvalidation_0-rmse:0.377209\tvalidation_1-rmse:0.399366\n",
      "[93]\tvalidation_0-rmse:0.376915\tvalidation_1-rmse:0.399147\n",
      "[94]\tvalidation_0-rmse:0.376491\tvalidation_1-rmse:0.39888\n",
      "[95]\tvalidation_0-rmse:0.376106\tvalidation_1-rmse:0.398626\n",
      "[96]\tvalidation_0-rmse:0.375881\tvalidation_1-rmse:0.398537\n",
      "[97]\tvalidation_0-rmse:0.375641\tvalidation_1-rmse:0.398417\n",
      "[98]\tvalidation_0-rmse:0.375508\tvalidation_1-rmse:0.398355\n",
      "[99]\tvalidation_0-rmse:0.375307\tvalidation_1-rmse:0.398295\n",
      "[100]\tvalidation_0-rmse:0.375092\tvalidation_1-rmse:0.398191\n",
      "[101]\tvalidation_0-rmse:0.374774\tvalidation_1-rmse:0.398123\n",
      "[102]\tvalidation_0-rmse:0.374496\tvalidation_1-rmse:0.398016\n",
      "[103]\tvalidation_0-rmse:0.374337\tvalidation_1-rmse:0.397921\n",
      "[104]\tvalidation_0-rmse:0.374191\tvalidation_1-rmse:0.397871\n",
      "[105]\tvalidation_0-rmse:0.374097\tvalidation_1-rmse:0.397827\n",
      "[106]\tvalidation_0-rmse:0.373728\tvalidation_1-rmse:0.397588\n",
      "[107]\tvalidation_0-rmse:0.373199\tvalidation_1-rmse:0.39727\n",
      "[108]\tvalidation_0-rmse:0.373008\tvalidation_1-rmse:0.397164\n",
      "[109]\tvalidation_0-rmse:0.372844\tvalidation_1-rmse:0.397067\n",
      "[110]\tvalidation_0-rmse:0.372687\tvalidation_1-rmse:0.397013\n",
      "[111]\tvalidation_0-rmse:0.37248\tvalidation_1-rmse:0.396939\n",
      "[112]\tvalidation_0-rmse:0.372327\tvalidation_1-rmse:0.396886\n",
      "[113]\tvalidation_0-rmse:0.372135\tvalidation_1-rmse:0.396823\n",
      "[114]\tvalidation_0-rmse:0.371876\tvalidation_1-rmse:0.396756\n",
      "[115]\tvalidation_0-rmse:0.371688\tvalidation_1-rmse:0.396675\n",
      "[116]\tvalidation_0-rmse:0.371485\tvalidation_1-rmse:0.396609\n",
      "[117]\tvalidation_0-rmse:0.371303\tvalidation_1-rmse:0.3965\n",
      "[118]\tvalidation_0-rmse:0.371212\tvalidation_1-rmse:0.396489\n",
      "[119]\tvalidation_0-rmse:0.37105\tvalidation_1-rmse:0.396424\n",
      "[120]\tvalidation_0-rmse:0.370908\tvalidation_1-rmse:0.396395\n",
      "[121]\tvalidation_0-rmse:0.370739\tvalidation_1-rmse:0.39637\n",
      "[122]\tvalidation_0-rmse:0.370673\tvalidation_1-rmse:0.396312\n",
      "[123]\tvalidation_0-rmse:0.370619\tvalidation_1-rmse:0.396305\n",
      "[124]\tvalidation_0-rmse:0.370483\tvalidation_1-rmse:0.396235\n",
      "[125]\tvalidation_0-rmse:0.370198\tvalidation_1-rmse:0.396116\n",
      "[126]\tvalidation_0-rmse:0.370033\tvalidation_1-rmse:0.396018\n",
      "[127]\tvalidation_0-rmse:0.369617\tvalidation_1-rmse:0.395778\n",
      "[128]\tvalidation_0-rmse:0.369508\tvalidation_1-rmse:0.395771\n",
      "[129]\tvalidation_0-rmse:0.369351\tvalidation_1-rmse:0.395687\n",
      "[130]\tvalidation_0-rmse:0.369156\tvalidation_1-rmse:0.395654\n",
      "[131]\tvalidation_0-rmse:0.369011\tvalidation_1-rmse:0.395633\n",
      "[132]\tvalidation_0-rmse:0.368959\tvalidation_1-rmse:0.395608\n",
      "[133]\tvalidation_0-rmse:0.368808\tvalidation_1-rmse:0.39558\n",
      "[134]\tvalidation_0-rmse:0.368532\tvalidation_1-rmse:0.395575\n",
      "[135]\tvalidation_0-rmse:0.368421\tvalidation_1-rmse:0.395533\n",
      "[136]\tvalidation_0-rmse:0.36822\tvalidation_1-rmse:0.395457\n"
     ]
    },
    {
     "name": "stdout",
     "output_type": "stream",
     "text": [
      "[137]\tvalidation_0-rmse:0.368041\tvalidation_1-rmse:0.395407\n",
      "[138]\tvalidation_0-rmse:0.367965\tvalidation_1-rmse:0.395393\n",
      "[139]\tvalidation_0-rmse:0.36788\tvalidation_1-rmse:0.395354\n",
      "[140]\tvalidation_0-rmse:0.36771\tvalidation_1-rmse:0.395299\n",
      "[141]\tvalidation_0-rmse:0.36759\tvalidation_1-rmse:0.395218\n",
      "[142]\tvalidation_0-rmse:0.367433\tvalidation_1-rmse:0.395144\n",
      "[143]\tvalidation_0-rmse:0.367361\tvalidation_1-rmse:0.395107\n",
      "[144]\tvalidation_0-rmse:0.367044\tvalidation_1-rmse:0.394923\n",
      "[145]\tvalidation_0-rmse:0.36699\tvalidation_1-rmse:0.394917\n",
      "[146]\tvalidation_0-rmse:0.36683\tvalidation_1-rmse:0.394883\n",
      "[147]\tvalidation_0-rmse:0.366645\tvalidation_1-rmse:0.394804\n",
      "[148]\tvalidation_0-rmse:0.366342\tvalidation_1-rmse:0.394695\n",
      "[149]\tvalidation_0-rmse:0.366185\tvalidation_1-rmse:0.394639\n",
      "[150]\tvalidation_0-rmse:0.366102\tvalidation_1-rmse:0.394605\n",
      "[151]\tvalidation_0-rmse:0.365989\tvalidation_1-rmse:0.394584\n",
      "[152]\tvalidation_0-rmse:0.365936\tvalidation_1-rmse:0.394563\n",
      "[153]\tvalidation_0-rmse:0.365842\tvalidation_1-rmse:0.394531\n",
      "[154]\tvalidation_0-rmse:0.365641\tvalidation_1-rmse:0.3945\n",
      "[155]\tvalidation_0-rmse:0.365438\tvalidation_1-rmse:0.394492\n",
      "[156]\tvalidation_0-rmse:0.365229\tvalidation_1-rmse:0.394424\n",
      "[157]\tvalidation_0-rmse:0.365069\tvalidation_1-rmse:0.394393\n",
      "[158]\tvalidation_0-rmse:0.364908\tvalidation_1-rmse:0.394346\n",
      "[159]\tvalidation_0-rmse:0.364672\tvalidation_1-rmse:0.394207\n",
      "[160]\tvalidation_0-rmse:0.364468\tvalidation_1-rmse:0.394127\n",
      "[161]\tvalidation_0-rmse:0.364291\tvalidation_1-rmse:0.39403\n",
      "[162]\tvalidation_0-rmse:0.364216\tvalidation_1-rmse:0.393996\n",
      "[163]\tvalidation_0-rmse:0.364146\tvalidation_1-rmse:0.393985\n",
      "[164]\tvalidation_0-rmse:0.363962\tvalidation_1-rmse:0.393934\n",
      "[165]\tvalidation_0-rmse:0.363569\tvalidation_1-rmse:0.393714\n",
      "[166]\tvalidation_0-rmse:0.363509\tvalidation_1-rmse:0.393698\n",
      "[167]\tvalidation_0-rmse:0.363174\tvalidation_1-rmse:0.393497\n",
      "[168]\tvalidation_0-rmse:0.363116\tvalidation_1-rmse:0.393498\n",
      "[169]\tvalidation_0-rmse:0.363036\tvalidation_1-rmse:0.393468\n",
      "[170]\tvalidation_0-rmse:0.362872\tvalidation_1-rmse:0.393449\n",
      "[171]\tvalidation_0-rmse:0.362735\tvalidation_1-rmse:0.393392\n",
      "[172]\tvalidation_0-rmse:0.362581\tvalidation_1-rmse:0.393302\n",
      "[173]\tvalidation_0-rmse:0.362506\tvalidation_1-rmse:0.393308\n",
      "[174]\tvalidation_0-rmse:0.362409\tvalidation_1-rmse:0.393295\n",
      "[175]\tvalidation_0-rmse:0.362177\tvalidation_1-rmse:0.393167\n",
      "[176]\tvalidation_0-rmse:0.362031\tvalidation_1-rmse:0.39318\n",
      "[177]\tvalidation_0-rmse:0.361821\tvalidation_1-rmse:0.393139\n",
      "[178]\tvalidation_0-rmse:0.361536\tvalidation_1-rmse:0.393003\n",
      "[179]\tvalidation_0-rmse:0.361488\tvalidation_1-rmse:0.393005\n",
      "[180]\tvalidation_0-rmse:0.361305\tvalidation_1-rmse:0.392956\n",
      "[181]\tvalidation_0-rmse:0.36109\tvalidation_1-rmse:0.39293\n",
      "[182]\tvalidation_0-rmse:0.360954\tvalidation_1-rmse:0.392861\n",
      "[183]\tvalidation_0-rmse:0.360889\tvalidation_1-rmse:0.392857\n",
      "[184]\tvalidation_0-rmse:0.360763\tvalidation_1-rmse:0.392826\n",
      "[185]\tvalidation_0-rmse:0.360727\tvalidation_1-rmse:0.39283\n",
      "[186]\tvalidation_0-rmse:0.360544\tvalidation_1-rmse:0.392771\n",
      "[187]\tvalidation_0-rmse:0.360454\tvalidation_1-rmse:0.392758\n",
      "[188]\tvalidation_0-rmse:0.360386\tvalidation_1-rmse:0.392746\n",
      "[189]\tvalidation_0-rmse:0.36026\tvalidation_1-rmse:0.392719\n",
      "[190]\tvalidation_0-rmse:0.360211\tvalidation_1-rmse:0.392703\n",
      "[191]\tvalidation_0-rmse:0.360121\tvalidation_1-rmse:0.392664\n",
      "[192]\tvalidation_0-rmse:0.360101\tvalidation_1-rmse:0.39266\n",
      "[193]\tvalidation_0-rmse:0.359959\tvalidation_1-rmse:0.392633\n",
      "[194]\tvalidation_0-rmse:0.359849\tvalidation_1-rmse:0.392556\n",
      "[195]\tvalidation_0-rmse:0.359815\tvalidation_1-rmse:0.392545\n",
      "[196]\tvalidation_0-rmse:0.35969\tvalidation_1-rmse:0.392548\n",
      "[197]\tvalidation_0-rmse:0.359657\tvalidation_1-rmse:0.392552\n",
      "[198]\tvalidation_0-rmse:0.359586\tvalidation_1-rmse:0.392548\n",
      "[199]\tvalidation_0-rmse:0.359476\tvalidation_1-rmse:0.39253\n",
      "Wall time: 36.5 s\n"
     ]
    },
    {
     "data": {
      "text/plain": [
       "XGBRegressor(base_score=0.5, booster='gbtree', colsample_bylevel=1,\n",
       "             colsample_bynode=1, colsample_bytree=0.7, gamma=1,\n",
       "             importance_type='gain', learning_rate=0.08, max_delta_step=0,\n",
       "             max_depth=6, min_child_weight=1, missing=None, n_estimators=200,\n",
       "             n_jobs=1, nthread=None, objective='reg:linear', random_state=123,\n",
       "             reg_alpha=0, reg_lambda=1, scale_pos_weight=1, seed=None,\n",
       "             silent=None, subsample=0.8, verbosity=1)"
      ]
     },
     "execution_count": 70,
     "metadata": {},
     "output_type": "execute_result"
    }
   ],
   "source": [
    "eval_set = [(X_train_numeric, y_train_numeric), (X_test_train_numeric, y_test_train_numeric)]\n",
    "eval_metric = [\"rmse\"]\n",
    "xgb_boost_fine = xgb.XGBRegressor(learning_rate=0.08, n_estimators=200, max_depth=6, subsample=0.8, colsample_bytree=0.7,gamma=1, random_state=123)\n",
    "%time xgb_boost_fine.fit(X_train_numeric, y_train_numeric, eval_metric=eval_metric, eval_set=eval_set, verbose=True)"
   ]
  },
  {
   "cell_type": "markdown",
   "metadata": {},
   "source": [
    "The model's performance has increased since the error on unseen data has reduced. Let us cross validate this model before building out final model"
   ]
  },
  {
   "cell_type": "code",
   "execution_count": 71,
   "metadata": {},
   "outputs": [
    {
     "name": "stdout",
     "output_type": "stream",
     "text": [
      "Train Index:  [14357 14358 14359 ... 71778 71779 71780] \n",
      "\n",
      "Test Index:  [    0     1     2 ... 14354 14355 14356]\n",
      "[16:47:57] WARNING: C:/Jenkins/workspace/xgboost-win64_release_0.90/src/objective/regression_obj.cu:152: reg:linear is now deprecated in favor of reg:squarederror.\n",
      "Train Index:  [    0     1     2 ... 71778 71779 71780] \n",
      "\n",
      "Test Index:  [14357 14358 14359 ... 28710 28711 28712]\n",
      "[16:48:33] WARNING: C:/Jenkins/workspace/xgboost-win64_release_0.90/src/objective/regression_obj.cu:152: reg:linear is now deprecated in favor of reg:squarederror.\n",
      "Train Index:  [    0     1     2 ... 71778 71779 71780] \n",
      "\n",
      "Test Index:  [28713 28714 28715 ... 43066 43067 43068]\n",
      "[16:48:59] WARNING: C:/Jenkins/workspace/xgboost-win64_release_0.90/src/objective/regression_obj.cu:152: reg:linear is now deprecated in favor of reg:squarederror.\n",
      "Train Index:  [    0     1     2 ... 71778 71779 71780] \n",
      "\n",
      "Test Index:  [43069 43070 43071 ... 57422 57423 57424]\n",
      "[16:49:26] WARNING: C:/Jenkins/workspace/xgboost-win64_release_0.90/src/objective/regression_obj.cu:152: reg:linear is now deprecated in favor of reg:squarederror.\n",
      "Train Index:  [    0     1     2 ... 57422 57423 57424] \n",
      "\n",
      "Test Index:  [57425 57426 57427 ... 71778 71779 71780]\n",
      "[16:49:57] WARNING: C:/Jenkins/workspace/xgboost-win64_release_0.90/src/objective/regression_obj.cu:152: reg:linear is now deprecated in favor of reg:squarederror.\n"
     ]
    },
    {
     "data": {
      "text/plain": [
       "['0.3909924621653909',\n",
       " '0.3933565397384307',\n",
       " '0.3838292671447529',\n",
       " '0.388501715053334',\n",
       " '0.392166277592976']"
      ]
     },
     "execution_count": 71,
     "metadata": {},
     "output_type": "execute_result"
    }
   ],
   "source": [
    "check_cross_validate(train_numeric, xgb_boost_fine.get_params())"
   ]
  },
  {
   "cell_type": "code",
   "execution_count": 72,
   "metadata": {},
   "outputs": [
    {
     "name": "stdout",
     "output_type": "stream",
     "text": [
      "[16:50:25] WARNING: C:/Jenkins/workspace/xgboost-win64_release_0.90/src/objective/regression_obj.cu:152: reg:linear is now deprecated in favor of reg:squarederror.\n"
     ]
    },
    {
     "data": {
      "text/plain": [
       "'0.39253046606080316'"
      ]
     },
     "execution_count": 72,
     "metadata": {},
     "output_type": "execute_result"
    }
   ],
   "source": [
    "xgb_try_three = xgb.XGBRegressor(**xgb_boost_fine.get_params())\n",
    "xgb_try_three.fit(X_train_numeric, y_train_numeric, verbose=True)\n",
    "predict_values = xgb_try_three.predict(X_test_train_numeric)\n",
    "rmse = str(np.sqrt(np.mean((y_test_train_numeric - predict_values)**2)))\n",
    "rmse"
   ]
  },
  {
   "cell_type": "markdown",
   "metadata": {},
   "source": [
    "Generate the Prediction Values"
   ]
  },
  {
   "cell_type": "code",
   "execution_count": 73,
   "metadata": {},
   "outputs": [],
   "source": [
    "predicts = xgb_try_three.predict(test_numeric)"
   ]
  },
  {
   "cell_type": "code",
   "execution_count": 74,
   "metadata": {},
   "outputs": [
    {
     "data": {
      "text/plain": [
       "<seaborn.axisgrid.JointGrid at 0x27b936090c8>"
      ]
     },
     "execution_count": 74,
     "metadata": {},
     "output_type": "execute_result"
    },
    {
     "data": {
      "image/png": "[encoded data removed]",
      "text/plain": [
       "<Figure size 432x432 with 3 Axes>"
      ]
     },
     "metadata": {
      "needs_background": "light"
     },
     "output_type": "display_data"
    }
   ],
   "source": [
    "sns.jointplot(x=predict_values,y=y_test_train_numeric,joint_kws={'line_kws':{'color':'cyan'}},kind='reg')"
   ]
  },
  {
   "cell_type": "code",
   "execution_count": 75,
   "metadata": {},
   "outputs": [
    {
     "data": {
      "text/plain": [
       "<matplotlib.axes._subplots.AxesSubplot at 0x27b9263d788>"
      ]
     },
     "execution_count": 75,
     "metadata": {},
     "output_type": "execute_result"
    },
    {
     "data": {
      "image/png": "[encoded data removed]",
      "text/plain": [
       "<Figure size 432x288 with 1 Axes>"
      ]
     },
     "metadata": {
      "needs_background": "light"
     },
     "output_type": "display_data"
    }
   ],
   "source": [
    "sns.distplot((predict_values - y_test_train_numeric), bins = 20)"
   ]
  },
  {
   "cell_type": "code",
   "execution_count": 76,
   "metadata": {},
   "outputs": [],
   "source": [
    "pd.DataFrame({\"id\":log_ids.values,\"log_price\":predicts}).to_csv(\"Revannth_submission.csv\",index=False)"
   ]
  }
 ],
 "metadata": {
  "kernelspec": {
   "display_name": "Python 3",
   "language": "python",
   "name": "python3"
  },
  "language_info": {
   "codemirror_mode": {
    "name": "ipython",
    "version": 3
   },
   "file_extension": ".py",
   "mimetype": "text/x-python",
   "name": "python",
   "nbconvert_exporter": "python",
   "pygments_lexer": "ipython3",
   "version": "3.7.4"
  }
 },
 "nbformat": 4,
 "nbformat_minor": 2
}
